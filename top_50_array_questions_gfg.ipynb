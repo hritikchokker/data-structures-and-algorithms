{
 "cells": [
  {
   "cell_type": "markdown",
   "metadata": {},
   "source": [
    "# Peak element \n",
    "\n",
    "A peak element in an array is the one that is not smaller than its neighbours.\n",
    "Given an array arr[] of size N, find the index of any one of its peak elements.\n",
    "Note: The generated output will always be 1 if the index that you return is correct. Otherwise output will be 0. \n",
    "\n",
    "\n",
    "Example 1:\n",
    "\n",
    "Input:\n",
    "N = 3\n",
    "arr[] = {1,2,3}\n",
    "Output: 1\n",
    "Explanation: index 2 is 3.\n",
    "It is the peak element as it is \n",
    "greater than its neighbour 2.\n",
    "\n",
    "Example 2:\n",
    "\n",
    "Input:\n",
    "N = 2\n",
    "arr[] = {3,4}\n",
    "Output: 1\n",
    "Explanation: 4 (at index 1) is the \n",
    "peak element as it is greater than \n",
    "its only neighbour element 3.\n"
   ]
  },
  {
   "cell_type": "code",
   "execution_count": 4,
   "metadata": {},
   "outputs": [
    {
     "name": "stdout",
     "output_type": "stream",
     "text": [
      "1\n"
     ]
    }
   ],
   "source": [
    "class Solution:   \n",
    "    def peakElement(self,arr, n):\n",
    "        if len(arr)==1:\n",
    "            return 1\n",
    "        index=-1\n",
    "        for i in range(n-1):\n",
    "            if arr[i]<arr[i+1]:\n",
    "                index=i+1\n",
    "        return index\n",
    "sol = Solution()\n",
    "print(sol.peakElement([15],1))"
   ]
  },
  {
   "cell_type": "code",
   "execution_count": null,
   "metadata": {},
   "outputs": [],
   "source": []
  },
  {
   "cell_type": "code",
   "execution_count": null,
   "metadata": {},
   "outputs": [],
   "source": []
  }
 ],
 "metadata": {
  "kernelspec": {
   "display_name": "Python 3",
   "language": "python",
   "name": "python3"
  },
  "language_info": {
   "codemirror_mode": {
    "name": "ipython",
    "version": 3
   },
   "file_extension": ".py",
   "mimetype": "text/x-python",
   "name": "python",
   "nbconvert_exporter": "python",
   "pygments_lexer": "ipython3",
   "version": "3.7.3"
  }
 },
 "nbformat": 4,
 "nbformat_minor": 2
}
