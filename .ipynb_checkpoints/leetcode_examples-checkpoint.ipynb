{
 "cells": [
  {
   "cell_type": "code",
   "execution_count": 10,
   "metadata": {},
   "outputs": [
    {
     "name": "stdout",
     "output_type": "stream",
     "text": [
      "3 3\n",
      "6\n",
      "[0, 1]\n"
     ]
    }
   ],
   "source": [
    "# sum of two \n",
    "def twoSum(nums,target):\n",
    "    result=[]\n",
    "    for i in range(len(nums)):\n",
    "        if abs(target-nums[i]) in nums:\n",
    "            result.append(i)\n",
    "    return result\n",
    "nums=[int(x) for x in input().split()]\n",
    "target=int(input())\n",
    "print(twoSum(nums,target))\n",
    "# 2 7 11 15\n",
    "# 9"
   ]
  },
  {
   "cell_type": "code",
   "execution_count": 27,
   "metadata": {},
   "outputs": [
    {
     "name": "stdout",
     "output_type": "stream",
     "text": [
      "3 4 2\n",
      "4 6 5\n",
      "[7, 0, 7]\n"
     ]
    }
   ],
   "source": [
    "# add two numbers in a separate  list\n",
    "\n",
    "def sumTwoList(a,b):\n",
    "    i=0\n",
    "    j=0\n",
    "    result=[]\n",
    "    carry=0\n",
    "    # 8,9,9,9,0,0,0,1 output\n",
    "    # 9 9 9 9 9 9 9\n",
    "    # 9 9 9 9\n",
    "    # [8, 9, 9, 9, 9, 9, 9]\n",
    "    while i< len(a) and j<len(b):\n",
    "        sm=a[i]+b[j]\n",
    "        if sm>9:            \n",
    "            val=sm%10            \n",
    "            car=sm//10\n",
    "            if carry>0:\n",
    "                val+=carry\n",
    "                result.append(val)\n",
    "            else:\n",
    "                result.append(val)\n",
    "                carry=car\n",
    "        else:\n",
    "            result.append(sm)\n",
    "#             carry=0\n",
    "        i+=1\n",
    "        j+=1\n",
    "        \n",
    "    while i<len(a):\n",
    "        result.append(a[i])\n",
    "        i+=1\n",
    "    while j<len(b):\n",
    "        result.append(b[j])\n",
    "        j+=1\n",
    "    return result\n",
    "a=[int(x)for x in input().split()]\n",
    "b=[int(x)for x in input().split()]\n",
    "print(sumTwoList(a,b))\n"
   ]
  },
  {
   "cell_type": "code",
   "execution_count": 35,
   "metadata": {},
   "outputs": [
    {
     "name": "stdout",
     "output_type": "stream",
     "text": [
      "11234\n",
      "43211\n"
     ]
    }
   ],
   "source": [
    "## reverse a integer\n",
    "def reverseInt(num,res=\"\"):\n",
    "    if num==0:\n",
    "        return res\n",
    "    n=num//10\n",
    "    r=num%10\n",
    "    res+=str(r)\n",
    "    return reverseInt(n,res)\n",
    "#     123\n",
    "num = int(input())    \n",
    "print(reverseInt(num))"
   ]
  },
  {
   "cell_type": "code",
   "execution_count": 1,
   "metadata": {},
   "outputs": [
    {
     "data": {
      "text/plain": [
       "12"
      ]
     },
     "execution_count": 1,
     "metadata": {},
     "output_type": "execute_result"
    }
   ],
   "source": [
    "#  Longest Common Prefix\n",
    "# Input: strs = [\"flower\",\"flow\",\"flight\"]\n",
    "# Output: \"fl\"\n",
    "\n",
    "def longestCommonPrefix(lst):\n",
    "    pass\n",
    "lst=[int(x) for x in input().split()]\n",
    "print(longestCommonPrefix(lst))"
   ]
  },
  {
   "cell_type": "code",
   "execution_count": 75,
   "metadata": {},
   "outputs": [
    {
     "name": "stdout",
     "output_type": "stream",
     "text": [
      "PAYPALISHIRING\n",
      "3\n",
      "PAHNAPLSIIGYIR"
     ]
    }
   ],
   "source": [
    "# ZigZag Conversion\n",
    "\n",
    "def zigZagConversion(s,row):\n",
    "    if(row == 1 or len(s)<row):\n",
    "        return s\n",
    "    rows = [[] for i in range(row)]\n",
    "    currentRow = 0\n",
    "    reverse = False\n",
    "    for i in range(len(s)):\n",
    "#         PAYPALISHIRING\n",
    "        rows[currentRow].append(s[i])\n",
    "        if reverse is False:\n",
    "            currentRow+=1\n",
    "        else:\n",
    "            currentRow-=1\n",
    "        if(currentRow == row-1 or currentRow==0):\n",
    "            reverse = not(reverse)\n",
    "    return rows\n",
    "arr = input()\n",
    "row=int(input())\n",
    "result =zigZagConversion(arr,row)\n",
    "for i in result:\n",
    "    for j in i:\n",
    "        print(j,end='')"
   ]
  },
  {
   "cell_type": "code",
   "execution_count": 82,
   "metadata": {},
   "outputs": [
    {
     "name": "stdout",
     "output_type": "stream",
     "text": [
      "ghajklsd\n",
      "['ghajklsd']\n"
     ]
    }
   ],
   "source": [
    "def longestPalindrome(string):\n",
    "    print(string)\n",
    "string = input().split()\n",
    "longestPalindrome(string)"
   ]
  },
  {
   "cell_type": "code",
   "execution_count": 1,
   "metadata": {},
   "outputs": [
    {
     "name": "stdout",
     "output_type": "stream",
     "text": [
      "5\n"
     ]
    }
   ],
   "source": [
    "# Remove Duplicates from Sorted Array\n",
    "def removeDuplicates(nums):\n",
    "    n=len(nums)\n",
    "    a=nums\n",
    "    for i in range(n-1,-1,-1):\n",
    "        if i != 0 and nums[i]==nums[i-1]:\n",
    "            del nums[i]\n",
    "    return len(nums)\n",
    "print(removeDuplicates([0,0,0,1,1,1,2,2,3,3,4]))"
   ]
  },
  {
   "cell_type": "code",
   "execution_count": 2,
   "metadata": {},
   "outputs": [
    {
     "name": "stdout",
     "output_type": "stream",
     "text": [
      "[]\n"
     ]
    }
   ],
   "source": [
    "# [-1,0,1,2,-1,-4]\n",
    "def threeSum_n3(lst):\n",
    "    n=len(lst)\n",
    "    result=[]\n",
    "    return result\n",
    "lst=[-1,0,1,2,-1,-4]\n",
    "print(threeSum_n3(lst))"
   ]
  },
  {
   "cell_type": "code",
   "execution_count": 202,
   "metadata": {},
   "outputs": [
    {
     "name": "stdout",
     "output_type": "stream",
     "text": [
      "2\n",
      "5\n"
     ]
    }
   ],
   "source": [
    "# Remove Element\n",
    "def removeElement(nums,val):\n",
    "    for i in range(len(nums)-1,-1,-1):\n",
    "        if nums[i]==val:\n",
    "            del nums[i]\n",
    "    return len(nums)        \n",
    "# nums = [int(x) for x in input()]\n",
    "val=int(input())\n",
    "print(removeElement([0,1,2,2,3,0,4,2],val))"
   ]
  },
  {
   "cell_type": "code",
   "execution_count": 39,
   "metadata": {},
   "outputs": [
    {
     "name": "stdout",
     "output_type": "stream",
     "text": [
      "[1, 3, 12, 0, 0]\n"
     ]
    }
   ],
   "source": [
    "#  Move Zeroes\n",
    "def moveZeroes(nums):\n",
    "    a=0\n",
    "    b=1\n",
    "    for i in range(len(nums)):\n",
    "        if a<len(nums) and b<len(nums): \n",
    "            if nums[a]==0 and nums[b]==0:\n",
    "                b+=1\n",
    "            elif nums[a]==0:\n",
    "                temp=nums[a]\n",
    "                nums[a]=nums[b]\n",
    "                nums[b]=temp  \n",
    "                a+=1\n",
    "                b+=1\n",
    "            else:\n",
    "                a+=1\n",
    "                b+=1   \n",
    "    return nums\n",
    "# nums=[int(x) for x in input().split()]\n",
    "# a=[0,1,0,3,12]\n",
    "# a=[4,0,2,0,0,9,3,0,0,9,0,0]\n",
    "print(moveZeroes([0,1,0,3,12]))"
   ]
  },
  {
   "cell_type": "code",
   "execution_count": 12,
   "metadata": {},
   "outputs": [
    {
     "name": "stdout",
     "output_type": "stream",
     "text": [
      "hello\n",
      "lll\n",
      "-1\n"
     ]
    }
   ],
   "source": [
    "# Implement strStr()\n",
    "def strStr(haystack,needle):\n",
    "    index=-1\n",
    "    needleLen = len(needle)\n",
    "    if(haystack==needle):\n",
    "        return 0\n",
    "    for i in range(len(haystack)):\n",
    "        if(haystack[i:i+needleLen] == needle):\n",
    "            index = i\n",
    "            break\n",
    "    return index        \n",
    "haystack=input()\n",
    "needle=input()\n",
    "print(strStr(haystack,needle))\n",
    "# Input: haystack = \"hello\", needle = \"ll\"\n",
    "# Output: 2    \n"
   ]
  },
  {
   "cell_type": "code",
   "execution_count": 3,
   "metadata": {},
   "outputs": [
    {
     "name": "stdout",
     "output_type": "stream",
     "text": [
      "0\n"
     ]
    }
   ],
   "source": [
    "# https://leetcode.com/problems/string-to-integer-atoi/\n",
    "def myAtoi(s: str) -> int:\n",
    "    return 0\n",
    "print(myAtoi('4193 with words'))"
   ]
  },
  {
   "cell_type": "code",
   "execution_count": 84,
   "metadata": {},
   "outputs": [
    {
     "name": "stdout",
     "output_type": "stream",
     "text": [
      "0\n"
     ]
    }
   ],
   "source": [
    "# https://leetcode.com/problems/search-insert-position/\n",
    "# Input: nums = [1,3,5,6], target = 7\n",
    "# Output: 4\n",
    "\n",
    "def binarySearch(lst,target,count=0):\n",
    "    if len(lst)==1:\n",
    "        return False\n",
    "    if len(lst) %2==0:\n",
    "        mid=len(lst)//2-1    \n",
    "    mid=len(lst)//2\n",
    "    count=mid+count\n",
    "    if target > lst[mid]:\n",
    "        return binarySearch(lst[mid:],target,count)\n",
    "    elif target <lst[mid]:\n",
    "        return binarySearch(lst[:mid],target,count)\n",
    "    else:\n",
    "        return True\n",
    "lst=[1,3,5,6]\n",
    "n=len(lst)\n",
    "target=0\n",
    "def findIndex(lst,target):\n",
    "    if target is 0:\n",
    "        return 0\n",
    "    if len(lst)==0:        \n",
    "        return 0    \n",
    "    if len(lst)==1:\n",
    "        return lst[0]\n",
    "    if target == lst[0]:\n",
    "        return 0\n",
    "    if target < lst[0]:\n",
    "        return 0\n",
    "    if target == lst[len(lst)-1]:\n",
    "        return len(lst)-1\n",
    "    if target >lst[len(lst)-1]:\n",
    "        return len(lst)\n",
    "    if target == lst[len(lst)//2]:\n",
    "        return len(lst)//2\n",
    "    i=0\n",
    "    j=len(lst)-1\n",
    "    while i<j:\n",
    "        if target == lst[i]:\n",
    "            return i\n",
    "        if target == lst[j]:\n",
    "            return j\n",
    "        if target == lst[i+1]:\n",
    "            return i+1\n",
    "        if target == lst[j-1]:\n",
    "            return j-1\n",
    "        if target > lst[i] and target < lst[i+1]:\n",
    "            return i+1\n",
    "        if target < lst[j] and target >lst[j-1]:\n",
    "            return j\n",
    "        i=i+1\n",
    "        j=j-1\n",
    "# result =binarySearch([1,3,5,6],2)\n",
    "# print(result)\n",
    "# print(findIndex([1,4,6,7,8,9],5))\n",
    "# print(findIndex([1,3,5,6],0))\n",
    "print(findIndex([2,5],1))"
   ]
  },
  {
   "cell_type": "code",
   "execution_count": null,
   "metadata": {},
   "outputs": [],
   "source": [
    "# https://leetcode.com/problems/first-bad-version/\n",
    "# The isBadVersion API is already defined for you.\n",
    "# @param version, an integer\n",
    "# @return an integer\n",
    "# def isBadVersion(version):\n",
    "\n",
    "# Input: n = 5, bad = 4\n",
    "# Output: 4\n",
    "# Explanation:\n",
    "# call isBadVersion(3) -> false\n",
    "# call isBadVersion(5) -> true\n",
    "# call isBadVersion(4) -> true\n",
    "# Then 4 is the first bad version.\n",
    "\n",
    "class Solution:\n",
    "    def firstBadVersion(self, n):\n",
    "        \"\"\"\n",
    "        :type n: int\n",
    "        :rtype: int\n",
    "        \"\"\"\n",
    "        mn = n\n",
    "        l,r = 1,n\n",
    "        while l<=r:\n",
    "            mid = (l+r)//2\n",
    "            if isBadVersion(mid)==True:\n",
    "                mn = min(mn,mid)\n",
    "                r = mid-1\n",
    "            elif isBadVersion(mid)==False:\n",
    "                l=mid+1\n",
    "        return mn\n",
    "# sol= Solution()        "
   ]
  },
  {
   "cell_type": "raw",
   "metadata": {},
   "source": [
    "# https://leetcode.com/problems/find-first-and-last-position-of-element-in-sorted-array/\n",
    "\n",
    "\n",
    "Example 1:\n",
    "\n",
    "Input: nums = [5,7,7,8,8,10], target = 8\n",
    "Output: [3,4]\n",
    "\n",
    "Example 2:\n",
    "\n",
    "Input: nums = [5,7,7,8,8,10], target = 6\n",
    "Output: [-1,-1]\n",
    "\n",
    "Example 3:\n",
    "\n",
    "Input: nums = [], target = 0\n",
    "Output: [-1,-1]\n"
   ]
  },
  {
   "cell_type": "code",
   "execution_count": 2,
   "metadata": {},
   "outputs": [
    {
     "data": {
      "text/plain": [
       "[-1, -1]"
      ]
     },
     "execution_count": 2,
     "metadata": {},
     "output_type": "execute_result"
    }
   ],
   "source": [
    "class Solution:\n",
    "#     def findRepeat(lst):\n",
    "    def searchRange(self, nums, target):\n",
    "        n=len(nums)-1\n",
    "        if len(nums)==0:\n",
    "            return [-1,-1]\n",
    "        if len(nums)==1 and target >0:\n",
    "            return [0,0]\n",
    "        if n%2==0:\n",
    "            mid=n//2-1\n",
    "        else:\n",
    "            mid=n//2\n",
    "        midEl=nums[mid]\n",
    "        res=[]\n",
    "        if target >midEl:\n",
    "            for i in range(mid,n):\n",
    "                if target == nums[i]:\n",
    "                    res.append(i)\n",
    "        elif target <=midEl:\n",
    "            for i in range(0,mid+1):\n",
    "                if target == nums[i]:\n",
    "                    res.append(i)\n",
    "        if len(res)==0:\n",
    "            return [-1,-1]    \n",
    "        return res\n",
    "sol=Solution()    \n",
    "sol.searchRange([5,7,7,8,8,10],6)\n",
    "# sol.searchRange([2,3,4,5,5],5)"
   ]
  },
  {
   "cell_type": "code",
   "execution_count": 3,
   "metadata": {},
   "outputs": [
    {
     "name": "stdout",
     "output_type": "stream",
     "text": [
      "0 ii 8\n"
     ]
    },
    {
     "data": {
      "text/plain": [
       "[0, 5]"
      ]
     },
     "execution_count": 3,
     "metadata": {},
     "output_type": "execute_result"
    }
   ],
   "source": [
    "\"\"\"\n",
    "checking target is greater than mid or less\n",
    "then iterate on only half array\n",
    "\n",
    "time complexity =o(logn)\n",
    "space complexity = o(n)\n",
    "\n",
    "bad approach == searchRange()\n",
    "this will fail if the target is present on the mid of array\n",
    "\"\"\"\n",
    "class Solution:\n",
    "#     def findRepeat(lst):\n",
    "    def searchRangeDeprecate(self, nums, target):\n",
    "        n=len(nums)-1\n",
    "        if len(nums)==0:\n",
    "            return [-1,-1]\n",
    "        if len(nums)==1 and target >0:\n",
    "            return [0,0]\n",
    "        if n%2==0:\n",
    "            mid=n//2-1\n",
    "        else:\n",
    "            mid=n//2\n",
    "        midEl=nums[mid]\n",
    "        res=[]\n",
    "        if target >midEl:\n",
    "            for i in range(mid,n):\n",
    "                if target == nums[i]:\n",
    "                    res.append(i)\n",
    "        elif target <=midEl:\n",
    "            for i in range(0,mid+1):\n",
    "                if target == nums[i]:\n",
    "                    res.append(i)\n",
    "        if len(res)==0:\n",
    "            return [-1,-1]    \n",
    "        return res\n",
    "    # time complexity for this function will be log(n) and time complexity is o(1)\n",
    "    # res ,resi,resj list will never have items equals to length of array\n",
    "    def searchRange(self,nums,target):\n",
    "        n=len(nums)-1\n",
    "        resi=[]\n",
    "        resj=[]\n",
    "        flagI=False\n",
    "        flagJ=False\n",
    "        res=[-1,-1]\n",
    "        i=0\n",
    "        j=n\n",
    "        while i<=j:\n",
    "            if nums[i]==target and flagI is False:\n",
    "                print(i,'ii',nums[i])\n",
    "                resi.append(i)\n",
    "                flagI=True\n",
    "            if nums[j]==target and flagJ is False:\n",
    "                resj.append(j)\n",
    "                flagJ=True\n",
    "            if flagI is False and flagJ is False or flagJ is True:\n",
    "                i=i+1\n",
    "            if flagJ is False and flagI is False or flagI is True:\n",
    "                j=j-1\n",
    "        if len(resi)==0 and len(resj)==0:\n",
    "            return res\n",
    "        else:\n",
    "            res=[]\n",
    "            res.append(resi[0])\n",
    "            res.append(resj[0]) \n",
    "        return res\n",
    "sol=Solution()    \n",
    "# sol.searchRange([5,7,7,8,8,10],6)\n",
    "sol.searchRange([8,8,8,8,8,8],8)"
   ]
  },
  {
   "cell_type": "code",
   "execution_count": 1,
   "metadata": {},
   "outputs": [
    {
     "name": "stdout",
     "output_type": "stream",
     "text": [
      "156\n"
     ]
    }
   ],
   "source": [
    "#  Maximum Subarray\n",
    "# https://leetcode.com/problems/maximum-subarray/\n",
    "# Given an integer array nums,\n",
    "# find the contiguous subarray (containing at least one number) which has the largest sum and return its sum.\n",
    "\n",
    "# Example 1:\n",
    "\n",
    "# Input: nums = [-2,1,-3,4,-1,2,1,-5,4]\n",
    "# Output: 6\n",
    "# Explanation: [4,-1,2,1] has the largest sum = 6.\n",
    "\n",
    "# Example 2:\n",
    "\n",
    "# Input: nums = [1]\n",
    "# Output: 1\n",
    "\n",
    "# Example 3:\n",
    "\n",
    "# Input: nums = [5,4,-1,7,8]\n",
    "# Output: 23\n",
    "\n",
    "\n",
    "\"\"\"\n",
    "this type of problem can be solved in linear time by using kadane's algorithm\n",
    "\"\"\"\n",
    "class Solution:\n",
    "    def maxSubArray(self, nums):\n",
    "        if len(nums)==0:\n",
    "            return 0\n",
    "        if len(nums)==1:\n",
    "            return nums[0]\n",
    "        curr_max=glob_max=nums[0]\n",
    "        for i in range(1,len(nums)):\n",
    "            curr_max=max(nums[i],curr_max+nums[i])\n",
    "            if curr_max>glob_max:\n",
    "                glob_max=curr_max\n",
    "        return glob_max    \n",
    "sol = Solution()        \n",
    "print(sol.maxSubArray([74,-72,94,-53,-59,-3,-66,36,-13,22,73,15,-52,75]))"
   ]
  },
  {
   "cell_type": "code",
   "execution_count": null,
   "metadata": {},
   "outputs": [],
   "source": [
    "# https://leetcode.com/problems/find-the-duplicate-number/\n",
    "\n",
    "#  Find the Duplicate Number\n",
    "# Given an array of integers nums containing n + 1 integers where each integer is in the range [1, n] inclusive.\n",
    "\n",
    "# There is only one repeated number in nums, return this repeated number.\n",
    "\n",
    "# You must solve the problem without modifying the array nums and uses only constant extra space.\n",
    "\n",
    " \n",
    "\n",
    "# Example 1:\n",
    "\n",
    "# Input: nums = [1,3,4,2,2] #  [1,3,4,2,2]\n",
    "# Output: 2\n",
    "\n",
    "# Example 2:\n",
    "\n",
    "# Input: nums = [3,1,3,4,2]\n",
    "# Output: 3\n",
    "\n",
    "# Example 3:\n",
    "\n",
    "# Input: nums = [1,1]\n",
    "# Output: 1\n",
    "\n",
    "# Example 4:\n",
    "\n",
    "# Input: nums = [1,1,2]\n",
    "# Output: 1\n"
   ]
  },
  {
   "cell_type": "code",
   "execution_count": 68,
   "metadata": {},
   "outputs": [
    {
     "name": "stdout",
     "output_type": "stream",
     "text": [
      "1\n"
     ]
    }
   ],
   "source": [
    "class Solution:\n",
    "    \"\"\"\n",
    "    space complexity =o(1)\n",
    "    time complexity =o(n) \n",
    "    \n",
    "        this algo fill fail in cases when array have more than 1 duplicates, and also on large arrays\n",
    "    \"\"\"\n",
    "    def findDuplicateDeprecate(self,nums):\n",
    "        if len(nums)==0 or len(nums) ==1:\n",
    "            return 0\n",
    "        n=len(nums)-1\n",
    "        i=0\n",
    "        j=nums[n]\n",
    "        while i<=n:  #[4,3,1,4,2]  # i=0; i=1\n",
    "            if nums[i] == nums[j] and i !=j: # 4==2:false and 0!=4; 3==4 and 1!=3\n",
    "                return nums[j]\n",
    "            else:\n",
    "                if i >j:  # 0>4; 1>3\n",
    "                    j=n\n",
    "                    i=i+1\n",
    "                else:\n",
    "                    j=j-1  # j=3; j=2\n",
    "        return nums[0]\n",
    "    \"\"\" floyd's algorithm => tortoise and hare  space complexity o(1) time complexity o(n)\"\"\"\n",
    "    def findDuplicateFloyd(self,nums):\n",
    "        tortoise = hare = nums[0]\n",
    "        while True:\n",
    "            tortoise = nums[tortoise]\n",
    "            hare = nums[nums[hare]]\n",
    "            if tortoise == hare:\n",
    "                break\n",
    "        tortoise = nums[0]\n",
    "        while tortoise != hare:\n",
    "            tortoise = nums[tortoise]\n",
    "            hare = nums[hare]\n",
    "        return hare\n",
    "    \n",
    "    def findDuplicateOther(self, nums):\n",
    "        while nums[nums[0]] != nums[0]:\n",
    "            nums[nums[0]], nums[0] = nums[0], nums[nums[0]]\n",
    "        return nums[0]\n",
    "sol = Solution()    \n",
    "# print(sol.findDuplicate([1,3,4,2,2])) # 2\n",
    "print(sol.findDuplicateFloyd([1, 2, 3, 6, 3, 6, 1]))\n",
    "# print(sol.findDuplicate([1,1,2])) # 1\n",
    "# print(sol.findDuplicate([1,1])) # 1\n",
    "# print(sol.findDuplicate([3,1,3,4,2])) # 3\n",
    "# print(sol.findDuplicate([4,3,1,4,2])) # 4"
   ]
  },
  {
   "cell_type": "code",
   "execution_count": null,
   "metadata": {},
   "outputs": [],
   "source": []
  }
 ],
 "metadata": {
  "kernelspec": {
   "display_name": "Python 3",
   "language": "python",
   "name": "python3"
  },
  "language_info": {
   "codemirror_mode": {
    "name": "ipython",
    "version": 3
   },
   "file_extension": ".py",
   "mimetype": "text/x-python",
   "name": "python",
   "nbconvert_exporter": "python",
   "pygments_lexer": "ipython3",
   "version": "3.7.3"
  }
 },
 "nbformat": 4,
 "nbformat_minor": 2
}
