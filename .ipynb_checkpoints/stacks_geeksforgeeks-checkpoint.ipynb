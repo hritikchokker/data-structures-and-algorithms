{
 "cells": [
  {
   "cell_type": "markdown",
   "metadata": {},
   "source": [
    "# Evaluation of Postfix Expression \n",
    "\n",
    "Given string S representing a postfix expression, the task is to evaluate the expression and find the final value. Operators will only include the basic arithmetic operators like *, /, + and -.\n",
    "\n",
    " \n",
    "\n",
    "Example 1:\n",
    "\n",
    "Input: S = \"231*+9-\"\n",
    "Output: -4\n",
    "Explanation:\n",
    "After solving the given expression, \n",
    "we have -4 as result.\n",
    "\n",
    "Example 2:\n",
    "\n",
    "Input: S = \"123+*8-\"\n",
    "Output: -3\n",
    "Explanation:\n",
    "After solving the given postfix \n",
    "expression, we have -3 as result.\n"
   ]
  },
  {
   "cell_type": "code",
   "execution_count": 7,
   "metadata": {},
   "outputs": [
    {
     "name": "stdout",
     "output_type": "stream",
     "text": [
      "['1', '2', '3', '+', '*', '8', '-']\n",
      "3 None\n"
     ]
    }
   ],
   "source": [
    " \n",
    "from queue import LifoQueue\n",
    " \n",
    "class Solution:   \n",
    "    #Function to evaluate a postfix expression.\n",
    "    \n",
    "    def isOperator(self,string):\n",
    "        return string == '+' or string == '-' or string == '*' or string =='/'\n",
    "    def calcOperation(self,operation,firstVal,secondVal):\n",
    "        if operation == '+':\n",
    "            return int(firstVal) + int(secondVal)\n",
    "        if operation == '-':\n",
    "            return abs(int(firstVal) - int(secondVal))\n",
    "        if operation == '*':\n",
    "            return abs(int(firstVal) * int(secondVal))\n",
    "        return abs(int(firstVal)//int(secondVal))\n",
    "    def printStack(self,stack):\n",
    "        while stack.empty() is False:\n",
    "            print(stack.get(),end=\" \")\n",
    "    def evaluatePostfix(self, S):\n",
    "        arr=list(S)\n",
    "        l=len(arr)\n",
    "        stack = LifoQueue(maxsize =l)\n",
    "        print(arr)\n",
    "        finalstring=''\n",
    "        for i in range(l):\n",
    "            if self.isOperator(arr[i]) is False:\n",
    "                stack.put(arr[i])\n",
    "            else:\n",
    "                last = stack.get()\n",
    "                secondLast = stack.get()\n",
    "                if secondLast is None:\n",
    "                    val = arr[i]+ str(self.calcOperation(arr[i],last,secondLast))\n",
    "                    stack.put(val)\n",
    "                else:                    \n",
    "                    stack.put(self.calcOperation(arr[i],last,secondLast))\n",
    "        self.printStack(stack)\n",
    "        \n",
    "sol = Solution()        \n",
    "# print(sol.evaluatePostfix('231*+9-'))\n",
    "print(sol.evaluatePostfix('123+*8-'))"
   ]
  },
  {
   "cell_type": "markdown",
   "metadata": {},
   "source": [
    "# Check if a string is a subsequence of another string\n",
    "\n",
    "Given a string S, the task is to check if the string target is a subsequence of string S or not, using a Stack.\n",
    "\n",
    "Examples:\n",
    "\n",
    "Input: S = ”KOTTAYAM”, target = ”KOTA”\n",
    "Output: Yes\n",
    "Explanation: “KOTA” is a subsequence of “KOTTAYAM”.\n",
    "\n",
    "Input: S = ”GEEKSFORGEEKS”, target =”FORFOR”\n",
    "Output: No"
   ]
  },
  {
   "cell_type": "code",
   "execution_count": 9,
   "metadata": {},
   "outputs": [
    {
     "name": "stdout",
     "output_type": "stream",
     "text": [
      "True\n"
     ]
    }
   ],
   "source": [
    "def checkforSubsequence(string,target):\n",
    "    s=[]\n",
    "    for i in string:\n",
    "        s.append(i)\n",
    "    for i in range(len(string)-1,-1,-1):\n",
    "        if string[i] == s[-1]:\n",
    "            s.pop()\n",
    "    return len(s)==0\n",
    "print(checkforSubsequence('KOTTAYAM','KOTA'))"
   ]
  },
  {
   "cell_type": "markdown",
   "metadata": {},
   "source": [
    "# Sort a stack\n",
    "\n",
    "Given a stack, the task is to sort it such that the top of the stack has the greatest element.\n",
    "\n",
    "Example 1:\n",
    "\n",
    "Input:\n",
    "Stack: 3 2 1\n",
    "Output: 3 2 1\n",
    "Example 2:\n",
    "\n",
    "Input:\n",
    "Stack: 11 2 32 3 41\n",
    "Output: 41 32 11 3 2"
   ]
  },
  {
   "cell_type": "code",
   "execution_count": 27,
   "metadata": {},
   "outputs": [
    {
     "name": "stdout",
     "output_type": "stream",
     "text": [
      "6203 4626 5470 2039 5917 3406 5534 7005 2470 9854 4993 362 9820 3295 7196 4037 9405 8768 5405 1712 3215 3101 3752 2140 5438 4994 1760 9573 6271 3790 9624 2473 9494 6171 5590 5409 9577 2201 2412 3124 2053 8483 3485 2950 2856 1759 6986 3338 525 3469 5049 4819 6569 8801 6958 3084 4872 8717 3734 1141 2505 3357 3613 3077 605 280 8485 1259 2480 1975 5462 5611 456 8946 8561 4390 1782 6624 7728 3386 1170 2775 8204 7738\n",
      "[9854, 9820, 9624, 9577, 9573, 9494, 9405, 8946, 8801, 8768, 8717, 8561, 8485, 8483, 8204, 7738, 7728, 7196, 7005, 6986, 6958, 6624, 6569, 6271, 6203, 6171, 5917, 5611, 5590, 5534, 5470, 5462, 5438, 5409, 5405, 5049, 4994, 4993, 4872, 4819, 4626, 4390, 4037, 3790, 3752, 3734, 3613, 3485, 3469, 3406, 3386, 3357, 3338, 3295, 3215, 3124, 3101, 3084, 3077, 2950, 2856, 2775, 2505, 2480, 2473, 2470, 2412, 2201, 2140, 2053, 2039, 1975, 1782, 1760, 1759, 1712, 1259, 1170, 1141, 605, 525, 456, 362, 280]\n"
     ]
    }
   ],
   "source": [
    "def sortedFunc(s):\n",
    "    l=[]\n",
    "    length = len(s)\n",
    "    global_max=-9389176\n",
    "    for i in range(length):\n",
    "        curr_max = -28828282\n",
    "        index=-1\n",
    "        for j in range(length):\n",
    "            if s[j]> curr_max:\n",
    "                curr_max = s[j]\n",
    "                index=j\n",
    "        l.append(curr_max)\n",
    "        s.remove(curr_max)\n",
    "        length = len(s)\n",
    "    return l\n",
    "\n",
    "# print(sortedFunc([11,2,32,3,41]))\n",
    "num=[int(x) for x in input().split()]\n",
    "print(sortedFunc(num))"
   ]
  },
  {
   "cell_type": "markdown",
   "metadata": {},
   "source": [
    "# Next Greater Element \n",
    "\n",
    "Given an array arr[ ] of size N having distinct elements, the task is to find the next greater element for each element of the array in order of their appearance in the array.\n",
    "Next greater element of an element in the array is the nearest element on the right which is greater than the current element.\n",
    "If there does not exist next greater of current element, then next greater element for current element is -1. For example, next greater of the last element is always -1.\n",
    "\n",
    "Example 1:\n",
    "\n",
    "Input: \n",
    "N = 4, arr[] = [1 3 2 4]\n",
    "Output:\n",
    "3 4 4 -1\n",
    "Explanation:\n",
    "In the array, the next larger element \n",
    "to 1 is 3 , 3 is 4 , 2 is 4 and for 4 ? \n",
    "since it doesn't exist, it is -1.\n",
    "Example 2:\n",
    "\n",
    "Input: \n",
    "N = 5, arr[] [6 8 0 1 3]\n",
    "Output:\n",
    "8 -1 1 3 -1\n",
    "Explanation:\n",
    "In the array, the next larger element to \n",
    "6 is 8, for 8 there is no larger elements \n",
    "hence it is -1, for 0 it is 1 , for 1 it \n",
    "is 3 and then for 3 there is no larger \n",
    "element on right and hence -1."
   ]
  },
  {
   "cell_type": "code",
   "execution_count": 41,
   "metadata": {},
   "outputs": [
    {
     "name": "stdout",
     "output_type": "stream",
     "text": [
      "[3, 4, 4, -1]\n",
      "[8, -1, 1, 3, -1]\n"
     ]
    }
   ],
   "source": [
    "class Solution:\n",
    "    def nextLargerElement(self,arr,n):\n",
    "        s=[]\n",
    "        for i in range(n):\n",
    "            for j in range(i+1,n):\n",
    "                if j== n-1 and arr[i]>arr[j]:\n",
    "                    s.append(-1)\n",
    "                    break\n",
    "                if arr[i]<arr[j]:\n",
    "                    s.append(arr[j])\n",
    "                    break\n",
    "        s.append(-1)\n",
    "        return s\n",
    "        \n",
    "sol = Solution()        \n",
    "print(sol.nextLargerElement([1,3,2,4],4))\n",
    "print(sol.nextLargerElement([6,8,0,1,3],5))\n"
   ]
  },
  {
   "cell_type": "code",
   "execution_count": null,
   "metadata": {},
   "outputs": [],
   "source": []
  }
 ],
 "metadata": {
  "kernelspec": {
   "display_name": "Python 3",
   "language": "python",
   "name": "python3"
  },
  "language_info": {
   "codemirror_mode": {
    "name": "ipython",
    "version": 3
   },
   "file_extension": ".py",
   "mimetype": "text/x-python",
   "name": "python",
   "nbconvert_exporter": "python",
   "pygments_lexer": "ipython3",
   "version": "3.7.3"
  }
 },
 "nbformat": 4,
 "nbformat_minor": 2
}
