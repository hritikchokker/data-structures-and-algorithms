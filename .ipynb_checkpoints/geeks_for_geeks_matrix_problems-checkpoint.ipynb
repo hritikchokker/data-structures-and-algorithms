{
 "cells": [
  {
   "cell_type": "markdown",
   "metadata": {},
   "source": [
    "# Spirally traversing a matrix \n",
    "Given a matrix of size r*c. Traverse the matrix in spiral form.\n",
    "\n",
    "Example 1:\n",
    "\n",
    "Input:\n",
    "r = 4, c = 4\n",
    "matrix[][] = {{1, 2, 3, 4},\n",
    "           {5, 6, 7, 8},\n",
    "           {9, 10, 11, 12},\n",
    "           {13, 14, 15,16}}\n",
    "Output: \n",
    "1 2 3 4 8 12 16 15 14 13 9 5 6 7 11 10\n",
    "Explanation:\n",
    "\n",
    "Example 2:\n",
    "\n",
    "Input:\n",
    "r = 3, c = 4  \n",
    "matrix[][] = {{1, 2, 3, 4},\n",
    "           {5, 6, 7, 8},\n",
    "           {9, 10, 11, 12}}\n",
    "Output: \n",
    "1 2 3 4 8 12 11 10 9 5 6 7\n",
    "Explanation:\n",
    "Applying same technique as shown above, \n",
    "output for the 2nd testcase will be \n",
    "1 2 3 4 8 12 11 10 9 5 6 7.\n"
   ]
  },
  {
   "cell_type": "code",
   "execution_count": 5,
   "metadata": {},
   "outputs": [
    {
     "name": "stdout",
     "output_type": "stream",
     "text": [
      "[1, 2, 3, 4]\n",
      "[5, 6, 7, 8]\n",
      "[9, 10, 11, 12]\n",
      "[13, 14, 15, 16]\n",
      "None\n"
     ]
    }
   ],
   "source": [
    "class Solution:\n",
    "    def spirallyTraverse(self,matrix, r, c): \n",
    "        for i in matrix:\n",
    "            print(i)\n",
    "    \n",
    "sol=Solution()    \n",
    "print(sol.spirallyTraverse([[1, 2, 3, 4],[5, 6, 7, 8],[9, 10, 11, 12],[13, 14, 15,16]],4,4))"
   ]
  },
  {
   "cell_type": "markdown",
   "metadata": {},
   "source": [
    "# Row with max 1s\n",
    "Given a boolean 2D array of n x m dimensions where each row is sorted. Find the 0-based index of the first row that has the maximum number of 1's.\n",
    "\n",
    "Example 1:\n",
    "\n",
    "Input: \n",
    "N = 4 , M = 4\n",
    "Arr[][] = {{0, 1, 1, 1},\n",
    "           {0, 0, 1, 1},\n",
    "           {1, 1, 1, 1},\n",
    "           {0, 0, 0, 0}}\n",
    "Output: 2\n",
    "Explanation: Row 2 contains 4 1's (0-based\n",
    "indexing).\n",
    "\n",
    "\n",
    "Example 2:\n",
    "\n",
    "Input: \n",
    "N = 2, M = 2\n",
    "Arr[][] = {{0, 0}, {1, 1}}\n",
    "Output: 1\n",
    "Explanation: Row 1 contains 2 1's (0-based\n",
    "indexing).\n"
   ]
  },
  {
   "cell_type": "code",
   "execution_count": 12,
   "metadata": {},
   "outputs": [
    {
     "name": "stdout",
     "output_type": "stream",
     "text": [
      "2\n",
      "1\n",
      "1\n"
     ]
    }
   ],
   "source": [
    "class Solution:\n",
    "    def rowWithMax1s(self,arr, n, m):\n",
    "        max_count=0\n",
    "        index=0\n",
    "        for i in range(len(arr)):\n",
    "            curr_max=0\n",
    "            for j in arr[i]:\n",
    "                curr_max = max(curr_max,curr_max+j)\n",
    "            if curr_max > max_count:\n",
    "                max_count =curr_max\n",
    "                index=i\n",
    "        return  0 if index ==0 else index\n",
    "sol=Solution()    \n",
    "print(sol.rowWithMax1s([[0, 1, 1, 1],[0, 0, 1, 1],[1, 1, 1, 1],[0, 0, 0, 0]],4,4))\n",
    "print(sol.rowWithMax1s([[0,0],[1,1]],2,2))\n",
    "print(sol.rowWithMax1s([[0,0,0],[1,1,1],[1,1,1],[0,0,0],[0,1,1],[1,1,1],[0,0,0],[0,1,1],[1,1,1]],3,9))"
   ]
  }
 ],
 "metadata": {
  "kernelspec": {
   "display_name": "Python 3",
   "language": "python",
   "name": "python3"
  },
  "language_info": {
   "codemirror_mode": {
    "name": "ipython",
    "version": 3
   },
   "file_extension": ".py",
   "mimetype": "text/x-python",
   "name": "python",
   "nbconvert_exporter": "python",
   "pygments_lexer": "ipython3",
   "version": "3.7.3"
  }
 },
 "nbformat": 4,
 "nbformat_minor": 2
}
