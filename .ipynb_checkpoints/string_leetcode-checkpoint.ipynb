{
 "cells": [
  {
   "cell_type": "markdown",
   "metadata": {},
   "source": [
    "#  Reverse String\n",
    "\n",
    "Example 1:\n",
    "\n",
    "Input: s = [\"h\",\"e\",\"l\",\"l\",\"o\"]\n",
    "Output: [\"o\",\"l\",\"l\",\"e\",\"h\"]\n",
    "\n",
    "Example 2:\n",
    "\n",
    "Input: s = [\"H\",\"a\",\"n\",\"n\",\"a\",\"h\"]\n",
    "Output: [\"h\",\"a\",\"n\",\"n\",\"a\",\"H\"]\n",
    "\n"
   ]
  },
  {
   "cell_type": "code",
   "execution_count": 21,
   "metadata": {},
   "outputs": [
    {
     "name": "stdout",
     "output_type": "stream",
     "text": [
      "olleh\n"
     ]
    }
   ],
   "source": [
    "class Solution:\n",
    "    def reverseString(self, s,n):\n",
    "        i=0\n",
    "        j=n-1\n",
    "        s=list(s)\n",
    "        while i<j:\n",
    "            s[i],s[j]=s[j],s[i]\n",
    "            i+=1\n",
    "            j-=1\n",
    "        return ''.join(s)\n",
    "sol= Solution()\n",
    "print(sol.reverseString('hello',5))\n",
    "        "
   ]
  },
  {
   "cell_type": "markdown",
   "metadata": {},
   "source": [
    "#  Count and Say\n",
    "The count-and-say sequence is a sequence of digit strings defined by the recursive formula:\n",
    "\n",
    "    countAndSay(1) = \"1\"\n",
    "    countAndSay(n) is the way you would \"say\" the digit string from countAndSay(n-1), which is then converted into a different digit string.\n",
    "\n",
    "To determine how you \"say\" a digit string, split it into the minimal number of groups so that each group is a contiguous section all of the same character. Then for each group, say the number of characters, then say the character. To convert the saying into a digit string, replace the counts with a number and concatenate every saying.\n",
    "\n",
    "For example, the saying and conversion for digit string \"3322251\":\n",
    "\n",
    "Given a positive integer n, return the nth term of the count-and-say sequence.\n",
    "\n",
    " \n",
    "\n",
    "Example 1:\n",
    "\n",
    "Input: n = 1\n",
    "Output: \"1\"\n",
    "Explanation: This is the base case.\n",
    "\n",
    "Example 2:\n",
    "\n",
    "Input: n = 4\n",
    "Output: \"1211\"\n",
    "Explanation:\n",
    "countAndSay(1) = \"1\"\n",
    "countAndSay(2) = say \"1\" = one 1 = \"11\"\n",
    "countAndSay(3) = say \"11\" = two 1's = \"21\"\n",
    "countAndSay(4) = say \"21\" = one 2 + one 1 = \"12\" + \"11\" = \"1211\"\n"
   ]
  },
  {
   "cell_type": "code",
   "execution_count": null,
   "metadata": {},
   "outputs": [],
   "source": [
    "class Solution:\n",
    "    def countAndSay(self, n: int) -> str:\n",
    "        if n ==1 :\n",
    "            return '1'\n",
    "        prev= self.countAndSay(n-1)\n",
    "        res=''\n",
    "        ct=1\n",
    "        for i in range(len(prev)):\n",
    "            if i == len(prev)-1 or  prev[i] !=prev[i+1]:\n",
    "                res+=str(ct)+ prev[i]\n",
    "                ct=1\n",
    "            else:\n",
    "                ct+=1\n",
    "        return res\n",
    "    \n",
    "sol= Solution()    \n",
    "print(sol.countAndSay(1))"
   ]
  },
  {
   "cell_type": "markdown",
   "metadata": {},
   "source": [
    "# Longest Common Subsequence\n",
    "\n",
    "Given two strings text1 and text2, return the length of their longest common subsequence. If there is no common subsequence, return 0.\n",
    "\n",
    "A subsequence of a string is a new string generated from the original string with some characters (can be none) deleted without changing the relative order of the remaining characters.\n",
    "\n",
    "    For example, \"ace\" is a subsequence of \"abcde\".\n",
    "\n",
    "A common subsequence of two strings is a subsequence that is common to both strings.\n",
    "\n",
    " \n",
    "\n",
    "Example 1:\n",
    "\n",
    "Input: text1 = \"abcde\", text2 = \"ace\" \n",
    "Output: 3  \n",
    "Explanation: The longest common subsequence is \"ace\" and its length is 3.\n",
    "\n",
    "Example 2:\n",
    "\n",
    "Input: text1 = \"abc\", text2 = \"abc\"\n",
    "Output: 3\n",
    "Explanation: The longest common subsequence is \"abc\" and its length is 3.\n",
    "\n",
    "Example 3:\n",
    "\n",
    "Input: text1 = \"abc\", text2 = \"def\"\n",
    "Output: 0\n",
    "Explanation: There is no such common subsequence, so the result is 0.\n"
   ]
  },
  {
   "cell_type": "code",
   "execution_count": 6,
   "metadata": {},
   "outputs": [
    {
     "name": "stdout",
     "output_type": "stream",
     "text": [
      "4\n"
     ]
    }
   ],
   "source": [
    "class Solution:\n",
    "    def longestCommonSubsequence(self,text1,text2,m,n):\n",
    "        if m == 0 or n == 0:\n",
    "            return 0\n",
    "        if text1[m-1] == text2[n-1]:\n",
    "            return 1+ self.longestCommonSubsequence(text1,text2,m-1,n-1)\n",
    "        else:\n",
    "            return max(self.longestCommonSubsequence(text1,text2,m,n-1),self.longestCommonSubsequence(text1,text2,m-1,n))\n",
    "    def longestCommonSubsequenceRec(self,text1,text2):\n",
    "        m=len(text1)\n",
    "        n=len(text2)\n",
    "        return self.longestCommonSubsequence(text1,text2,m,n)\n",
    "    def longestCommonSubsequenceDP(self,text1,text2):\n",
    "        m=len(text1)\n",
    "        n=len(text2)\n",
    "        table = [[None]*(n+1) for i in range(m+1)]\n",
    "        for i in range(m+1):\n",
    "            for j in range(n+1):\n",
    "                if i ==0 or j == 0:\n",
    "                    table[i][j]=0\n",
    "                elif text1[i-1] == text2[j-1]:\n",
    "                    table[i][j]= table[i-1][j-1]+1\n",
    "                else:\n",
    "                    table[i][j]=max(table[i-1][j],table[i][j-1])\n",
    "        return table[m][n]\n",
    "sol = Solution()    \n",
    "print(sol.longestCommonSubsequenceDP('AGGTAB','GXTXAYB'))\n",
    "        "
   ]
  },
  {
   "cell_type": "markdown",
   "metadata": {},
   "source": [
    "# Distinct Subsequences II( all subsequences of a string)\n",
    "\n",
    "Given a string s, count the number of distinct, non-empty subsequences of s .\n",
    "\n",
    "Since the result may be large, return the answer modulo 109 + 7.\n",
    "\n",
    " \n",
    "\n",
    "Example 1:\n",
    "\n",
    "Input: s = \"abc\"\n",
    "Output: 7\n",
    "Explanation: The 7 distinct subsequences are \"a\", \"b\", \"c\", \"ab\", \"ac\", \"bc\", and \"abc\".\n",
    "\n",
    "Example 2:\n",
    "\n",
    "Input: s = \"aba\"\n",
    "Output: 6\n",
    "Explanation: The 6 distinct subsequences are \"a\", \"b\", \"ab\", \"ba\", \"aa\" and \"aba\".\n",
    "\n",
    "Example 3:\n",
    "\n",
    "Input: s = \"aaa\"\n",
    "Output: 3\n",
    "Explanation: The 3 distinct subsequences are \"a\", \"aa\" and \"aaa\".\n",
    "\n",
    "\n"
   ]
  },
  {
   "cell_type": "code",
   "execution_count": 29,
   "metadata": {},
   "outputs": [
    {
     "name": "stdout",
     "output_type": "stream",
     "text": [
      "abc 3\n",
      "ab 3\n",
      "ac 3\n",
      "a 3\n",
      "bc 3\n",
      "b 3\n",
      "c 3\n",
      " 3\n"
     ]
    }
   ],
   "source": [
    "class Solution:\n",
    "    def distinctSubseqII(self,s,output='',count=0):\n",
    "        if len(s) ==0:\n",
    "            print(output,count)\n",
    "            return\n",
    "        count+=1\n",
    "        self.distinctSubseqII(s[1:],output+s[0],count)\n",
    "        self.distinctSubseqII(s[1:],output,count)\n",
    "        \n",
    "sol = Solution()\n",
    "sol.distinctSubseqII('abc') # 7 =>(\"a\", \"b\", \"c\", \"ab\", \"ac\", \"bc\", and \"abc\".)\n",
    "# sol.distinctSubseqII('aba') # 6 => (\"a\", \"b\", \"ab\", \"ba\", \"aa\" and \"aba\".)"
   ]
  },
  {
   "cell_type": "code",
   "execution_count": null,
   "metadata": {},
   "outputs": [],
   "source": []
  }
 ],
 "metadata": {
  "kernelspec": {
   "display_name": "Python 3",
   "language": "python",
   "name": "python3"
  },
  "language_info": {
   "codemirror_mode": {
    "name": "ipython",
    "version": 3
   },
   "file_extension": ".py",
   "mimetype": "text/x-python",
   "name": "python",
   "nbconvert_exporter": "python",
   "pygments_lexer": "ipython3",
   "version": "3.7.3"
  }
 },
 "nbformat": 4,
 "nbformat_minor": 2
}
