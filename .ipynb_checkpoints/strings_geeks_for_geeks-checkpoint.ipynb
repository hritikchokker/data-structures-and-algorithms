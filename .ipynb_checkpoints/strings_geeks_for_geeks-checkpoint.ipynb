{
 "cells": [
  {
   "cell_type": "markdown",
   "metadata": {},
   "source": [
    "# Palindrome String \n",
    "\n",
    "Given a string S, check if it is palindrome or not.\n",
    "\n",
    "Example 1:\n",
    "\n",
    "Input: S = \"abba\"\n",
    "Output: 1\n",
    "Explanation: S is a palindrome\n",
    "\n",
    "Example 2:\n",
    "\n",
    "Input: S = \"abc\" \n",
    "Output: 0\n",
    "Explanation: S is not a palindrome\n"
   ]
  },
  {
   "cell_type": "code",
   "execution_count": 2,
   "metadata": {},
   "outputs": [
    {
     "name": "stdout",
     "output_type": "stream",
     "text": [
      "1\n"
     ]
    }
   ],
   "source": [
    "class Solution:\n",
    "    def isPlaindrome(self, s):\n",
    "        isPalindrome=False\n",
    "        n=len(s)\n",
    "        i=0\n",
    "        j=n-1\n",
    "        s=list(s)\n",
    "        while i<j:\n",
    "            if s[i] != s[j]:\n",
    "                return 0\n",
    "            i +=1\n",
    "            j -=1\n",
    "        return 1\n",
    "sol=Solution()    \n",
    "print(sol.isPlaindrome('abba'))"
   ]
  },
  {
   "cell_type": "markdown",
   "metadata": {},
   "source": [
    "# Print all the duplicates in the input string\n",
    "Write an efficient program to print all the duplicates and their counts in the input string\n",
    "\n",
    "string=geeksforgeeks"
   ]
  },
  {
   "cell_type": "code",
   "execution_count": 8,
   "metadata": {},
   "outputs": [
    {
     "name": "stdout",
     "output_type": "stream",
     "text": [
      "g repeated 2\n",
      "e repeated 4\n",
      "k repeated 2\n",
      "s repeated 2\n",
      "total repeated count 4\n"
     ]
    }
   ],
   "source": [
    "def printDuplicate(s):\n",
    "    obj={}\n",
    "    for i in s:\n",
    "        obj[i] =obj.get(i,0)+1\n",
    "    count=0\n",
    "    for i in obj:\n",
    "        if obj[i]>1:\n",
    "            print(i,'repeated',obj[i])\n",
    "            count+=1\n",
    "    print('total repeated count',count)\n",
    "\n",
    "printDuplicate('geeksforgeeks')"
   ]
  },
  {
   "cell_type": "markdown",
   "metadata": {},
   "source": [
    "# A Program to check if strings are rotations of each other or not\n",
    "\n",
    "Given a string s1 and a string s2, write a snippet to say whether s2 is a rotation of s1?\n",
    "(eg given s1 = ABCD and s2 = CDAB, return true, given s1 = ABCD, and s2 = ACBD , return false)\n",
    "\n",
    "\n"
   ]
  },
  {
   "cell_type": "code",
   "execution_count": 3,
   "metadata": {},
   "outputs": [
    {
     "name": "stdout",
     "output_type": "stream",
     "text": [
      "True\n",
      "True\n"
     ]
    }
   ],
   "source": [
    "def areRotations(str1, str2):\n",
    "    if len(strt1) != len(str2):\n",
    "        return False\n",
    "    temp=str1+str2\n",
    "    return True if str2 in temp else False\n",
    "print(areRotations('ABCD','CDAB'))\n",
    "print(areRotations('AACD','ACDA'))"
   ]
  },
  {
   "cell_type": "markdown",
   "metadata": {},
   "source": [
    "# Longest Palindrome in a String \n",
    "\n",
    "Given a string S, find the longest palindromic substring in S. Substring of string S: S[ i . . . . j ] where 0 ≤ i ≤ j < len(S). Palindrome string: A string which reads the same backwards. More formally, S is palindrome if reverse(S) = S. Incase of conflict, return the substring which occurs first ( with the least starting index).\n",
    "\n",
    "\n",
    "Example 1:\n",
    "\n",
    "Input:\n",
    "S = \"aaaabbaa\"\n",
    "Output: aabbaa\n",
    "Explanation: The longest Palindromic\n",
    "substring is \"aabbaa\".\n",
    "\n",
    "Example 2:\n",
    "\n",
    "Input: \n",
    "S = \"abc\"\n",
    "Output: a\n",
    "Explanation: \"a\", \"b\" and \"c\" are the \n",
    "longest palindromes with same length.\n",
    "The result is the one with the least\n",
    "starting index.\n"
   ]
  },
  {
   "cell_type": "code",
   "execution_count": 5,
   "metadata": {},
   "outputs": [
    {
     "name": "stdout",
     "output_type": "stream",
     "text": [
      "aabbaa\n",
      "a\n"
     ]
    }
   ],
   "source": [
    "class Solution:\n",
    "    def expand(self,s,low,high):\n",
    "        length = len(s)\n",
    "        while low >=0 and high < length and s[low] == s[high]:\n",
    "            low -=1\n",
    "            high +=1\n",
    "        return s[low+1:high]\n",
    "    def longestPalin(self,s):\n",
    "        max_len=0\n",
    "        max_str=''\n",
    "        for i in range(len(s)):\n",
    "            curr_str = self.expand(s,i,i)\n",
    "            curr_len = len(curr_str)\n",
    "            if max_len < curr_len:\n",
    "                max_len = curr_len\n",
    "                max_str = curr_str\n",
    "            curr_str = self.expand(s,i,i+1)\n",
    "            curr_len = len(curr_str)\n",
    "            if max_len < curr_len:\n",
    "                max_len = curr_len\n",
    "                max_str = curr_str\n",
    "        return max_str\n",
    "    \n",
    "sol=Solution()\n",
    "print(sol.longestPalin('aaaabbaa')) # aabbaa\n",
    "print(sol.longestPalin('abc'))"
   ]
  },
  {
   "cell_type": "markdown",
   "metadata": {},
   "source": [
    "# Longest Repeating Subsequence\n",
    "\n",
    "Given a string, find the length of the longest repeating subsequence such that the two subsequences don't have same string character at the same position, i.e., any i'th character in the two subsequences shouldn't have the same index in the original string.\n",
    "\n",
    " \n",
    "\n",
    "Example 1:\n",
    "\n",
    "Input: str = \"axxxy\"\n",
    "Output: 2\n",
    "Explanation: The longest repeating subsequenece\n",
    "is \"xx\".\n",
    "\n",
    "Example 2:\n",
    "\n",
    "Input: str = \"aab\"\n",
    "output: 1\n",
    "Explanation: The longest reapting subsequenece\n",
    "is \"a\".\n"
   ]
  },
  {
   "cell_type": "code",
   "execution_count": 1,
   "metadata": {},
   "outputs": [
    {
     "data": {
      "text/plain": [
       "3"
      ]
     },
     "execution_count": 1,
     "metadata": {},
     "output_type": "execute_result"
    }
   ],
   "source": [
    "class Solution:\n",
    "    def LongestRepeatingSubsequence(self, s):\n",
    "        m=len(s)\n",
    "        table=[[0]*(m+1) for i in range(m+1)]\n",
    "        for i in range(1,m+1):\n",
    "            for j in range(1,m+1):\n",
    "                if i == 0 or j ==0:\n",
    "                    table[i][j]=0\n",
    "                elif s[i-1] == s[j-1] and i!=j:\n",
    "                    table[i][j]= table[i-1][j-1]+1\n",
    "                else:\n",
    "                    table[i][j]= max(table[i][j-1],table[i-1][j])\n",
    "        return table[m][m]    \n",
    "sol = Solution()    \n",
    "# sol.LongestRepeatingSubsequence('axxxy') # 2\n",
    "sol.LongestRepeatingSubsequence('AABEBCDD') # 3\n",
    "# sol.LongestRepeatingSubsequence('yihfrhtriv') # 2\n",
    "# sol.LongestRepeatingSubsequence('agcsorvauz') # 1;"
   ]
  },
  {
   "cell_type": "markdown",
   "metadata": {},
   "source": [
    "# Permutations of a given string \n",
    "\n",
    "Given a string S. The task is to print all permutations of a given string.\n",
    "\n",
    " \n",
    "\n",
    "Example 1:\n",
    "\n",
    "Input: ABC\n",
    "Output:\n",
    "ABC ACB BAC BCA CAB CBA\n",
    "Explanation:\n",
    "Given string ABC has permutations in 6 \n",
    "forms as ABC, ACB, BAC, BCA, CAB and CBA .\n",
    "\n",
    "Example 2:\n",
    "\n",
    "Input: ABSG\n",
    "Output:\n",
    "ABGS ABSG AGBS AGSB ASBG ASGB BAGS \n",
    "BASG BGAS BGSA BSAG BSGA GABS GASB \n",
    "GBAS GBSA GSAB GSBA SABG SAGB SBAG \n",
    "SBGA SGAB SGBA\n",
    "Explanation:\n",
    "Given string ABSG has 24 permutations.\n"
   ]
  },
  {
   "cell_type": "code",
   "execution_count": 31,
   "metadata": {},
   "outputs": [
    {
     "name": "stdout",
     "output_type": "stream",
     "text": [
      "['ABC', 'ACB', 'BAC', 'BCA', 'CAB', 'CBA', 'ABSG', 'ABGS', 'ASBG', 'ASGB', 'AGBS', 'AGSB', 'BASG', 'BAGS', 'BSAG', 'BSGA', 'BGAS', 'BGSA', 'SABG', 'SAGB', 'SBAG', 'SBGA', 'SGAB', 'SGBA', 'GABS', 'GASB', 'GBAS', 'GBSA', 'GSAB', 'GSBA']\n"
     ]
    }
   ],
   "source": [
    "class Solution:\n",
    "    def find_permutation(self, s,answer='',lst=[]):\n",
    "        \n",
    "        if (len(s) == 0):\n",
    "            if answer not in lst:\n",
    "                lst.append(answer)\n",
    "            return\n",
    "        for i in range(len(s)):\n",
    "            ch = s[i]\n",
    "            left_substr = s[0:i]\n",
    "            right_substr = s[i + 1:]\n",
    "            rest = left_substr + right_substr\n",
    "            self.find_permutation(rest, answer + ch,lst)\n",
    "        return lst\n",
    "sol= Solution()\n",
    "sol.find_permutation('ABC') # ABC ACB BAC BCA CAB CBA\n",
    "print(sol.find_permutation('ABSG'))"
   ]
  },
  {
   "cell_type": "markdown",
   "metadata": {},
   "source": [
    "# Word Wrap \n",
    "\n",
    "Given an array nums[] of size n, where nums[i] denotes the number of characters in one word. Let K be the limit on the number of characters that can be put in one line (line width). Put line breaks in the given sequence such that the lines are printed neatly.\n",
    "Assume that the length of each word is smaller than the line width. When line breaks are inserted there is a possibility that extra spaces are present in each line. The extra spaces include spaces put at the end of every line except the last one. \n",
    "\n",
    "You have to minimize the following total cost where total cost = Sum of cost of all lines, where cost of line is = (Number of extra spaces in the line)2.\n",
    "\n",
    "Example 1:\n",
    "\n",
    "Input: nums = {3,2,2,5}, k = 6\n",
    "Output: 10\n",
    "Explanation: Given a line can have 6\n",
    "characters,\n",
    "Line number 1: From word no. 1 to 1\n",
    "Line number 2: From word no. 2 to 3\n",
    "Line number 3: From word no. 4 to 4\n",
    "So total cost = (6-3)2 + (6-2-2-1)2 = 32+12 = 10.\n",
    "As in the first line word length = 3 thus\n",
    "extra spaces = 6 - 3 = 3 and in the second line\n",
    "there are two word of length 2 and there already\n",
    "1 space between two word thus extra spaces\n",
    "= 6 - 2 -2 -1 = 1. As mentioned in the problem\n",
    "description there will be no extra spaces in\n",
    "the last line. Placing first and second word\n",
    "in first line and third word on second line\n",
    "would take a cost of 02 + 42 = 16 (zero spaces\n",
    "on first line and 6-2 = 4 spaces on second),\n",
    "which isn't the minimum possible cost.\n",
    "\n",
    "Example 2:\n",
    "\n",
    "Input: nums = {3,2,2}, k = 4\n",
    "Output: 5\n",
    "Explanation: Given a line can have 4 \n",
    "characters,\n",
    "Line number 1: From word no. 1 to 1\n",
    "Line number 2: From word no. 2 to 2\n",
    "Line number 3: From word no. 3 to 3\n",
    "Same explaination as above total cost\n",
    "= (4 - 3)2 + (4 - 2)2 = 5.\n"
   ]
  },
  {
   "cell_type": "code",
   "execution_count": null,
   "metadata": {},
   "outputs": [],
   "source": [
    "class Solution:\n",
    "    def solveWordWrap(self, nums, k):\n",
    "        pass\n",
    "    \n",
    "sol = Solution()    \n",
    "print(sol.solveWordWrap([3,2,2,5],6)) # 10"
   ]
  },
  {
   "cell_type": "markdown",
   "metadata": {},
   "source": [
    "# Parenthesis Checker \n",
    "\n",
    "Given an expression string x. Examine whether the pairs and the orders of “{“,”}”,”(“,”)”,”[“,”]” are correct in exp.\n",
    "For example, the function should return 'true' for exp = “[()]{}{[()()]()}” and 'false' for exp = “[(])”.\n",
    "\n",
    "Example 1:\n",
    "\n",
    "Input:\n",
    "{([])}\n",
    "Output: \n",
    "true\n",
    "Explanation: \n",
    "{ ( [ ] ) }. Same colored brackets can form \n",
    "balaced pairs, with 0 number of \n",
    "unbalanced bracket.\n",
    "\n",
    "Example 2:\n",
    "\n",
    "Input: \n",
    "()\n",
    "Output: \n",
    "true\n",
    "Explanation: \n",
    "(). Same bracket can form balanced pairs, \n",
    "and here only 1 type of bracket is \n",
    "present and in balanced way.\n",
    "\n",
    "Example 3:\n",
    "\n",
    "Input: \n",
    "([]\n",
    "Output: \n",
    "false\n",
    "Explanation: \n",
    "([]. Here square bracket is balanced but \n",
    "the small bracket is not balanced and \n",
    "Hence , the output will be unbalanced."
   ]
  },
  {
   "cell_type": "code",
   "execution_count": 42,
   "metadata": {},
   "outputs": [
    {
     "name": "stdout",
     "output_type": "stream",
     "text": [
      "True\n",
      "True\n"
     ]
    }
   ],
   "source": [
    "from queue import LifoQueue\n",
    "class Solution:x\n",
    "    def ispar(self,x):\n",
    "        x=list(x)\n",
    "        stack = LifoQueue()\n",
    "        i=0\n",
    "        while i<len(x):\n",
    "            if x[i] == '[' or x[i] =='(' or x[i] == '{':\n",
    "                stack.put(x[i])\n",
    "            elif x[i] != ']' or x[i] != ')' or x[i] != '}':\n",
    "                stack.get()\n",
    "            i+=1\n",
    "        return stack.empty()\n",
    "sol = Solution()    \n",
    "print(sol.ispar(\"{([])}\"))\n",
    "print(sol.ispar(\"{}(){}[]\"))"
   ]
  },
  {
   "cell_type": "markdown",
   "metadata": {},
   "source": [
    "# Next Permutation\n",
    "\n",
    "Implement the next permutation, which rearranges the list of numbers into Lexicographically next greater permutation of list of numbers. If such arrangement is not possible, it must be rearranged to the lowest possible order i.e. sorted in an ascending order. You are given an list of numbers arr[ ] of size N.\n",
    "\n",
    "Example 1:\n",
    "\n",
    "Input: N = 6\n",
    "arr = {1, 2, 3, 6, 5, 4}\n",
    "Output: {1, 2, 4, 3, 5, 6}\n",
    "Explaination: The next permutation of the \n",
    "given array is {1, 2, 4, 3, 5, 6}.\n",
    "\n",
    "Example 2:\n",
    "\n",
    "Input: N = 3\n",
    "arr = {3, 2, 1}\n",
    "Output: {1, 2, 3}\n",
    "Explaination: As arr[] is the last \n",
    "permutation. So, the next permutation \n",
    "is the lowest one."
   ]
  },
  {
   "cell_type": "code",
   "execution_count": 43,
   "metadata": {},
   "outputs": [
    {
     "name": "stdout",
     "output_type": "stream",
     "text": [
      "[1, 2, 4, 3, 5, 6]\n"
     ]
    }
   ],
   "source": [
    "class Solution:\n",
    "    def nextPermutation(self, n,nums):\n",
    "        for i,num in enumerate(nums):\n",
    "            last = len(nums)-1-i\n",
    "            if last-1>=0 and nums[last-1]>=nums[last]:\n",
    "                continue\n",
    "            else:\n",
    "                break\n",
    "        if last == 0:\n",
    "            nums.sort()\n",
    "        else:\n",
    "            idx = last\n",
    "            for i in range(last,len(nums)):\n",
    "                if nums[i]>nums[last-1] and nums[i]<nums[idx]:\n",
    "                    idx = i\n",
    "            nums[last-1],nums[idx] = nums[idx],nums[last-1]\n",
    "            nums[last:] = sorted(nums[last:])\n",
    "        return nums\n",
    "sol=Solution()    \n",
    "print(sol.nextPermutation(0,[1, 2, 3, 6, 5, 4]))    "
   ]
  },
  {
   "cell_type": "markdown",
   "metadata": {},
   "source": [
    "# Edit Distance \n",
    "\n",
    "Given two strings s and t. Find the minimum number of operations that need to be performed on str1 to convert it to str2. The possible operations are:\n",
    "\n",
    "    Insert\n",
    "    Remove\n",
    "    Replace\n",
    "\n",
    " \n",
    "\n",
    "Example 1:\n",
    "\n",
    "Input: \n",
    "s = \"geek\", t = \"gesek\"\n",
    "Output: 1\n",
    "Explanation: One operation is required \n",
    "inserting 's' between two 'e's of str1.\n",
    "\n",
    "Example 2:\n",
    "\n",
    "Input : \n",
    "s = \"gfg\", t = \"gfg\"\n",
    "Output: \n",
    "0\n",
    "Explanation: Both strings are same.\n"
   ]
  },
  {
   "cell_type": "code",
   "execution_count": 48,
   "metadata": {},
   "outputs": [
    {
     "name": "stdout",
     "output_type": "stream",
     "text": [
      "1\n",
      "0\n"
     ]
    }
   ],
   "source": [
    "class Solution:\n",
    "    def editDistance(self, s, t):\n",
    "        if s == t:\n",
    "            return 0\n",
    "        count=0\n",
    "        for i in t:\n",
    "            if i not in s:\n",
    "                count+=1\n",
    "        return count\n",
    "sol = Solution()\n",
    "print(sol.editDistance('geek','gesek'))# 1\n",
    "print(sol.editDistance('ecfbefdcfca','badfcbebbf')) # "
   ]
  },
  {
   "cell_type": "markdown",
   "metadata": {},
   "source": [
    "# Longest Prefix Suffix \n",
    "\n",
    "Given a string of characters, find the length of the longest proper prefix which is also a proper suffix.\n",
    "\n",
    "Example 1:\n",
    "\n",
    "Input: s = \"abab\"\n",
    "Output: 2\n",
    "Explanation: \"ab\" is the longest proper \n",
    "prefix and suffix. \n",
    "\n",
    "Example 2:\n",
    "\n",
    "Input: s = \"aaaa\"\n",
    "Output: 3\n",
    "Explanation: \"aaa\" is the longest proper \n",
    "prefix and suffix. "
   ]
  },
  {
   "cell_type": "code",
   "execution_count": 51,
   "metadata": {},
   "outputs": [
    {
     "name": "stdout",
     "output_type": "stream",
     "text": [
      "None\n"
     ]
    }
   ],
   "source": [
    "class Solution:\n",
    "    def lps(self, s):\n",
    "        pass\n",
    "    \n",
    "sol = Solution()    \n",
    "print(sol.lps('aaaa'))\n"
   ]
  }
 ],
 "metadata": {
  "kernelspec": {
   "display_name": "Python 3",
   "language": "python",
   "name": "python3"
  },
  "language_info": {
   "codemirror_mode": {
    "name": "ipython",
    "version": 3
   },
   "file_extension": ".py",
   "mimetype": "text/x-python",
   "name": "python",
   "nbconvert_exporter": "python",
   "pygments_lexer": "ipython3",
   "version": "3.7.3"
  }
 },
 "nbformat": 4,
 "nbformat_minor": 2
}
