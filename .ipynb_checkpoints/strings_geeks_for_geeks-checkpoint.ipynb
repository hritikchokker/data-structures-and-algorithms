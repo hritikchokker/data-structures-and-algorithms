{
 "cells": [
  {
   "cell_type": "markdown",
   "metadata": {},
   "source": [
    "# Palindrome String \n",
    "\n",
    "Given a string S, check if it is palindrome or not.\n",
    "\n",
    "Example 1:\n",
    "\n",
    "Input: S = \"abba\"\n",
    "Output: 1\n",
    "Explanation: S is a palindrome\n",
    "\n",
    "Example 2:\n",
    "\n",
    "Input: S = \"abc\" \n",
    "Output: 0\n",
    "Explanation: S is not a palindrome\n"
   ]
  },
  {
   "cell_type": "code",
   "execution_count": 2,
   "metadata": {},
   "outputs": [
    {
     "name": "stdout",
     "output_type": "stream",
     "text": [
      "1\n"
     ]
    }
   ],
   "source": [
    "class Solution:\n",
    "    def isPlaindrome(self, s):\n",
    "        isPalindrome=False\n",
    "        n=len(s)\n",
    "        i=0\n",
    "        j=n-1\n",
    "        s=list(s)\n",
    "        while i<j:\n",
    "            if s[i] != s[j]:\n",
    "                return 0\n",
    "            i +=1\n",
    "            j -=1\n",
    "        return 1\n",
    "sol=Solution()    \n",
    "print(sol.isPlaindrome('abba'))"
   ]
  },
  {
   "cell_type": "markdown",
   "metadata": {},
   "source": [
    "# Print all the duplicates in the input string\n",
    "Write an efficient program to print all the duplicates and their counts in the input string\n",
    "\n",
    "string=geeksforgeeks"
   ]
  },
  {
   "cell_type": "code",
   "execution_count": 8,
   "metadata": {},
   "outputs": [
    {
     "name": "stdout",
     "output_type": "stream",
     "text": [
      "g repeated 2\n",
      "e repeated 4\n",
      "k repeated 2\n",
      "s repeated 2\n",
      "total repeated count 4\n"
     ]
    }
   ],
   "source": [
    "def printDuplicate(s):\n",
    "    obj={}\n",
    "    for i in s:\n",
    "        obj[i] =obj.get(i,0)+1\n",
    "    count=0\n",
    "    for i in obj:\n",
    "        if obj[i]>1:\n",
    "            print(i,'repeated',obj[i])\n",
    "            count+=1\n",
    "    print('total repeated count',count)\n",
    "\n",
    "printDuplicate('geeksforgeeks')"
   ]
  },
  {
   "cell_type": "markdown",
   "metadata": {},
   "source": [
    "# A Program to check if strings are rotations of each other or not\n",
    "\n",
    "Given a string s1 and a string s2, write a snippet to say whether s2 is a rotation of s1?\n",
    "(eg given s1 = ABCD and s2 = CDAB, return true, given s1 = ABCD, and s2 = ACBD , return false)\n",
    "\n",
    "\n"
   ]
  },
  {
   "cell_type": "code",
   "execution_count": 3,
   "metadata": {},
   "outputs": [
    {
     "name": "stdout",
     "output_type": "stream",
     "text": [
      "True\n",
      "True\n"
     ]
    }
   ],
   "source": [
    "def areRotations(str1, str2):\n",
    "    if len(strt1) != len(str2):\n",
    "        return False\n",
    "    temp=str1+str2\n",
    "    return True if str2 in temp else False\n",
    "print(areRotations('ABCD','CDAB'))\n",
    "print(areRotations('AACD','ACDA'))"
   ]
  },
  {
   "cell_type": "markdown",
   "metadata": {},
   "source": [
    "# Longest Palindrome in a String \n",
    "\n",
    "Given a string S, find the longest palindromic substring in S. Substring of string S: S[ i . . . . j ] where 0 ≤ i ≤ j < len(S). Palindrome string: A string which reads the same backwards. More formally, S is palindrome if reverse(S) = S. Incase of conflict, return the substring which occurs first ( with the least starting index).\n",
    "\n",
    "\n",
    "Example 1:\n",
    "\n",
    "Input:\n",
    "S = \"aaaabbaa\"\n",
    "Output: aabbaa\n",
    "Explanation: The longest Palindromic\n",
    "substring is \"aabbaa\".\n",
    "\n",
    "Example 2:\n",
    "\n",
    "Input: \n",
    "S = \"abc\"\n",
    "Output: a\n",
    "Explanation: \"a\", \"b\" and \"c\" are the \n",
    "longest palindromes with same length.\n",
    "The result is the one with the least\n",
    "starting index.\n"
   ]
  },
  {
   "cell_type": "code",
   "execution_count": 64,
   "metadata": {},
   "outputs": [
    {
     "name": "stdout",
     "output_type": "stream",
     "text": [
      "None\n",
      "None\n"
     ]
    }
   ],
   "source": [
    "class Solution:\n",
    "    def longestPalin(self,s):\n",
    "        table=['']*len(s)\n",
    "        for i in range(len(s)):\n",
    "            k=len(s)-1\n",
    "            j=i\n",
    "            while j<=k:\n",
    "                if s[j]==s[k]:\n",
    "                    table[i] +=s[j]\n",
    "                j+=1\n",
    "                k-=1\n",
    "        \n",
    "sol=Solution()\n",
    "print(sol.longestPalin('aaaabbaa')) # aabbaa\n",
    "print(sol.longestPalin('abc'))"
   ]
  }
 ],
 "metadata": {
  "kernelspec": {
   "display_name": "Python 3",
   "language": "python",
   "name": "python3"
  },
  "language_info": {
   "codemirror_mode": {
    "name": "ipython",
    "version": 3
   },
   "file_extension": ".py",
   "mimetype": "text/x-python",
   "name": "python",
   "nbconvert_exporter": "python",
   "pygments_lexer": "ipython3",
   "version": "3.7.3"
  }
 },
 "nbformat": 4,
 "nbformat_minor": 2
}
