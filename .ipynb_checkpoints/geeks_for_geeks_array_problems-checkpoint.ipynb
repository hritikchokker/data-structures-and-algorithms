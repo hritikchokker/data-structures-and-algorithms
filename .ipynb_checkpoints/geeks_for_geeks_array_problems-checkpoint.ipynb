{
 "cells": [
  {
   "cell_type": "code",
   "execution_count": 18,
   "metadata": {},
   "outputs": [
    {
     "name": "stdout",
     "output_type": "stream",
     "text": [
      "10 20 4 30\n",
      "20\n",
      "10 4 30  \n"
     ]
    }
   ],
   "source": [
    "# Delete without head pointer \n",
    "class Node:\n",
    "    def __init__(self,data):\n",
    "        self.data=data\n",
    "        self.next=None\n",
    "class LinkedList:\n",
    "    def __init__(self):\n",
    "        self.head=None\n",
    "        self.tail=None\n",
    "    def append(self,value):\n",
    "        new_value=Node(value)\n",
    "        if self.head is None:\n",
    "            self.head= new_value\n",
    "            self.tail= new_value\n",
    "            return\n",
    "        self.tail.next=new_value\n",
    "        self.tail=new_value\n",
    "    def getNode(self,value):\n",
    "        curr_node=self.head\n",
    "        while curr_node.next and curr_node.data != value:\n",
    "            curr_node=curr_node.next\n",
    "        if curr_node.data==value:\n",
    "            return curr_node\n",
    "        else:\n",
    "            return None  \n",
    "    def printList(self):\n",
    "        if self.head is None:\n",
    "            print(' ')\n",
    "            return\n",
    "        curr_node=self.head\n",
    "        while curr_node:\n",
    "            print(curr_node.data,end=\" \")\n",
    "            curr_node= curr_node.next\n",
    "        print(' ')  \n",
    "    def deleteNode(self,value):\n",
    "        curr=self.head\n",
    "        prev=None\n",
    "        if self.head.data==value:\n",
    "            self.head =self.head.next\n",
    "            return\n",
    "        while curr.next is not None:\n",
    "            if curr.data == value and prev is not None:\n",
    "                prev.next=curr.next\n",
    "                return value\n",
    "            prev=curr\n",
    "            curr=curr.next\n",
    "        return None          \n",
    "a=LinkedList()\n",
    "# n=int(input())        \n",
    "nodes=[int(x) for x in input().split()]\n",
    "for i in nodes:\n",
    "    a.append(i)\n",
    "to_del=int(input())    \n",
    "a.deleteNode(to_del)\n",
    "a.printList()\n",
    "# 10 20 4 30\n",
    "# 20"
   ]
  },
  {
   "cell_type": "code",
   "execution_count": null,
   "metadata": {},
   "outputs": [],
   "source": []
  },
  {
   "cell_type": "code",
   "execution_count": null,
   "metadata": {},
   "outputs": [],
   "source": [
    "# Multiply left and right array sum. \n",
    "def multiply (arr, n): \n",
    "    a1=arr[0:n//2]\n",
    "    a2=arr[n//2:]\n",
    "    m1=sum(a1)\n",
    "    m2=sum(a2)\n",
    "    return m1*m2\n",
    "    \n",
    "\n",
    "arr=[int(x)for x in input().split()]\n",
    "n=len(arr)\n",
    "print(multiply(arr,n))"
   ]
  },
  {
   "cell_type": "code",
   "execution_count": 36,
   "metadata": {},
   "outputs": [
    {
     "name": "stdout",
     "output_type": "stream",
     "text": [
      "2\n",
      "3\n"
     ]
    }
   ],
   "source": [
    "# Sum of elements in a matrix\n",
    "def sumOfMatrix(N,M,Grid):\n",
    "    sm=0\n",
    "    for i in range(0,len(grid)):\n",
    "        for j in range(0,len(grid[i])):\n",
    "            sm+=int(grid[i][j])\n",
    "    return sm\n",
    "row=int(input())\n",
    "col=int(input())\n",
    "grid=[[int(x) for x in range(col)]for i in range(row)]"
   ]
  },
  {
   "cell_type": "code",
   "execution_count": 20,
   "metadata": {},
   "outputs": [
    {
     "name": "stdout",
     "output_type": "stream",
     "text": [
      "9\n",
      "^ & % @ # * $ ~ !\n",
      "~ # @ % & * $ ^ !\n",
      "['!', '#', '$', '%', '&', '*', '@', '^', '~'] result\n"
     ]
    }
   ],
   "source": [
    "# Nuts and Bolts Problem\n",
    "def matchPairs(nuts, bolts, n):\n",
    "    arr=['!','#','$','%','&','*','@','^','~','.']\n",
    "    result=[]\n",
    "    for i in range(len(arr)):\n",
    "        if arr[i] in bolts and arr[i] in nuts:\n",
    "            result.append(arr[i])\n",
    "    return result   \n",
    "n=int(input())    \n",
    "nuts=list(map(str,input().strip().split()))\n",
    "bolts=list(map(str,input().strip().split()))\n",
    "matchPairs(nuts,bolts,n)\n",
    "# @ % $ # ^\n",
    "# % @ # $ ^\n",
    "# ['@','%','$','#','^']\n",
    "# ['%','@','#','$','^']\n",
    "# nuts[] = {^, &, %, @, #, *, $, ~, !}\n",
    "# bolts[] = {~, #, @, %, &, *, $ ,^, !}"
   ]
  },
  {
   "cell_type": "code",
   "execution_count": 67,
   "metadata": {
    "scrolled": true
   },
   "outputs": [
    {
     "name": "stdout",
     "output_type": "stream",
     "text": [
      "[3, 3, 3, 3, 4]\n"
     ]
    }
   ],
   "source": [
    "# Rearrange an array with O(1) extra space\n",
    "def arrange(arr, n): \n",
    "    i=0\n",
    "    c1=0\n",
    "    c2=0\n",
    "    for i in range(len(arr)-1):\n",
    "        arr[i],arr[i+1]=arr[arr[i]],arr[i]\n",
    "    print(arr)\n",
    "#         c1=i\n",
    "#         c2=arr[arr[i]]\n",
    "#         arr[c1]=c2\n",
    "#         print(c1,'c1',c2,'now',arr[i])\n",
    "#         temp.append(arr[arr[i]])\n",
    "#     print(temp)    \n",
    "\n",
    "# n=int(input())\n",
    "# arr=[int(x)for x in input().split()]\n",
    "arrange([4,0,2,1,3],5)\n",
    "# 4 0 2 1 3\n",
    "# 0 1 2 3 4\n",
    "# 3 4 2 0 1"
   ]
  },
  {
   "cell_type": "raw",
   "metadata": {},
   "source": [
    "# https://practice.geeksforgeeks.org/problems/minimize-the-heights3351/1\n",
    "\n",
    "# Minimize the Heights II\n",
    "\n",
    "\n",
    "# Example 1:\n",
    "\n",
    "# Input:\n",
    "# K = 2, N = 4\n",
    "# Arr[] = {1, 5, 8, 10}\n",
    "# Output:\n",
    "# 5\n",
    "# Explanation:\n",
    "# The array can be modified as \n",
    "# {3, 3, 6, 8}. The difference between \n",
    "# the largest and the smallest is 8-3 = 5.\n",
    "# Example 2:\n",
    "\n",
    "# Input:\n",
    "# K = 3, N = 5\n",
    "# Arr[] = {3, 9, 12, 16, 20}\n",
    "# Output:\n",
    "# 11\n",
    "# Explanation:\n",
    "# The array can be modified as\n",
    "# {6, 12, 9, 13, 17}. The difference between \n",
    "# the largest and the smallest is 17-6 = 11. \n",
    "\n",
    "\n",
    "#Input:\n",
    "#5\n",
    "#10\n",
    "#2 6 3 4 7 2 10 3 2 1\n",
    "\n",
    "#Its Correct output is:\n",
    "#7\n"
   ]
  },
  {
   "cell_type": "code",
   "execution_count": 1,
   "metadata": {},
   "outputs": [
    {
     "name": "stdout",
     "output_type": "stream",
     "text": [
      "7\n"
     ]
    }
   ],
   "source": [
    "\"\"\"\n",
    "    input =  2 6 3 4 7 2 10 3 2 1\n",
    "    sorted = 1,2,2,2,3,3,4,6,7,10\n",
    "    increased = 6,7,7,7,8,8,9,11,12,15\n",
    "    decreased = 4,3,3,3,2,2,1,1,2,5\n",
    "\"\"\"\n",
    "\n",
    "\"\"\"\n",
    "    algorithm:\n",
    "    create small from firstEl+k\n",
    "    create big from last-k\n",
    "\"\"\"\n",
    "class Solution:\n",
    "    def getMinDiff(self, arr, n, k):\n",
    "        if n==1:\n",
    "            return 0\n",
    "        arr.sort()\n",
    "        ans=arr[n-1]-arr[0]\n",
    "        small=arr[0]+k\n",
    "        big=arr[n-1]-k\n",
    "#         1,2,2,2,3,3,4,6,7,10\n",
    "        if small > big:\n",
    "            small,big=big,small\n",
    "        for i in range(1,n-1):\n",
    "            currSmall = arr[i]+k\n",
    "            currMax=arr[i]-k\n",
    "            if currSmall <= small and small >0:\n",
    "                small=currSmall\n",
    "            if currSmall > big:\n",
    "                big = currSmall\n",
    "        return min(ans,big-small)\n",
    "sol=Solution()    \n",
    "print(sol.getMinDiff([2,6,3,4,7,2,10,3,2,1],10,5))\n",
    "# print(sol.getMinDiff([6,1,9,1,1,7,9,5,2,10],10,4))\n",
    "# 6 1 9 1 1 7 9 5 2 10\n",
    "# print(sol.getMinDiff([3, 9, 12, 16, 20],5,3))\n",
    "# print(sol.getMinDiff([1, 5, 8, 10],4,2))"
   ]
  },
  {
   "cell_type": "raw",
   "metadata": {},
   "source": [
    "# Minimum number of jumps\n",
    "\n",
    "# https://practice.geeksforgeeks.org/problems/minimum-number-of-jumps-1587115620/1\n",
    "\n",
    "Example 1:\n",
    "\n",
    "# Input:\n",
    "# N=11 \n",
    "# arr=1 3 5 8 9 2 6 7 6 8 9 \n",
    "# Output: 3 \n",
    "# Explanation: \n",
    "# First jump from 1st element to 2nd \n",
    "# element with value 3. Now, from here \n",
    "# we jump to 5th element with value 9, \n",
    "# and from here we will jump to last. \n",
    "\n",
    "# Example 2:\n",
    "\n",
    "# Input :\n",
    "# N= 6\n",
    "# arr= 1 4 3 2 6 7\n",
    "# Output: 2 \n",
    "# Explanation: \n",
    "# First we jump from the 1st to 2nd element \n",
    "# and then jump to the last element.\n"
   ]
  },
  {
   "cell_type": "code",
   "execution_count": 83,
   "metadata": {},
   "outputs": [
    {
     "name": "stdout",
     "output_type": "stream",
     "text": [
      "3\n",
      "2\n"
     ]
    }
   ],
   "source": [
    "import sys\n",
    "class Solution:\n",
    "    \"\"\" \n",
    "    dynamic programming using tabularization\n",
    "    \n",
    "    time complexity = o(n^2)\n",
    "    space complexity = o(n)\n",
    "    \"\"\"\n",
    "    def minJumps(self, arr,n):\n",
    "        table=[0 for i in range(n)]\n",
    "        max_safe=2828888\n",
    "        curr=0\n",
    "        for i in range(1, n):\n",
    "            table[i] = max_safe # any max safe integer\n",
    "            for j in range(0, i):\n",
    "                if i <= j + arr[j]:\n",
    "                    table[i] = min(table[i], table[j] + 1)\n",
    "        if table[-1]== max_safe:\n",
    "            return -1\n",
    "        return table[-1]    \n",
    "    def minJumpsOptimized(self,arr,n):\n",
    "        if n <=1:\n",
    "            return 0\n",
    "        if arr[0] == 0: \n",
    "            return -1\n",
    "#                          1, 3, 5, 8, 9, 2, 6, 7, 6, 8, 9\n",
    "\n",
    "        maxReach =arr[0]    #  1\n",
    "        steps=arr[0]       #   1\n",
    "        jump=1           #    1\n",
    "        for i in range(1,n): \n",
    "            if i == n-1:     #  1, 2, 3, 4, 5, 6, 7, 8, 9,10\n",
    "                return jump        # maxReach = 1; 5 ; 7; 11; 13; 14; 17\n",
    "            maxReach= max(maxReach,arr[i]+i)   #max(1,3+1)=4; max(4,5+2)=7; max(7,8+3)=11; max(11,9+4)=13\n",
    "#                                               max(13,2+5)=13; max(13,6+6)=13; max(13,7+7)=14\n",
    "#                                            max(14,6+8)=14; max(14,8+9)=17\n",
    "            steps=steps-1           # start=1; now 0;4=4-1=3;5-1=4;8-1=7;9-1=8;8-1;7-1=6;7-1=6;8-1=7;10-1\n",
    "            if steps == 0:\n",
    "                jump+=1              # jump =2\n",
    "                if i>= maxReach:     # \n",
    "                    return -1\n",
    "                steps=maxReach-i     # 4; 5; 11-3=8; 13-4=9; 13-5= 8; 13-6; 14-7; 14-6=8;17-7=10\n",
    "        return -1\n",
    "sol= Solution() #   0  1  2  3  4  5  6  7  8  9 10 \n",
    "print(sol.minJumps([1, 3, 5, 8, 9, 2, 6, 7, 6, 8, 9],11)) # 3\n",
    "print(sol.minJumpsOptimized([1, 4, 3, 2, 6, 7],6)) # 2\n",
    "# print(sol.minJumps([1, 3, 6, 1, 0, 9],6)) # 3\n",
    "# print(sol.minJumps([2,1,0,3],4)) # -1"
   ]
  },
  {
   "cell_type": "code",
   "execution_count": null,
   "metadata": {},
   "outputs": [],
   "source": []
  },
  {
   "cell_type": "code",
   "execution_count": 1,
   "metadata": {},
   "outputs": [
    {
     "name": "stdout",
     "output_type": "stream",
     "text": [
      "4\n"
     ]
    }
   ],
   "source": [
    "def subs(str1,str2,i=0,j=0):\n",
    "    if i==len(str1)-1 or j== len(str2)-1:\n",
    "        return 0\n",
    "    elif str1[i]==str2[j]:\n",
    "        return 1+ subs(str1,str2,i+1,j+1)\n",
    "    else:\n",
    "        return max(subs(str1,str2,i+1,j),subs(str1,str2,i,j+1))\n",
    "print(subs('ABCBDAB','BCDABA'))    "
   ]
  },
  {
   "cell_type": "code",
   "execution_count": 1,
   "metadata": {},
   "outputs": [
    {
     "name": "stdout",
     "output_type": "stream",
     "text": [
      "None\n"
     ]
    }
   ],
   "source": [
    "class Solution:\n",
    "    def maxSumIS(self, arr, n,i=0):\n",
    "        if arr[i]==0:\n",
    "            return 0\n",
    "sol= Solution()\n",
    "print(sol.maxSumIS([1,3,5,8,9,2,6,7,6,8,9],3))"
   ]
  },
  {
   "cell_type": "code",
   "execution_count": 50,
   "metadata": {},
   "outputs": [
    {
     "name": "stdout",
     "output_type": "stream",
     "text": [
      "150th ugly no. is  15\n"
     ]
    }
   ],
   "source": [
    "def maxDivide(a, b):\n",
    "    while a % b == 0:\n",
    "        a = a / b\n",
    "    return a\n",
    "def isUgly(no):\n",
    "    no = maxDivide(no, 2)\n",
    "    no = maxDivide(no, 3)\n",
    "    no = maxDivide(no, 5)\n",
    "    return 1 if no == 1 else 0\n",
    "def getNthUglyNo(n):\n",
    "    i = 1     \n",
    "    count = 1 \n",
    "    while n > count:\n",
    "        i += 1\n",
    "        if isUgly(i):\n",
    "            count += 1\n",
    "    return i\n",
    "# Driver code\n",
    "no = getNthUglyNo(11)\n",
    "print(\"150th ugly no. is \", no)"
   ]
  },
  {
   "cell_type": "code",
   "execution_count": 42,
   "metadata": {},
   "outputs": [
    {
     "data": {
      "text/plain": [
       "8"
      ]
     },
     "execution_count": 42,
     "metadata": {},
     "output_type": "execute_result"
    }
   ],
   "source": [
    "def solve(n):\n",
    "    if n < 0:\n",
    "        return 0\n",
    "    if n == 0:\n",
    "        return 1\n",
    "    return (solve(n - 1) +solve(n - 3) +solve(n - 5))\n",
    "solve(6)"
   ]
  },
  {
   "cell_type": "markdown",
   "metadata": {},
   "source": [
    "https://practice.geeksforgeeks.org/problems/merge-two-sorted-arrays5135/1\n",
    "\n",
    "Merge Without Extra Space\n",
    "\n",
    "Given two sorted arrays arr1[] of size N and arr2[] of size M. Each array is sorted in non-decreasing order.\n",
    "Merge the two arrays into one sorted array in non-decreasing order without using any extra space.\n",
    "Example 1:\n",
    "\n",
    "Input:\n",
    "N = 4, M = 5\n",
    "arr1[] = {1, 3, 5, 7}\n",
    "arr2[] = {0, 2, 6, 8, 9}\n",
    "Output: 0 1 2 3 5 6 7 8 9\n",
    "Explanation: Since you can't use any \n",
    "extra space, modify the given arrays\n",
    "to form \n",
    "arr1[] = {0, 1, 2, 3}\n",
    "arr2[] = {5, 6, 7, 8, 9}\n",
    "\n",
    "Example 2:\n",
    "\n",
    "Input:\n",
    "N = 2, M = 3\n",
    "arr1[] = {10, 12}\n",
    "arr2[] = {5, 18, 20}\n",
    "Output: 5 10 12 18 20\n",
    "Explanation: Since you can't use any\n",
    "extra space, modify the given arrays\n",
    "to form \n",
    "arr1[] = {5, 10}\n",
    "arr2[] = {12, 18, 20}"
   ]
  },
  {
   "cell_type": "code",
   "execution_count": 124,
   "metadata": {},
   "outputs": [
    {
     "name": "stdout",
     "output_type": "stream",
     "text": [
      "[1, 2, 5, 5, 6, 7, 7, 7, 8, 8, 9, 9, 9, 10, 10, 11, 11, 12, 12, 12, 12, 13, 13, 13, 14] arr1 [15, 15, 16, 16, 17, 18, 18, 18, 18, 18, 19, 20, 20, 20]\n"
     ]
    }
   ],
   "source": [
    "class Solution:\n",
    "    def merge(self, arr1, arr2, n, m): \n",
    "        i=j=0\n",
    "        k=n-1\n",
    "        while (i <= k and j < m):\n",
    "            if (arr1[i] < arr2[j]):\n",
    "                i=i+1\n",
    "            else:\n",
    "                arr2[j],arr1[k]=arr1[k],arr2[j]\n",
    "                j=j+1\n",
    "                k=k-1\n",
    "        arr1.sort()\n",
    "        arr2.sort()\n",
    "#         print(arr1,'arr1',arr2)\n",
    "#             swap(arr2[j++], arr1[k--]);\n",
    "sol = Solution()\n",
    "# arr1=[1, 3, 5, 7]     [0,3,5,7]\n",
    "# arr2=[0, 2, 6, 8, 9]  [1,2,6,8,9]\n",
    "# sol.merge(arr1,arr2,3,4) # 0 1 2 3 5 6 7 8 9\n",
    "# sol.merge([7,9,9,10,11,11,13,14,17,19],[1,1,4,5,8,11,13,16,19,19],10,10)\n",
    "# sol.merge([10, 12],[5, 18, 20],2,3) # 5 10 12 18 20\n",
    "arr1=[2,6,7,8,9,9,10,10,11,12,12,12,12,13,13,13,14,15,16,16,17,18,18,19,20]\n",
    "arr2=[1,5,5,7,7,8,9,11,15,18,18,18,20,20]\n",
    "sol.merge(arr1,arr2,25,14)"
   ]
  },
  {
   "cell_type": "markdown",
   "metadata": {},
   "source": [
    "https://practice.geeksforgeeks.org/problems/count-pairs-with-given-sum5022/1\n",
    "Count pairs with given sum\n",
    "\n",
    "Given an array of N integers, and an integer K, find the number of pairs of elements in the array whose sum is equal to K.\n",
    "\n",
    "\n",
    "Example 1:\n",
    "\n",
    "Input:\n",
    "N = 4, K = 6\n",
    "arr[] = {1, 5, 7, 1}\n",
    "Output: 2\n",
    "Explanation: \n",
    "arr[0] + arr[1] = 1 + 5 = 6 \n",
    "and arr[1] + arr[3] = 5 + 1 = 6.\n",
    "\n",
    "\n",
    "Example 2:\n",
    "\n",
    "Input:\n",
    "N = 4, X = 2\n",
    "arr[] = {1, 1, 1, 1}\n",
    "Output: 6\n",
    "Explanation: \n",
    "Each 1 will produce sum 2 with any 1."
   ]
  },
  {
   "cell_type": "code",
   "execution_count": 24,
   "metadata": {},
   "outputs": [
    {
     "name": "stdout",
     "output_type": "stream",
     "text": [
      "6\n",
      "2\n",
      "0\n"
     ]
    }
   ],
   "source": [
    "class Solution:\n",
    "#     def getPairsCount(self, arr, n, k):\n",
    "#         i=0\n",
    "#         j=1\n",
    "#         count=0  # # [1, 1, 1, 1],4,2)\n",
    "#         while True:    \n",
    "#             if i==n-1:    #i=0 \n",
    "#                 break     # \n",
    "#             if j<=n-1:   # j=1,2\n",
    "#                 if  arr[i]+arr[j]==k: # 1+1=2; 1+arr[2](1)=2;1+arr[3]==2\n",
    "#                     count=count+1 #  count=1, count=2; count=3\n",
    "#                     j=j+1  #    j=2, j=3\n",
    "#                 else:\n",
    "#                     j=j+1\n",
    "#             else:\n",
    "#                 if j>=n-1 and i+2 <=n-1:\n",
    "#                     j=i+2\n",
    "#                 elif i+2 >n-1:\n",
    "#                     j=j+1\n",
    "#                 else:\n",
    "#                     j=i+2\n",
    "#                 i=i+1\n",
    "#         return count\n",
    "    def getPairsCount(self,arr, n, k):\n",
    "        obj={}\n",
    "        for i in range(len(arr)):\n",
    "            obj[arr[i]]= obj.get(arr[i],0)+1\n",
    "        # print(obj)    \n",
    "        count=0\n",
    "#         print(obj)\n",
    "        for i in range(n):\n",
    "            if(k>arr[i] and obj.get(k-arr[i],0) and obj.get(k-arr[i],0)>0):\n",
    "                count += obj.get(k-arr[i],0)\n",
    "#                 print(count,\"count\")\n",
    "                \n",
    "                # obj[k-arr[i]]=obj[k-arr[i]]-1\n",
    "            if (k - arr[i] == arr[i]):\n",
    "                count -= 1    \n",
    "        return count//2   \n",
    "    def getPairsCountOptimised(self, arr, n, k):\n",
    "        count = {}\n",
    "        for num in arr:\n",
    "            count[num] = count.get(num, 0) + 1\n",
    "\n",
    "        total_double = 0\n",
    "        for num in arr:\n",
    "            complement = k - num\n",
    "            if complement in count:\n",
    "                total_double += count[complement]\n",
    "                if complement == num:\n",
    "                    total_double -= 1\n",
    "        return total_double // 2\n",
    "sol= Solution()    \n",
    "print(sol.getPairsCountOptimised([1, 1, 1, 1],4,2)) #6\n",
    "print(sol.getPairsCountOptimised([1, 5, 7, 1],4,6)) # 2\n",
    "# print(sol.getPairsCount([1, 5, 7, -1, 5],5,6))"
   ]
  },
  {
   "cell_type": "markdown",
   "metadata": {},
   "source": [
    "https://practice.geeksforgeeks.org/problems/kth-smallest-element5635/1\n",
    "\n",
    "Given an array arr[] and a number K where K is smaller than size of array, the task is to find the Kth smallest element in the given array. It is given that all array elements are distinct.\n",
    "\n",
    "Example 1:\n",
    "\n",
    "Input:\n",
    "N = 6\n",
    "arr[] = 7 10 4 3 20 15\n",
    "K = 3\n",
    "Output : 7\n",
    "Explanation :\n",
    "3rd smallest element in the given \n",
    "array is 7.\n",
    "\n",
    "Example 2:\n",
    "\n",
    "Input:\n",
    "N = 5\n",
    "arr[] = 7 10 4 20 15\n",
    "K = 4\n",
    "Output : 15\n",
    "Explanation :\n",
    "4th smallest element in the given \n",
    "array is 15."
   ]
  },
  {
   "cell_type": "code",
   "execution_count": null,
   "metadata": {},
   "outputs": [],
   "source": [
    "class Solution:\n",
    "    def kthSmallest(self,arr, l, r, k):\n",
    "        \n",
    "    \n",
    "    "
   ]
  },
  {
   "cell_type": "markdown",
   "metadata": {},
   "source": [
    "# Count Inversions \n",
    "\n",
    "Given an array of integers. Find the Inversion Count in the array. \n",
    "\n",
    "Inversion Count: For an array, inversion count indicates how far (or close) the array is from being sorted. If array is already sorted then the inversion count is 0. If an array is sorted in the reverse order then the inversion count is the maximum. \n",
    "Formally, two elements a[i] and a[j] form an inversion if a[i] > a[j] and i < j.\n",
    " \n",
    "\n",
    "Example 1:\n",
    "\n",
    "Input: N = 5, arr[] = {2, 4, 1, 3, 5}\n",
    "Output: 3\n",
    "Explanation: The sequence 2, 4, 1, 3, 5 \n",
    "has three inversions (2, 1), (4, 1), (4, 3).\n",
    "\n",
    "Example 2:\n",
    "\n",
    "Input: N = 5\n",
    "arr[] = {2, 3, 4, 5, 6}\n",
    "Output: 0\n",
    "Explanation: As the sequence is already \n",
    "sorted so there is no inversion count.\n",
    "\n",
    "Example 3:\n",
    "\n",
    "Input: N = 3, arr[] = {10, 10, 10}\n",
    "Output: 0\n",
    "Explanation: As all the elements of array \n",
    "are same, so there is no inversion count."
   ]
  },
  {
   "cell_type": "code",
   "execution_count": null,
   "metadata": {},
   "outputs": [],
   "source": [
    "class Solution:\n",
    "    def inversionCount(self, arr, n):\n",
    "        pass\n",
    "sol=Solution()    \n",
    "print(sol.inversionCount([],0))"
   ]
  },
  {
   "cell_type": "markdown",
   "metadata": {},
   "source": [
    "# Common elements \n",
    "https://practice.geeksforgeeks.org/problems/common-elements1132/1\n",
    "    \n",
    "Given three arrays sorted in increasing order. Find the elements that are common in all three arrays.\n",
    "Note: can you take care of the duplicates without using any additional Data Structure?\n",
    "\n",
    "\n",
    "Expected Time Complexity: O(n1 + n2 + n3)\n",
    "Expected Auxiliary Space: O(n1 + n2 + n3)\n",
    "\n",
    "\n",
    "Example 1:\n",
    "\n",
    "Input:\n",
    "n1 = 6; A = {1, 5, 10, 20, 40, 80}\n",
    "n2 = 5; B = {6, 7, 20, 80, 100}\n",
    "n3 = 8; C = {3, 4, 15, 20, 30, 70, 80, 120}\n",
    "Output: 20 80\n",
    "Explanation: 20 and 80 are the only\n",
    "common elements in A, B and C.  \n",
    "\n"
   ]
  },
  {
   "cell_type": "code",
   "execution_count": 85,
   "metadata": {},
   "outputs": [
    {
     "name": "stdout",
     "output_type": "stream",
     "text": [
      "[3]\n"
     ]
    }
   ],
   "source": [
    "class Solution:\n",
    "    def commonElements (self,A, B, C, n1, n2, n3):\n",
    "        d_one={}\n",
    "        d_two={}\n",
    "        d_three={}\n",
    "        for i in A:\n",
    "            d_one[i]=d_one.get(i,0)+1\n",
    "        for i in B:\n",
    "            d_two[i]=d_two.get(i,0)+1\n",
    "        for i in C:\n",
    "            d_three[i]=d_three.get(i,0)+1\n",
    "        length=min(n1,n2,n3)\n",
    "        maxArr =[]\n",
    "        if n1 >= n2 and n1 >= n3:\n",
    "            maxArr = A\n",
    "        elif n2 >= n1 and n2 >= n3:\n",
    "            maxArr=B\n",
    "        elif n3 >= n1 and n3 >= n2:\n",
    "            maxArr=C\n",
    "        items=[]\n",
    "        for i in range(len(maxArr)):\n",
    "            if maxArr[i] in d_one and maxArr[i] in d_two and maxArr[i] in d_three:\n",
    "                items.append(maxArr[i])\n",
    "        return items\n",
    "sol = Solution()\n",
    "# A=[1, 5, 10, 20, 40, 80]\n",
    "# B=[6, 7, 20, 80, 100]\n",
    "# C=[3, 4, 15, 20, 30, 70, 80, 120]\n",
    "# 6 5 8\n",
    "# A =[1,5,10,20,40,80]\n",
    "# B= [6,7,20,80,100]\n",
    "# C=[3,4,15,20,30,70,80,120]\n",
    "A=[3,3,3]\n",
    "B=[3,3,3]\n",
    "c=[3,3,3]\n",
    "n1=len(A)\n",
    "n2=len(B)\n",
    "n3=len(C)\n",
    "print(sol.commonElements(A,B,C,n1,n2,n3))"
   ]
  },
  {
   "cell_type": "markdown",
   "metadata": {},
   "source": [
    "# Rearrange array in alternating positive & negative items with O(1) extra space\n",
    "Given an array of positive and negative numbers, arrange them in an alternate fashion such that every positive number is followed by negative and vice-versa maintaining the order of appearance. \n",
    "Number of positive and negative numbers need not be equal. If there are more positive numbers they appear at the end of the array. If there are more negative numbers, they too appear in the end of the array.\n",
    "\n",
    "Examples : \n",
    "\n",
    "Input:  arr[] = {1, 2, 3, -4, -1, 4}\n",
    "Output: arr[] = {-4, 1, -1, 2, 3, 4}\n",
    "\n",
    "Input:  arr[] = {-5, -2, 5, 2, 4, 7, 1, 8, 0, -8}\n",
    "output: arr[] = {-5, 5, -2, 2, -8, 4, 7, 1, 8, 0}"
   ]
  },
  {
   "cell_type": "code",
   "execution_count": 42,
   "metadata": {},
   "outputs": [
    {
     "name": "stdout",
     "output_type": "stream",
     "text": [
      "Given array is\n",
      "[-5, -2, 5, 2, 4, 7, 1, 8, 0, -8]\n",
      "Rearranged array is\n",
      "[-8, -5, -2, 0, 1, 2, 4, 5, 7, 8]\n"
     ]
    }
   ],
   "source": [
    "# if order is not important\n",
    "def rearrange(arr, n):\n",
    "    arr.sort()\n",
    "    i=j=1\n",
    "    while j<n:\n",
    "        if arr[j]>0:\n",
    "            break\n",
    "        j +=1\n",
    "    while arr[i]>0 and j<n:\n",
    "        arr[i],arr[j]=arr[j],arr[j]\n",
    "        i=i+2\n",
    "        j=j+1\n",
    "    return arr\n",
    "\n",
    "# Driver code\n",
    "# arr = [2, 3]\n",
    "\n",
    "# arr=[-5, 3, 4, 5, -6, -2, 8, 9, -1, -4]\n",
    "# arr=[1, 2, 3, -4, -1, 4]\n",
    "# arr=[-5, -2, 5, 2, 4, 7, 1, 8, 0, -8]\n",
    "arr = [-5, -2, 5, 2, 4, 7, 1, 8, 0, -8]\n",
    "n = len(arr)\n",
    "\n",
    "print( \"Given array is\")\n",
    "print(arr)\n",
    "rearrange(arr, n)\n",
    "print( \"Rearranged array is\")\n",
    "print(arr)\n",
    "\n"
   ]
  },
  {
   "cell_type": "markdown",
   "metadata": {},
   "source": [
    "https://practice.geeksforgeeks.org/problems/subarray-with-0-sum-1587115621/1\n",
    "# Subarray with 0 sum \n",
    "Given an array of positive and negative numbers. Find if there is a subarray (of size at-least one) with 0 sum.\n",
    "\n",
    "Example 1:\n",
    "\n",
    "Input:\n",
    "5\n",
    "4 2 -3 1 6\n",
    "\n",
    "Output: \n",
    "Yes\n",
    "\n",
    "Explanation: \n",
    "2, -3, 1 is the subarray \n",
    "with sum 0.\n",
    "\n",
    "Example 2:\n",
    "\n",
    "Input:\n",
    "5\n",
    "4 2 0 1 6\n",
    "\n",
    "Output: \n",
    "Yes\n",
    "\n",
    "Explanation: \n",
    "0 is one of the element \n",
    "in the array so there exist a \n",
    "subarray with sum 0.\n"
   ]
  },
  {
   "cell_type": "code",
   "execution_count": 41,
   "metadata": {},
   "outputs": [
    {
     "name": "stdout",
     "output_type": "stream",
     "text": [
      "Yes\n",
      "Yes\n",
      "No\n"
     ]
    }
   ],
   "source": [
    "class Solution:\n",
    "    #Function to check whether there is a subarray present with 0-sum or not.\n",
    "    def subArrayExists(self,arr,n):\n",
    "        s=set()\n",
    "        new_sum=0\n",
    "        i=0\n",
    "        while i <=n-1:\n",
    "            new_sum +=arr[i]\n",
    "            if new_sum ==0 or new_sum in s:\n",
    "                return 'Yes'\n",
    "            s.add(new_sum)\n",
    "            i+=1\n",
    "        return 'No'    \n",
    "sol=Solution()    \n",
    "print(sol.subArrayExists([4,2,-3,1,6],5)) # Yes\n",
    "print(sol.subArrayExists([4,2,0,1,6],5)) # Yes\n",
    "print(sol.subArrayExists([1,2,3,4,5],5)) # No"
   ]
  },
  {
   "cell_type": "markdown",
   "metadata": {},
   "source": [
    "# Maximum Product Subarray\n",
    "Given an array Arr that contains N integers (may be positive, negative or zero). Find the product of the maximum product subarray.\n",
    "\n",
    "Example 1:\n",
    "\n",
    "Input:\n",
    "N = 5\n",
    "Arr[] = {6, -3, -10, 0, 2}\n",
    "Output: 180\n",
    "Explanation: Subarray with maximum product\n",
    "is 6, -3, -10 which gives product as 180.\n",
    "\n",
    "Example 2:\n",
    "\n",
    "Input:\n",
    "N = 6\n",
    "Arr[] = {2, 3, 4, 5, -1, 0}\n",
    "Output: 120\n",
    "Explanation: Subarray with maximum product\n",
    "is 2, 3, 4, 5 which gives product as 120.\n"
   ]
  },
  {
   "cell_type": "code",
   "execution_count": 5,
   "metadata": {},
   "outputs": [
    {
     "name": "stdout",
     "output_type": "stream",
     "text": [
      "288\n",
      "60480\n",
      "7\n",
      "180\n",
      "120\n",
      "180\n",
      "38263752\n",
      "14\n",
      "90\n",
      "180\n"
     ]
    }
   ],
   "source": [
    "class Solution:\n",
    "    def maxProduct(self,arr, n):\n",
    "        max_el=arr[0]\n",
    "        min_el=arr[0]\n",
    "        max_product=arr[0]\n",
    "        for i in range(1,n,1):\n",
    "            if arr[i]<0:\n",
    "                max_el,min_el=min_el,max_el\n",
    "            max_el=max(arr[i],max_el*arr[i])\n",
    "            min_el=min(arr[i],min_el*arr[i])\n",
    "            max_product=max(max_el,max_product)\n",
    "        return max_product\n",
    "sol=Solution()    \n",
    "print(sol.maxProduct([8,-2,-2,0,8,0,-6,-8,-6,-1],10)) # 288\n",
    "print(sol.maxProduct([0,3,-5,-2,8,-7,-6,-2,-3,-9],10)) # 60480\n",
    "print(sol.maxProduct([0,1,-5,7],4)) # 7\n",
    "print(sol.maxProduct([6,-3,-10,0,2],5)) # 180\n",
    "print(sol.maxProduct([2, 3, 4, 5, -1, 0],6)) # 120\n",
    "\n",
    "print(sol.maxProduct([6,-3,-10,0,2],5)) # 180\n",
    "print(sol.maxProduct([9,-9,8,-9,-9,-9,-9,-9],8)) # 38263752\n",
    "print(sol.maxProduct([0,2,1,7],4)) # 14\n",
    "print(sol.maxProduct([-8,5,3,1,6],5)) # 90\n",
    "print(sol.maxProduct([6,-3 ,-10 ,0 ,2],5))"
   ]
  },
  {
   "cell_type": "markdown",
   "metadata": {},
   "source": [
    "# Factorials of large numbers\n",
    "Given an integer N, find its factorial.\n",
    "\n",
    "Example 1:\n",
    "\n",
    "Input: N = 5\n",
    "Output: 120\n",
    "Explanation : 5! = 1*2*3*4*5 = 120\n",
    "\n",
    "\n",
    "Example 2:\n",
    "\n",
    "Input: N = 10\n",
    "Output: 3628800\n",
    "Explanation :\n",
    "10! = 1*2*3*4*5*6*7*8*9*10 = 3628800"
   ]
  },
  {
   "cell_type": "code",
   "execution_count": 16,
   "metadata": {},
   "outputs": [
    {
     "name": "stdout",
     "output_type": "stream",
     "text": [
      "12655723162254307425418678245150829297671403862274660768187828858528140823147351237817802795619571074765208532598060224803240903782164769430795025578054271906283387643826088448124626488332623608376164081221171179439885840257818732919037889603719186743943363062139593784473922231852782547619771723889252476871186000174697934549112845662596182308280390615184691924446215552586523740084932807259056238962104689731522587564412231618018774350801526839567367444928206231310973619440354723718012867753019556135721376207959558860559933052856914157120622980057169891912595926540427596853441276985006724869558201930657900240943007657817473684008944448183219124163017666607770667585082169598239230274035517738648065600492702095732843492708856036920219883363111527988109277392696562776813446645651238419301586157342867860646666350050113314787911320639668510871569846664873595017518995670958477806411667505346462590471136862647349666243426242677175204732314281064417939041868653741187423064985189556742640111598580035644021835576715752869397465453828584471291269955890393294448315746500268702149708808053100406398480942695623586049403348084970064668900206251516968479727515576425962392136269169089884609794271331061018895634421094082310408889752954265842691732460538911784960000000000000000000000000000000000000000000000000000000000000000000000000000000000000000000000000000000000000000000000000000000000000000000000000000\n"
     ]
    }
   ],
   "source": [
    "class Solution:\n",
    "    def factorialMemoise(self, n):\n",
    "        if n==1:\n",
    "            return 1\n",
    "        if n==2:\n",
    "            return 2\n",
    "        return self.factorialMemoise(n-1)*n\n",
    "    def factorialTabulated(self,n):\n",
    "        table=[0 for i in range(n+1)]\n",
    "        if n==1:\n",
    "            return 1\n",
    "        if n==2:\n",
    "            return 2\n",
    "        table[0]=1\n",
    "        table[1]=2\n",
    "        for i in range(1,n):\n",
    "            table[i]=i*table[i-1]\n",
    "        return table[n-1]\n",
    "sol=Solution()    \n",
    "print(sol.factorialMemoise(600))"
   ]
  },
  {
   "cell_type": "markdown",
   "metadata": {},
   "source": [
    "# Longest consecutive subsequence\n",
    "Given an array of positive integers. Find the length of the longest sub-sequence such that elements in the subsequence are consecutive integers, the consecutive numbers can be in any order.\n",
    " \n",
    "\n",
    "Example 1:\n",
    "\n",
    "Input:\n",
    "N = 7\n",
    "a[] = {2,6,1,9,4,5,3}\n",
    "Output:\n",
    "6\n",
    "Explanation:\n",
    "The consecutive numbers here\n",
    "are 1, 2, 3, 4, 5, 6. These 6 \n",
    "numbers form the longest consecutive\n",
    "subsquence.\n",
    "\n",
    "Example 2:\n",
    "\n",
    "Input:\n",
    "N = 7\n",
    "a[] = {1,9,3,10,4,20,2}\n",
    "Output:\n",
    "4\n",
    "Explanation:\n",
    "1, 2, 3, 4 is the longest\n",
    "consecutive subsequence.\n"
   ]
  },
  {
   "cell_type": "code",
   "execution_count": 3,
   "metadata": {},
   "outputs": [
    {
     "name": "stdout",
     "output_type": "stream",
     "text": [
      "6\n",
      "6\n",
      "4\n",
      "4\n",
      "3\n"
     ]
    }
   ],
   "source": [
    "class Solution:\n",
    "    \n",
    "    # arr[] : the input array\n",
    "    # N : size of the array arr[]\n",
    "    \n",
    "    #Function to return length of longest subsequence of consecutive integers.\n",
    "    def findLongestConseqSubseq(self,arr, n):\n",
    "        s=set()\n",
    "        res=0\n",
    "        for i in arr:\n",
    "            s.add(i)\n",
    "        for i in arr:\n",
    "            j=i\n",
    "            while j-1 in s:\n",
    "                j+=1\n",
    "            res=max(res,j-i)\n",
    "        return res\n",
    "# a = [1,9,3,10,4,2000,2]\n",
    "# longSequence(a,len(a))\n",
    "        \n",
    "sol=Solution()    \n",
    "print(sol.findLongestConseqSubseq([9,8,7,6,5,4,9,8,7,6,5,4,4],13)) # 6\n",
    "print(sol.findLongestConseqSubseq([2,6,1,9,4,5,3],7))# 6\n",
    "print(sol.findLongestConseqSubseq([1,9,3,10,4,20,2],7))# 4\n",
    "print(sol.findLongestConseqSubseq([10,20,21,22,23],5)) # 4\n",
    "print(sol.findLongestConseqSubseq([100, 46, 188, 197, 49, 190, 103, 33, 163, 97, 53, 92, 86 ,125 ,152, 196 ,175, 157 ,129 ,36 ,60 ,14 ,121 ,104 ,28 ,27 ,50 ,148, 156, 102],30))"
   ]
  },
  {
   "cell_type": "code",
   "execution_count": null,
   "metadata": {},
   "outputs": [],
   "source": []
  },
  {
   "cell_type": "markdown",
   "metadata": {},
   "source": [
    "# Array Subset of another array \n",
    "\n",
    "Given two arrays: a1[0..n-1] of size n and a2[0..m-1] of size m. Task is to check whether a2[] is a subset of a1[] or not. Both the arrays can be sorted or unsorted. It may be assumed that elements in both array are distinct.\n",
    " \n",
    "\n",
    "Example 1:\n",
    "\n",
    "Input:\n",
    "a1[] = {11, 1, 13, 21, 3, 7}\n",
    "a2[] = {11, 3, 7, 1}\n",
    "Output:\n",
    "Yes\n",
    "Explanation:\n",
    "a2[] is a subset of a1[]\n",
    "\n",
    "\n",
    "Example 2:\n",
    "\n",
    "Input:\n",
    "a1[] = {1, 2, 3, 4, 5, 6}\n",
    "a2[] = {1, 2, 4}\n",
    "Output:\n",
    "Yes\n",
    "Explanation:\n",
    "a2[] is a subset of a1[]\n",
    "\n",
    "\n",
    "Example 3:\n",
    "\n",
    "Input:\n",
    "a1[] = {10, 5, 2, 23, 19}\n",
    "a2[] = {19, 5, 3}\n",
    "Output:\n",
    "No\n",
    "Explanation:\n",
    "a2[] is not a subset of a1[]"
   ]
  },
  {
   "cell_type": "code",
   "execution_count": 3,
   "metadata": {},
   "outputs": [
    {
     "name": "stdout",
     "output_type": "stream",
     "text": [
      "Yes\n"
     ]
    }
   ],
   "source": [
    "def isSubset( a1, a2, n, m):\n",
    "    obj={}\n",
    "    for i in a1:\n",
    "        obj[i]=obj.get(i,0)+1\n",
    "    count=0\n",
    "    for i in a2:\n",
    "        if i in obj:\n",
    "            count +=1\n",
    "    return 'Yes' if count ==m else 'No'\n",
    "a1=[11, 1, 13, 21, 3, 7]\n",
    "a2=[11, 3, 7, 1]\n",
    "n=len(a1)\n",
    "m=len(a2)\n",
    "print(isSubset(a1,a2,n,m))"
   ]
  },
  {
   "cell_type": "markdown",
   "metadata": {},
   "source": [
    "# Triplet Sum in Array \n",
    "Given an array arr of size n and an integer X. Find if there's a triplet in the array which sums up to the given integer X.\n",
    "\n",
    "\n",
    "Example 1:\n",
    "\n",
    "Input:\n",
    "n = 6, X = 13\n",
    "arr[] = [1 4 45 6 10 8]\n",
    "Output:\n",
    "1\n",
    "Explanation:\n",
    "The triplet {1, 4, 8} in \n",
    "the array sums up to 13.\n",
    "\n",
    "Example 2:\n",
    "\n",
    "Input:\n",
    "n = 5, X = 10\n",
    "arr[] = [1 2 4 3 6]\n",
    "Output:\n",
    "1\n",
    "Explanation:\n",
    "The triplet {1, 3, 6} in \n",
    "the array sums up to 10.\n"
   ]
  },
  {
   "cell_type": "code",
   "execution_count": 76,
   "metadata": {},
   "outputs": [
    {
     "name": "stdout",
     "output_type": "stream",
     "text": [
      "174 430 405 706 627 813 376 94 566 37 737 142 815 995 257 653 937 839 483 356 16 132 231 842 626 12 638\n",
      "True\n"
     ]
    }
   ],
   "source": [
    "class Solution:\n",
    "    def find3Numbers(self,arr, n, x):\n",
    "        arr.sort()\n",
    "        for i in range(0,n-2):\n",
    "            j=i+1\n",
    "            k=n-1\n",
    "            while j<k:\n",
    "                if arr[i]+arr[j]+arr[k] == x:\n",
    "                    return True\n",
    "                elif arr[i]+arr[j]+arr[k] < x:\n",
    "                    j+=1\n",
    "                else:\n",
    "                    k -=1\n",
    "        return False\n",
    "sol=Solution()\n",
    "# print(sol.find3Numbers([1,2,4,3,6],5,10)) # 1\n",
    "# print(sol.find3Numbers([1,4,45,6,10,8],6,13)) # 1\n",
    "arr = [int(x) for x in input().split()]\n",
    "print(sol.find3Numbers(arr,27,1107))\n",
    "# 174 430 405 706 627 813 376 94 566 37 737 142 815 995 257 653 937 839 483 356 16 132 231 842 626 12 638"
   ]
  },
  {
   "cell_type": "markdown",
   "metadata": {},
   "source": [
    "# Find the median \n",
    "Given an array arr[] of N integers, calculate the median\n",
    " \n",
    "\n",
    "Example 1:\n",
    "\n",
    "Input: N = 5\n",
    "arr[] = 90 100 78 89 67\n",
    "Output: 89\n",
    "Explanation: After sorting the array \n",
    "middle element is the median \n",
    "\n",
    "Example 2:\n",
    "\n",
    "Input: N = 4\n",
    "arr[] = 56 67 30 79â€‹\n",
    "Output: 61\n",
    "Explanation: In case of even number of \n",
    "elemebts average of two middle elements \n",
    "is the median\n",
    "\n"
   ]
  },
  {
   "cell_type": "code",
   "execution_count": 11,
   "metadata": {},
   "outputs": [
    {
     "name": "stdout",
     "output_type": "stream",
     "text": [
      "61\n",
      "89\n"
     ]
    }
   ],
   "source": [
    "class Solution:\n",
    "    def find_median(self, v):\n",
    "        v.sort()\n",
    "        n=len(v)\n",
    "        if n %2==0:\n",
    "            mid=n//2-1\n",
    "            prev_mid=mid+1\n",
    "            return abs((v[mid]+v[prev_mid])//2)\n",
    "        else:\n",
    "            return v[n//2]\n",
    "sol=Solution()\n",
    "print(sol.find_median([56,67,30,79]))\n",
    "print(sol.find_median([90,100,78,89,67])) # 89"
   ]
  },
  {
   "cell_type": "markdown",
   "metadata": {},
   "source": [
    "# Count More than n/k Occurences \n",
    "\n",
    "Given an array arr[] of size N and an element k. The task is to find all elements in array that appear more than n/k times.\n",
    "\n",
    "Example 1:\n",
    "\n",
    "Input:\n",
    "N = 8\n",
    "arr[] = {3,1,2,2,1,2,3,3}\n",
    "k = 4\n",
    "Output: 2\n",
    "Explanation: In the given array, 3 and\n",
    " 2 are the only elements that appears \n",
    "more than n/k times.\n",
    "\n",
    "Example 2:\n",
    "\n",
    "Input:\n",
    "N = 4\n",
    "arr[] = {2,3,3,2}\n",
    "k = 3\n",
    "Output: 2\n",
    "Explanation: In the given array, 3 and 2 \n",
    "are the only elements that appears more \n",
    "than n/k times. So the count of elements \n",
    "are 2."
   ]
  },
  {
   "cell_type": "code",
   "execution_count": 16,
   "metadata": {},
   "outputs": [
    {
     "name": "stdout",
     "output_type": "stream",
     "text": [
      "2\n",
      "2\n",
      "2\n",
      "1\n",
      "1\n"
     ]
    }
   ],
   "source": [
    "import math\n",
    "class Solution:\n",
    "    #Function to find all elements in array that appear more than n/k times.\n",
    "    def countOccurence(self,arr,n,k):\n",
    "        count = math.floor(n/k) \n",
    "        obj={}\n",
    "        for i in arr:\n",
    "            obj[i]=obj.get(i,0)+1\n",
    "        res=0\n",
    "        for i in obj:\n",
    "            if obj[i] >count:\n",
    "                res+=1\n",
    "                obj[i]=0\n",
    "        return res\n",
    "sol=Solution()    \n",
    "print(sol.countOccurence([3,1,2,2,1,2,3,3],8,4)) # 2\n",
    "print(sol.countOccurence([2,3,3,2],4,3)) # 2\n",
    "print(sol.countOccurence([1,1,2,2,3],5,3)) # 2\n",
    "print(sol.countOccurence([1,2,2,2,3,3],6,3)) # 1\n",
    "print(sol.countOccurence([1,1,1,1,1,1],6,5)) # 1"
   ]
  },
  {
   "cell_type": "markdown",
   "metadata": {},
   "source": [
    "# Maximum profit by buying and selling a share at most twice\n",
    "\n",
    "In daily share trading, a buyer buys shares in the morning and sells them on the same day. If the trader is allowed to make at most 2 transactions in a day, whereas the second transaction can only start after the first one is complete (Sell->buy->sell->buy). Given stock prices throughout the day, find out the maximum profit that a share trader could have made.\n",
    "\n",
    "Examples: \n",
    "\n",
    "Input:   price[] = {10, 22, 5, 75, 65, 80}\n",
    "Output:  87\n",
    "Trader earns 87 as sum of 12, 75 \n",
    "Buy at 10, sell at 22, \n",
    "Buy at 5 and sell at 80\n",
    "\n",
    "Input:   price[] = {2, 30, 15, 10, 8, 25, 80}\n",
    "Output:  100\n",
    "Trader earns 100 as sum of 28 and 72\n",
    "Buy at price 2, sell at 30, buy at 8 and sell at 80\n",
    "\n",
    "Input:   price[] = {100, 30, 15, 10, 8, 25, 80};\n",
    "Output:  72\n",
    "Buy at price 8 and sell at 80.\n",
    "\n",
    "Input:   price[] = {90, 80, 70, 60, 50}\n",
    "Output:  0\n",
    "Not possible to earn."
   ]
  },
  {
   "cell_type": "code",
   "execution_count": 17,
   "metadata": {},
   "outputs": [
    {
     "name": "stdout",
     "output_type": "stream",
     "text": [
      "None\n"
     ]
    }
   ],
   "source": [
    "def maxProfit(price, n):\n",
    "    \n",
    "print(maxProfit([10, 22, 5, 75, 65, 80],6))"
   ]
  },
  {
   "cell_type": "markdown",
   "metadata": {},
   "source": [
    "# Trapping Rain Water\n",
    "\n",
    "Given an array arr[] of N non-negative integers representing the height of blocks. If width of each block is 1, compute how much water can be trapped between the blocks during the rainy season. \n",
    " \n",
    "\n",
    "Example 1:\n",
    "\n",
    "Input:\n",
    "N = 6\n",
    "arr[] = {3,0,0,2,0,4}\n",
    "Output:\n",
    "10\n",
    "Explanation: \n",
    "\n",
    "Example 2:\n",
    "\n",
    "Input:\n",
    "N = 4\n",
    "arr[] = {7,4,0,9}\n",
    "Output:\n",
    "10\n",
    "Explanation:\n",
    "Water trapped by above \n",
    "block of height 4 is 3 units and above \n",
    "block of height 0 is 7 units. So, the \n",
    "total unit of water trapped is 10 units.\n",
    "\n",
    "Example 3:\n",
    "\n",
    "Input:\n",
    "N = 3\n",
    "arr[] = {6,9,9}\n",
    "Output:\n",
    "0\n",
    "Explanation:\n",
    "No water will be trapped."
   ]
  },
  {
   "cell_type": "code",
   "execution_count": 20,
   "metadata": {},
   "outputs": [
    {
     "name": "stdout",
     "output_type": "stream",
     "text": [
      "10\n",
      "6\n",
      "7\n",
      "4\n"
     ]
    }
   ],
   "source": [
    "class Solution:\n",
    "    def trappingWater(self, arr,n):\n",
    "        low=0\n",
    "        high=n-1\n",
    "        result=left_max=right_max=0\n",
    "        while low<=high:\n",
    "            if arr[low]<arr[high]:\n",
    "                if arr[low]>left_max:\n",
    "                    left_max=arr[low]\n",
    "                else:\n",
    "                    result +=left_max -arr[low] # 0\n",
    "                low+=1\n",
    "            else:\n",
    "                if arr[high]>right_max:\n",
    "                    right_max=arr[high]\n",
    "                else:\n",
    "                    result+=right_max -arr[high]\n",
    "                high-=1\n",
    "        return result\n",
    "sol=Solution()\n",
    "print(sol.trappingWater([3,0,0,2,0,4],6))# 10\n",
    "print(sol.trappingWater([0, 1, 0, 2, 1, 0, 1, 3, 2, 1, 2, 1],12)) # 6\n",
    "print(sol.trappingWater([3, 0, 2, 0, 4],5)) # 7\n",
    "print(sol.trappingWater([8,8,2,4,5,5,1],7)) # 4"
   ]
  },
  {
   "cell_type": "markdown",
   "metadata": {},
   "source": [
    "# Chocolate Distribution Problem\n",
    "Given an array A[ ] of positive integers of size N, where each value represents the number of chocolates in a packet. Each packet can have a variable number of chocolates. There are M students, the task is to distribute chocolate packets among M students such that :\n",
    "1. Each student gets exactly one packet.\n",
    "2. The difference between maximum number of chocolates given to a student and minimum number of chocolates given to a student is minimum.\n",
    "\n",
    "Example 1:\n",
    "\n",
    "Input:\n",
    "N = 8, M = 5\n",
    "A = {3, 4, 1, 9, 56, 7, 9, 12}\n",
    "Output: 6\n",
    "Explanation: The minimum difference between \n",
    "maximum chocolates and minimum chocolates \n",
    "is 9 - 3 = 6 by choosing following M packets :\n",
    "{3, 4, 9, 7, 9}.\n",
    "\n",
    "Example 2:\n",
    "\n",
    "Input:\n",
    "N = 7, M = 3\n",
    "A = {7, 3, 2, 4, 9, 12, 56}\n",
    "Output: 2\n",
    "Explanation: The minimum difference between\n",
    "maximum chocolates and minimum chocolates\n",
    "is 4 - 2 = 2 by choosing following M packets :\n",
    "{3, 2, 4}."
   ]
  },
  {
   "cell_type": "code",
   "execution_count": 67,
   "metadata": {},
   "outputs": [
    {
     "name": "stdout",
     "output_type": "stream",
     "text": [
      "9 1\n",
      "9 3\n",
      "12 4\n",
      "56 7\n",
      "6\n"
     ]
    }
   ],
   "source": [
    "class Solution:\n",
    "    def findMinDiff(self, arr,n,m):\n",
    "        arr.sort()\n",
    "        min_diff=arr[-1]-arr[0]\n",
    "        for i in range(n-m+1):\n",
    "            print(arr[i+m-1],arr[i])\n",
    "            min_diff = min(min_diff,arr[i+m-1]-arr[i])\n",
    "        return min_diff\n",
    "# [1, 3, 4, 7, 9, 9, 12, 56]    \n",
    "sol = Solution()    \n",
    "print(sol.findMinDiff([3, 4, 1, 9, 56, 7, 9, 12],8,5)) # 6"
   ]
  },
  {
   "cell_type": "markdown",
   "metadata": {},
   "source": [
    "# Smallest subarray with sum greater than x \n",
    "\n",
    "Given an array of integers (A[])  and a number x, find the smallest subarray with sum greater than the given value.\n",
    "\n",
    "Note: The answer always exists. It is guaranteed that x doesn't exceed the summation of a[i] (from 1 to N).\n",
    "\n",
    "Example 1:\n",
    "\n",
    "Input:\n",
    "A[] = {1, 4, 45, 6, 0, 19}\n",
    "x  =  51\n",
    "Output: 3\n",
    "Explanation:\n",
    "Minimum length subarray is \n",
    "{4, 45, 6}\n",
    "\n",
    "\n",
    "Example 2:\n",
    "\n",
    "Input:\n",
    "A[] = {1, 10, 5, 2, 7}\n",
    "   x  = 9\n",
    "Output: 1\n",
    "Explanation:\n",
    "Minimum length subarray is {10}"
   ]
  },
  {
   "cell_type": "code",
   "execution_count": 101,
   "metadata": {},
   "outputs": [
    {
     "name": "stdout",
     "output_type": "stream",
     "text": [
      "3\n",
      "4\n"
     ]
    }
   ],
   "source": [
    "class Solution:\n",
    "    def sb(self, arr, n, x):\n",
    "        start=end=0\n",
    "        length=n+1\n",
    "        curr_sum=0\n",
    "        while end <n:\n",
    "            while curr_sum <=x and end <n:\n",
    "                curr_sum +=arr[end]\n",
    "                end +=1\n",
    "            while curr_sum >x and start <n:\n",
    "                if (end-start ) < length:\n",
    "                    length = end - start\n",
    "                curr_sum -=arr[start]\n",
    "                start+=1\n",
    "        return length\n",
    "        \n",
    "sol = Solution() \n",
    "print(sol.sb([1, 4, 45, 6, 0, 19],6,51)) # 3\n",
    "# print(sol.sb([1, 10, 5, 2, 7],5,9)) # 1\n",
    "print(sol.sb([1, 11, 100, 1, 0, 200, 3, 2, 1, 250],10,280))"
   ]
  },
  {
   "cell_type": "markdown",
   "metadata": {},
   "source": [
    "# Find subarray with given sum with negatives allowed in constant space\n",
    "Given an unsorted array of integers, find a subarray that adds to a given number. If there is more than one subarray with the sum of the given number, print any of them.\n",
    "\n",
    "Examples:\n",
    "\n",
    "Input: arr[] = {1, 4, 20, 3, 10, 5}, sum = 33\n",
    "Output: Sum found between indexes 2 and 4\n",
    "\n",
    "Input: arr[] = {10, 2, -2, -20, 10}, sum = -10\n",
    "Output: Sum found between indexes 0 to 3\n",
    "\n",
    "Input: arr[] = {-10, 0, 2, -2, -20, 10}, sum = 20\n",
    "Output: No subarray with given sum exists."
   ]
  },
  {
   "cell_type": "code",
   "execution_count": null,
   "metadata": {},
   "outputs": [],
   "source": []
  },
  {
   "cell_type": "markdown",
   "metadata": {},
   "source": [
    "# Arrange given numbers to form the biggest number\n",
    "Given an array of numbers, arrange them in a way that yields the largest value.\n",
    "For example, if the given numbers are {54, 546, 548, 60}, the arrangement 6054854654 gives the largest value.\n",
    "And if the given numbers are {1, 34, 3, 98, 9, 76, 45, 4},\n",
    "then the arrangement 998764543431 gives the largest value.\n",
    "\n",
    "\n"
   ]
  },
  {
   "cell_type": "code",
   "execution_count": 28,
   "metadata": {},
   "outputs": [
    {
     "name": "stdout",
     "output_type": "stream",
     "text": [
      "['54', '546', '548', '60'] arr\n",
      "6054854654\n",
      "None\n",
      "['1', '3', '34', '4', '45', '76', '9', '98'] arr\n",
      "989764543431\n",
      "None\n"
     ]
    }
   ],
   "source": [
    "class Solution:\n",
    "    def myCompare(self,arr,n):\n",
    "        arr.sort()\n",
    "        for i in range(n):\n",
    "            arr[i]=str(arr[i])\n",
    "        res=''\n",
    "        arr.sort()\n",
    "        print(arr,'arr')\n",
    "        for i in range(n-1,-1,-1):\n",
    "            res +=arr[i]\n",
    "        print(res)\n",
    "sol = Solution()    \n",
    "print(sol.myCompare([54,546,548,60],4)) # 6054854654\n",
    "print(sol.myCompare([1,34,3,98,9,76,45,4],8)) #998764543431"
   ]
  },
  {
   "cell_type": "markdown",
   "metadata": {},
   "source": [
    "# Longest Increasing Subsequence\n",
    "\n",
    "The Longest Increasing Subsequence (LIS) problem is to find the length of the longest subsequence of a given sequence such that all elements of the subsequence are sorted in increasing order. For example, the length of LIS for {10, 22, 9, 33, 21, 50, 41, 60, 80} is 6 and LIS is {10, 22, 33, 50, 60, 80}. \n",
    "\n",
    "\n",
    "Input: arr[] = {3, 10, 2, 1, 20}\n",
    "Output: Length of LIS = 3\n",
    "The longest increasing subsequence is 3, 10, 20\n",
    "\n",
    "Input: arr[] = {3, 2}\n",
    "Output: Length of LIS = 1\n",
    "The longest increasing subsequences are {3} and {2}\n",
    "\n",
    "Input: arr[] = {50, 3, 10, 7, 40, 80}\n",
    "Output: Length of LIS = 4\n",
    "The longest increasing subsequence is {3, 7, 40, 80}"
   ]
  },
  {
   "cell_type": "code",
   "execution_count": 11,
   "metadata": {},
   "outputs": [
    {
     "name": "stdout",
     "output_type": "stream",
     "text": [
      "5\n",
      "5\n"
     ]
    }
   ],
   "source": [
    "class Solution:\n",
    "    def __init__(self):\n",
    "        self.maximum=0\n",
    "    def _lisRec(self,arr,n):\n",
    "        if n==1:\n",
    "            return 1\n",
    "        maxEndingHere =1\n",
    "        for i in range(1,n):\n",
    "            res = self._lisRec(arr,i)\n",
    "            if arr[i-1]<arr[n-1] and res+1 > maxEndingHere:\n",
    "                maxEndingHere = res+1\n",
    "        self.maximum = max(self.maximum,maxEndingHere)\n",
    "        return maxEndingHere\n",
    "    def lisRec(self,arr,n):\n",
    "        self.maximum = 1\n",
    "        self._lisRec(arr,n)\n",
    "        return self.maximum\n",
    "    def lisDP(self,arr,n):\n",
    "        table=[1 for i in range(n)]\n",
    "        for i in range(1,n):\n",
    "            for j in range(0,i):\n",
    "                if arr[i]>arr[j] and table[i] <table[j] + 1:\n",
    "                    table[i]=table[j]+1\n",
    "        maximum=0\n",
    "        for i in range(n):\n",
    "            maximum = max(maximum,table[i])\n",
    "        return maximum\n",
    "    def lisOptimised(self,arr,n):\n",
    "        b=sorted(list(set(arr)))\n",
    "        m=len(b)\n",
    "        table = [[-1]*(m+1) for i in range(n+1)]\n",
    "        for i in range(n+1):\n",
    "            for j in range(m+1):\n",
    "                if i ==0 or j == 0:\n",
    "                    table[i][j]=0\n",
    "                elif arr[i-1] == b[j-1]:\n",
    "                    table[i][j]= table[i-1][j-1]+1\n",
    "                else:\n",
    "                    table[i][j]=max(table[i-1][j],table[i][j-1])\n",
    "        return table[-1][-1]        \n",
    "    \n",
    "sol= Solution()\n",
    "print(sol.lisOptimised([10, 22, 9, 33, 21, 50, 41, 60],8)) # 5\n",
    "print(sol.lisOptimised([10, 22, 9, 33, 21, 50, 41, 60],8)) # 5"
   ]
  },
  {
   "cell_type": "markdown",
   "metadata": {},
   "source": [
    "#  swap all zero to the end\n",
    "[1,2,3,0,4,0,5,0,6,7,8,0,9,0]\n",
    "\n",
    "expected Output\n",
    "[1,2,3,4,5,6,7,8,9,0,0,0,0,0]"
   ]
  },
  {
   "cell_type": "code",
   "execution_count": 4,
   "metadata": {},
   "outputs": [
    {
     "name": "stdout",
     "output_type": "stream",
     "text": [
      "[1, 2, 3, 4, 5, 6, 7, 8, 9, 0, 0, 0, 0, 0]\n",
      "None\n"
     ]
    }
   ],
   "source": [
    "def swapZero(arr):\n",
    "    count=0\n",
    "    i=0\n",
    "    while i<len(arr):\n",
    "        if arr[i] ==0:\n",
    "            arr.pop(i)\n",
    "            count+=1\n",
    "        i=i+1\n",
    "    for i in range(count):\n",
    "        arr.append(0)\n",
    "    print(arr)\n",
    "print(swapZero([1,2,3,0,4,0,5,0,6,7,8,0,9,0]))    "
   ]
  }
 ],
 "metadata": {
  "kernelspec": {
   "display_name": "Python 3",
   "language": "python",
   "name": "python3"
  },
  "language_info": {
   "codemirror_mode": {
    "name": "ipython",
    "version": 3
   },
   "file_extension": ".py",
   "mimetype": "text/x-python",
   "name": "python",
   "nbconvert_exporter": "python",
   "pygments_lexer": "ipython3",
   "version": "3.7.3"
  }
 },
 "nbformat": 4,
 "nbformat_minor": 2
}
