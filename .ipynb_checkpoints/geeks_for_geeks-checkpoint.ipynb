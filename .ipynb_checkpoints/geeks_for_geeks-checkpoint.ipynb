{
 "cells": [
  {
   "cell_type": "code",
   "execution_count": 18,
   "metadata": {},
   "outputs": [
    {
     "name": "stdout",
     "output_type": "stream",
     "text": [
      "10 20 4 30\n",
      "20\n",
      "10 4 30  \n"
     ]
    }
   ],
   "source": [
    "# Delete without head pointer \n",
    "class Node:\n",
    "    def __init__(self,data):\n",
    "        self.data=data\n",
    "        self.next=None\n",
    "class LinkedList:\n",
    "    def __init__(self):\n",
    "        self.head=None\n",
    "        self.tail=None\n",
    "    def append(self,value):\n",
    "        new_value=Node(value)\n",
    "        if self.head is None:\n",
    "            self.head= new_value\n",
    "            self.tail= new_value\n",
    "            return\n",
    "        self.tail.next=new_value\n",
    "        self.tail=new_value\n",
    "    def getNode(self,value):\n",
    "        curr_node=self.head\n",
    "        while curr_node.next and curr_node.data != value:\n",
    "            curr_node=curr_node.next\n",
    "        if curr_node.data==value:\n",
    "            return curr_node\n",
    "        else:\n",
    "            return None  \n",
    "    def printList(self):\n",
    "        if self.head is None:\n",
    "            print(' ')\n",
    "            return\n",
    "        curr_node=self.head\n",
    "        while curr_node:\n",
    "            print(curr_node.data,end=\" \")\n",
    "            curr_node= curr_node.next\n",
    "        print(' ')  \n",
    "    def deleteNode(self,value):\n",
    "        curr=self.head\n",
    "        prev=None\n",
    "        if self.head.data==value:\n",
    "            self.head =self.head.next\n",
    "            return\n",
    "        while curr.next is not None:\n",
    "            if curr.data == value and prev is not None:\n",
    "                prev.next=curr.next\n",
    "                return value\n",
    "            prev=curr\n",
    "            curr=curr.next\n",
    "        return None          \n",
    "a=LinkedList()\n",
    "# n=int(input())        \n",
    "nodes=[int(x) for x in input().split()]\n",
    "for i in nodes:\n",
    "    a.append(i)\n",
    "to_del=int(input())    \n",
    "a.deleteNode(to_del)\n",
    "a.printList()\n",
    "# 10 20 4 30\n",
    "# 20"
   ]
  },
  {
   "cell_type": "code",
   "execution_count": null,
   "metadata": {},
   "outputs": [],
   "source": [
    "# Multiply left and right array sum. \n",
    "def multiply (arr, n): \n",
    "    a1=arr[0:n//2]\n",
    "    a2=arr[n//2:]\n",
    "    m1=sum(a1)\n",
    "    m2=sum(a2)\n",
    "    return m1*m2\n",
    "    \n",
    "\n",
    "arr=[int(x)for x in input().split()]\n",
    "n=len(arr)\n",
    "print(multiply(arr,n))"
   ]
  },
  {
   "cell_type": "code",
   "execution_count": 36,
   "metadata": {},
   "outputs": [
    {
     "name": "stdout",
     "output_type": "stream",
     "text": [
      "2\n",
      "3\n"
     ]
    }
   ],
   "source": [
    "# Sum of elements in a matrix\n",
    "def sumOfMatrix(N,M,Grid):\n",
    "    sm=0\n",
    "    for i in range(0,len(grid)):\n",
    "        for j in range(0,len(grid[i])):\n",
    "            sm+=int(grid[i][j])\n",
    "    return sm\n",
    "row=int(input())\n",
    "col=int(input())\n",
    "grid=[[int(x) for x in range(col)]for i in range(row)]"
   ]
  },
  {
   "cell_type": "code",
   "execution_count": 20,
   "metadata": {},
   "outputs": [
    {
     "name": "stdout",
     "output_type": "stream",
     "text": [
      "9\n",
      "^ & % @ # * $ ~ !\n",
      "~ # @ % & * $ ^ !\n",
      "['!', '#', '$', '%', '&', '*', '@', '^', '~'] result\n"
     ]
    }
   ],
   "source": [
    "# Nuts and Bolts Problem\n",
    "def matchPairs(nuts, bolts, n):\n",
    "    arr=['!','#','$','%','&','*','@','^','~','.']\n",
    "    result=[]\n",
    "    for i in range(len(arr)):\n",
    "        if arr[i] in bolts and arr[i] in nuts:\n",
    "            result.append(arr[i])\n",
    "    return result   \n",
    "n=int(input())    \n",
    "nuts=list(map(str,input().strip().split()))\n",
    "bolts=list(map(str,input().strip().split()))\n",
    "matchPairs(nuts,bolts,n)\n",
    "# @ % $ # ^\n",
    "# % @ # $ ^\n",
    "# ['@','%','$','#','^']\n",
    "# ['%','@','#','$','^']\n",
    "# nuts[] = {^, &, %, @, #, *, $, ~, !}\n",
    "# bolts[] = {~, #, @, %, &, *, $ ,^, !}"
   ]
  },
  {
   "cell_type": "code",
   "execution_count": 67,
   "metadata": {
    "scrolled": true
   },
   "outputs": [
    {
     "name": "stdout",
     "output_type": "stream",
     "text": [
      "[3, 3, 3, 3, 4]\n"
     ]
    }
   ],
   "source": [
    "# Rearrange an array with O(1) extra space\n",
    "def arrange(arr, n): \n",
    "    i=0\n",
    "    c1=0\n",
    "    c2=0\n",
    "    for i in range(len(arr)-1):\n",
    "        arr[i],arr[i+1]=arr[arr[i]],arr[i]\n",
    "    print(arr)\n",
    "#         c1=i\n",
    "#         c2=arr[arr[i]]\n",
    "#         arr[c1]=c2\n",
    "#         print(c1,'c1',c2,'now',arr[i])\n",
    "#         temp.append(arr[arr[i]])\n",
    "#     print(temp)    \n",
    "\n",
    "# n=int(input())\n",
    "# arr=[int(x)for x in input().split()]\n",
    "arrange([4,0,2,1,3],5)\n",
    "# 4 0 2 1 3\n",
    "# 0 1 2 3 4\n",
    "# 3 4 2 0 1"
   ]
  },
  {
   "cell_type": "code",
   "execution_count": null,
   "metadata": {},
   "outputs": [],
   "source": []
  }
 ],
 "metadata": {
  "kernelspec": {
   "display_name": "Python 3",
   "language": "python",
   "name": "python3"
  },
  "language_info": {
   "codemirror_mode": {
    "name": "ipython",
    "version": 3
   },
   "file_extension": ".py",
   "mimetype": "text/x-python",
   "name": "python",
   "nbconvert_exporter": "python",
   "pygments_lexer": "ipython3",
   "version": "3.7.3"
  }
 },
 "nbformat": 4,
 "nbformat_minor": 2
}
