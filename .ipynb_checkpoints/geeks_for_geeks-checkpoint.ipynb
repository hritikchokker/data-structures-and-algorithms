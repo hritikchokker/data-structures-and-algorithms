{
 "cells": [
  {
   "cell_type": "code",
   "execution_count": 18,
   "metadata": {},
   "outputs": [
    {
     "name": "stdout",
     "output_type": "stream",
     "text": [
      "10 20 4 30\n",
      "20\n",
      "10 4 30  \n"
     ]
    }
   ],
   "source": [
    "# Delete without head pointer \n",
    "class Node:\n",
    "    def __init__(self,data):\n",
    "        self.data=data\n",
    "        self.next=None\n",
    "class LinkedList:\n",
    "    def __init__(self):\n",
    "        self.head=None\n",
    "        self.tail=None\n",
    "    def append(self,value):\n",
    "        new_value=Node(value)\n",
    "        if self.head is None:\n",
    "            self.head= new_value\n",
    "            self.tail= new_value\n",
    "            return\n",
    "        self.tail.next=new_value\n",
    "        self.tail=new_value\n",
    "    def getNode(self,value):\n",
    "        curr_node=self.head\n",
    "        while curr_node.next and curr_node.data != value:\n",
    "            curr_node=curr_node.next\n",
    "        if curr_node.data==value:\n",
    "            return curr_node\n",
    "        else:\n",
    "            return None  \n",
    "    def printList(self):\n",
    "        if self.head is None:\n",
    "            print(' ')\n",
    "            return\n",
    "        curr_node=self.head\n",
    "        while curr_node:\n",
    "            print(curr_node.data,end=\" \")\n",
    "            curr_node= curr_node.next\n",
    "        print(' ')  \n",
    "    def deleteNode(self,value):\n",
    "        curr=self.head\n",
    "        prev=None\n",
    "        if self.head.data==value:\n",
    "            self.head =self.head.next\n",
    "            return\n",
    "        while curr.next is not None:\n",
    "            if curr.data == value and prev is not None:\n",
    "                prev.next=curr.next\n",
    "                return value\n",
    "            prev=curr\n",
    "            curr=curr.next\n",
    "        return None          \n",
    "a=LinkedList()\n",
    "# n=int(input())        \n",
    "nodes=[int(x) for x in input().split()]\n",
    "for i in nodes:\n",
    "    a.append(i)\n",
    "to_del=int(input())    \n",
    "a.deleteNode(to_del)\n",
    "a.printList()\n",
    "# 10 20 4 30\n",
    "# 20"
   ]
  },
  {
   "cell_type": "code",
   "execution_count": null,
   "metadata": {},
   "outputs": [],
   "source": [
    "# Multiply left and right array sum. \n",
    "def multiply (arr, n): \n",
    "    a1=arr[0:n//2]\n",
    "    a2=arr[n//2:]\n",
    "    m1=sum(a1)\n",
    "    m2=sum(a2)\n",
    "    return m1*m2\n",
    "    \n",
    "\n",
    "arr=[int(x)for x in input().split()]\n",
    "n=len(arr)\n",
    "print(multiply(arr,n))"
   ]
  },
  {
   "cell_type": "code",
   "execution_count": 36,
   "metadata": {},
   "outputs": [
    {
     "name": "stdout",
     "output_type": "stream",
     "text": [
      "2\n",
      "3\n"
     ]
    }
   ],
   "source": [
    "# Sum of elements in a matrix\n",
    "def sumOfMatrix(N,M,Grid):\n",
    "    sm=0\n",
    "    for i in range(0,len(grid)):\n",
    "        for j in range(0,len(grid[i])):\n",
    "            sm+=int(grid[i][j])\n",
    "    return sm\n",
    "row=int(input())\n",
    "col=int(input())\n",
    "grid=[[int(x) for x in range(col)]for i in range(row)]"
   ]
  },
  {
   "cell_type": "code",
   "execution_count": 20,
   "metadata": {},
   "outputs": [
    {
     "name": "stdout",
     "output_type": "stream",
     "text": [
      "9\n",
      "^ & % @ # * $ ~ !\n",
      "~ # @ % & * $ ^ !\n",
      "['!', '#', '$', '%', '&', '*', '@', '^', '~'] result\n"
     ]
    }
   ],
   "source": [
    "# Nuts and Bolts Problem\n",
    "def matchPairs(nuts, bolts, n):\n",
    "    arr=['!','#','$','%','&','*','@','^','~','.']\n",
    "    result=[]\n",
    "    for i in range(len(arr)):\n",
    "        if arr[i] in bolts and arr[i] in nuts:\n",
    "            result.append(arr[i])\n",
    "    return result   \n",
    "n=int(input())    \n",
    "nuts=list(map(str,input().strip().split()))\n",
    "bolts=list(map(str,input().strip().split()))\n",
    "matchPairs(nuts,bolts,n)\n",
    "# @ % $ # ^\n",
    "# % @ # $ ^\n",
    "# ['@','%','$','#','^']\n",
    "# ['%','@','#','$','^']\n",
    "# nuts[] = {^, &, %, @, #, *, $, ~, !}\n",
    "# bolts[] = {~, #, @, %, &, *, $ ,^, !}"
   ]
  },
  {
   "cell_type": "code",
   "execution_count": 67,
   "metadata": {
    "scrolled": true
   },
   "outputs": [
    {
     "name": "stdout",
     "output_type": "stream",
     "text": [
      "[3, 3, 3, 3, 4]\n"
     ]
    }
   ],
   "source": [
    "# Rearrange an array with O(1) extra space\n",
    "def arrange(arr, n): \n",
    "    i=0\n",
    "    c1=0\n",
    "    c2=0\n",
    "    for i in range(len(arr)-1):\n",
    "        arr[i],arr[i+1]=arr[arr[i]],arr[i]\n",
    "    print(arr)\n",
    "#         c1=i\n",
    "#         c2=arr[arr[i]]\n",
    "#         arr[c1]=c2\n",
    "#         print(c1,'c1',c2,'now',arr[i])\n",
    "#         temp.append(arr[arr[i]])\n",
    "#     print(temp)    \n",
    "\n",
    "# n=int(input())\n",
    "# arr=[int(x)for x in input().split()]\n",
    "arrange([4,0,2,1,3],5)\n",
    "# 4 0 2 1 3\n",
    "# 0 1 2 3 4\n",
    "# 3 4 2 0 1"
   ]
  },
  {
   "cell_type": "raw",
   "metadata": {},
   "source": [
    "# https://practice.geeksforgeeks.org/problems/minimize-the-heights3351/1\n",
    "\n",
    "# Minimize the Heights II\n",
    "\n",
    "\n",
    "# Example 1:\n",
    "\n",
    "# Input:\n",
    "# K = 2, N = 4\n",
    "# Arr[] = {1, 5, 8, 10}\n",
    "# Output:\n",
    "# 5\n",
    "# Explanation:\n",
    "# The array can be modified as \n",
    "# {3, 3, 6, 8}. The difference between \n",
    "# the largest and the smallest is 8-3 = 5.\n",
    "# Example 2:\n",
    "\n",
    "# Input:\n",
    "# K = 3, N = 5\n",
    "# Arr[] = {3, 9, 12, 16, 20}\n",
    "# Output:\n",
    "# 11\n",
    "# Explanation:\n",
    "# The array can be modified as\n",
    "# {6, 12, 9, 13, 17}. The difference between \n",
    "# the largest and the smallest is 17-6 = 11. \n",
    "\n",
    "\n",
    "#Input:\n",
    "#5\n",
    "#10\n",
    "#2 6 3 4 7 2 10 3 2 1\n",
    "\n",
    "#Its Correct output is:\n",
    "#7\n"
   ]
  },
  {
   "cell_type": "code",
   "execution_count": 1,
   "metadata": {},
   "outputs": [
    {
     "name": "stdout",
     "output_type": "stream",
     "text": [
      "7\n"
     ]
    }
   ],
   "source": [
    "\"\"\"\n",
    "    input =  2 6 3 4 7 2 10 3 2 1\n",
    "    sorted = 1,2,2,2,3,3,4,6,7,10\n",
    "    increased = 6,7,7,7,8,8,9,11,12,15\n",
    "    decreased = 4,3,3,3,2,2,1,1,2,5\n",
    "\"\"\"\n",
    "\n",
    "\"\"\"\n",
    "    algorithm:\n",
    "    create small from firstEl+k\n",
    "    create big from last-k\n",
    "\"\"\"\n",
    "class Solution:\n",
    "    def getMinDiff(self, arr, n, k):\n",
    "        if n==1:\n",
    "            return 0\n",
    "        arr.sort()\n",
    "        ans=arr[n-1]-arr[0]\n",
    "        small=arr[0]+k\n",
    "        big=arr[n-1]-k\n",
    "#         1,2,2,2,3,3,4,6,7,10\n",
    "        if small > big:\n",
    "            small,big=big,small\n",
    "        for i in range(1,n-1):\n",
    "            currSmall = arr[i]+k\n",
    "            currMax=arr[i]-k\n",
    "            if currSmall <= small and small >0:\n",
    "                small=currSmall\n",
    "            if currSmall > big:\n",
    "                big = currSmall\n",
    "        return min(ans,big-small)\n",
    "sol=Solution()    \n",
    "print(sol.getMinDiff([2,6,3,4,7,2,10,3,2,1],10,5))\n",
    "# print(sol.getMinDiff([6,1,9,1,1,7,9,5,2,10],10,4))\n",
    "# 6 1 9 1 1 7 9 5 2 10\n",
    "# print(sol.getMinDiff([3, 9, 12, 16, 20],5,3))\n",
    "# print(sol.getMinDiff([1, 5, 8, 10],4,2))"
   ]
  },
  {
   "cell_type": "raw",
   "metadata": {},
   "source": [
    "# Minimum number of jumps\n",
    "\n",
    "# https://practice.geeksforgeeks.org/problems/minimum-number-of-jumps-1587115620/1\n",
    "\n",
    "Example 1:\n",
    "\n",
    "# Input:\n",
    "# N=11 \n",
    "# arr=1 3 5 8 9 2 6 7 6 8 9 \n",
    "# Output: 3 \n",
    "# Explanation: \n",
    "# First jump from 1st element to 2nd \n",
    "# element with value 3. Now, from here \n",
    "# we jump to 5th element with value 9, \n",
    "# and from here we will jump to last. \n",
    "\n",
    "# Example 2:\n",
    "\n",
    "# Input :\n",
    "# N= 6\n",
    "# arr= 1 4 3 2 6 7\n",
    "# Output: 2 \n",
    "# Explanation: \n",
    "# First we jump from the 1st to 2nd element \n",
    "# and then jump to the last element.\n"
   ]
  },
  {
   "cell_type": "code",
   "execution_count": 83,
   "metadata": {},
   "outputs": [
    {
     "name": "stdout",
     "output_type": "stream",
     "text": [
      "3\n",
      "2\n"
     ]
    }
   ],
   "source": [
    "import sys\n",
    "class Solution:\n",
    "    \"\"\" \n",
    "    dynamic programming using tabularization\n",
    "    \n",
    "    time complexity = o(n^2)\n",
    "    space complexity = o(n)\n",
    "    \"\"\"\n",
    "    def minJumps(self, arr,n):\n",
    "        table=[0 for i in range(n)]\n",
    "        max_safe=2828888\n",
    "        curr=0\n",
    "        for i in range(1, n):\n",
    "            table[i] = max_safe # any max safe integer\n",
    "            for j in range(0, i):\n",
    "                if i <= j + arr[j]:\n",
    "                    table[i] = min(table[i], table[j] + 1)\n",
    "        if table[-1]== max_safe:\n",
    "            return -1\n",
    "        return table[-1]    \n",
    "    def minJumpsOptimized(self,arr,n):\n",
    "        if n <=1:\n",
    "            return 0\n",
    "        if arr[0] == 0: \n",
    "            return -1\n",
    "#                          1, 3, 5, 8, 9, 2, 6, 7, 6, 8, 9\n",
    "\n",
    "        maxReach =arr[0]    #  1\n",
    "        steps=arr[0]       #   1\n",
    "        jump=1           #    1\n",
    "        for i in range(1,n): \n",
    "            if i == n-1:     #  1, 2, 3, 4, 5, 6, 7, 8, 9,10\n",
    "                return jump        # maxReach = 1; 5 ; 7; 11; 13; 14; 17\n",
    "            maxReach= max(maxReach,arr[i]+i)   #max(1,3+1)=4; max(4,5+2)=7; max(7,8+3)=11; max(11,9+4)=13\n",
    "#                                               max(13,2+5)=13; max(13,6+6)=13; max(13,7+7)=14\n",
    "#                                            max(14,6+8)=14; max(14,8+9)=17\n",
    "            steps=steps-1           # start=1; now 0;4=4-1=3;5-1=4;8-1=7;9-1=8;8-1;7-1=6;7-1=6;8-1=7;10-1\n",
    "            if steps == 0:\n",
    "                jump+=1              # jump =2\n",
    "                if i>= maxReach:     # \n",
    "                    return -1\n",
    "                steps=maxReach-i     # 4; 5; 11-3=8; 13-4=9; 13-5= 8; 13-6; 14-7; 14-6=8;17-7=10\n",
    "        return -1\n",
    "sol= Solution() #   0  1  2  3  4  5  6  7  8  9 10 \n",
    "print(sol.minJumps([1, 3, 5, 8, 9, 2, 6, 7, 6, 8, 9],11)) # 3\n",
    "print(sol.minJumpsOptimized([1, 4, 3, 2, 6, 7],6)) # 2\n",
    "# print(sol.minJumps([1, 3, 6, 1, 0, 9],6)) # 3\n",
    "# print(sol.minJumps([2,1,0,3],4)) # -1"
   ]
  },
  {
   "cell_type": "code",
   "execution_count": null,
   "metadata": {},
   "outputs": [],
   "source": []
  },
  {
   "cell_type": "code",
   "execution_count": 1,
   "metadata": {},
   "outputs": [
    {
     "name": "stdout",
     "output_type": "stream",
     "text": [
      "4\n"
     ]
    }
   ],
   "source": [
    "def subs(str1,str2,i=0,j=0):\n",
    "    if i==len(str1)-1 or j== len(str2)-1:\n",
    "        return 0\n",
    "    elif str1[i]==str2[j]:\n",
    "        return 1+ subs(str1,str2,i+1,j+1)\n",
    "    else:\n",
    "        return max(subs(str1,str2,i+1,j),subs(str1,str2,i,j+1))\n",
    "print(subs('ABCBDAB','BCDABA'))    "
   ]
  },
  {
   "cell_type": "code",
   "execution_count": 1,
   "metadata": {},
   "outputs": [
    {
     "name": "stdout",
     "output_type": "stream",
     "text": [
      "None\n"
     ]
    }
   ],
   "source": [
    "class Solution:\n",
    "    def maxSumIS(self, arr, n,i=0):\n",
    "        if arr[i]==0:\n",
    "            return 0\n",
    "sol= Solution()\n",
    "print(sol.maxSumIS([1,3,5,8,9,2,6,7,6,8,9],3))"
   ]
  },
  {
   "cell_type": "code",
   "execution_count": 50,
   "metadata": {},
   "outputs": [
    {
     "name": "stdout",
     "output_type": "stream",
     "text": [
      "150th ugly no. is  15\n"
     ]
    }
   ],
   "source": [
    "def maxDivide(a, b):\n",
    "    while a % b == 0:\n",
    "        a = a / b\n",
    "    return a\n",
    "def isUgly(no):\n",
    "    no = maxDivide(no, 2)\n",
    "    no = maxDivide(no, 3)\n",
    "    no = maxDivide(no, 5)\n",
    "    return 1 if no == 1 else 0\n",
    "def getNthUglyNo(n):\n",
    "    i = 1     \n",
    "    count = 1 \n",
    "    while n > count:\n",
    "        i += 1\n",
    "        if isUgly(i):\n",
    "            count += 1\n",
    "    return i\n",
    "# Driver code\n",
    "no = getNthUglyNo(11)\n",
    "print(\"150th ugly no. is \", no)"
   ]
  },
  {
   "cell_type": "code",
   "execution_count": 42,
   "metadata": {},
   "outputs": [
    {
     "data": {
      "text/plain": [
       "8"
      ]
     },
     "execution_count": 42,
     "metadata": {},
     "output_type": "execute_result"
    }
   ],
   "source": [
    "def solve(n):\n",
    "    if n < 0:\n",
    "        return 0\n",
    "    if n == 0:\n",
    "        return 1\n",
    "    return (solve(n - 1) +solve(n - 3) +solve(n - 5))\n",
    "solve(6)"
   ]
  },
  {
   "cell_type": "markdown",
   "metadata": {},
   "source": [
    "https://practice.geeksforgeeks.org/problems/merge-two-sorted-arrays5135/1\n",
    "\n",
    "Merge Without Extra Space\n",
    "\n",
    "Given two sorted arrays arr1[] of size N and arr2[] of size M. Each array is sorted in non-decreasing order.\n",
    "Merge the two arrays into one sorted array in non-decreasing order without using any extra space.\n",
    "Example 1:\n",
    "\n",
    "Input:\n",
    "N = 4, M = 5\n",
    "arr1[] = {1, 3, 5, 7}\n",
    "arr2[] = {0, 2, 6, 8, 9}\n",
    "Output: 0 1 2 3 5 6 7 8 9\n",
    "Explanation: Since you can't use any \n",
    "extra space, modify the given arrays\n",
    "to form \n",
    "arr1[] = {0, 1, 2, 3}\n",
    "arr2[] = {5, 6, 7, 8, 9}\n",
    "\n",
    "Example 2:\n",
    "\n",
    "Input:\n",
    "N = 2, M = 3\n",
    "arr1[] = {10, 12}\n",
    "arr2[] = {5, 18, 20}\n",
    "Output: 5 10 12 18 20\n",
    "Explanation: Since you can't use any\n",
    "extra space, modify the given arrays\n",
    "to form \n",
    "arr1[] = {5, 10}\n",
    "arr2[] = {12, 18, 20}"
   ]
  },
  {
   "cell_type": "code",
   "execution_count": 124,
   "metadata": {},
   "outputs": [
    {
     "name": "stdout",
     "output_type": "stream",
     "text": [
      "[1, 2, 5, 5, 6, 7, 7, 7, 8, 8, 9, 9, 9, 10, 10, 11, 11, 12, 12, 12, 12, 13, 13, 13, 14] arr1 [15, 15, 16, 16, 17, 18, 18, 18, 18, 18, 19, 20, 20, 20]\n"
     ]
    }
   ],
   "source": [
    "class Solution:\n",
    "    def merge(self, arr1, arr2, n, m): \n",
    "        i=j=0\n",
    "        k=n-1\n",
    "        while (i <= k and j < m):\n",
    "            if (arr1[i] < arr2[j]):\n",
    "                i=i+1\n",
    "            else:\n",
    "                arr2[j],arr1[k]=arr1[k],arr2[j]\n",
    "                j=j+1\n",
    "                k=k-1\n",
    "        arr1.sort()\n",
    "        arr2.sort()\n",
    "#         print(arr1,'arr1',arr2)\n",
    "#             swap(arr2[j++], arr1[k--]);\n",
    "sol = Solution()\n",
    "# arr1=[1, 3, 5, 7]     [0,3,5,7]\n",
    "# arr2=[0, 2, 6, 8, 9]  [1,2,6,8,9]\n",
    "# sol.merge(arr1,arr2,3,4) # 0 1 2 3 5 6 7 8 9\n",
    "# sol.merge([7,9,9,10,11,11,13,14,17,19],[1,1,4,5,8,11,13,16,19,19],10,10)\n",
    "# sol.merge([10, 12],[5, 18, 20],2,3) # 5 10 12 18 20\n",
    "arr1=[2,6,7,8,9,9,10,10,11,12,12,12,12,13,13,13,14,15,16,16,17,18,18,19,20]\n",
    "arr2=[1,5,5,7,7,8,9,11,15,18,18,18,20,20]\n",
    "sol.merge(arr1,arr2,25,14)"
   ]
  },
  {
   "cell_type": "code",
   "execution_count": 31,
   "metadata": {},
   "outputs": [
    {
     "name": "stdout",
     "output_type": "stream",
     "text": [
      "8841761993739701954543616000000\n"
     ]
    }
   ],
   "source": [
    "class Solution:\n",
    "    def factorialMemoise(self, n,memo={}):\n",
    "        if n==1:\n",
    "            return 1\n",
    "        if n==2:\n",
    "            return 2\n",
    "        if n in memo:\n",
    "            return memo[n]\n",
    "        else: \n",
    "            memo[n]=self.factorial(n-1)*n\n",
    "        return self.factorial(n-1)*n\n",
    "    def factorialTabulated(self,n):\n",
    "        table=[0 for i in range(n+1)]\n",
    "        if n==1:\n",
    "            return 1\n",
    "        if n==2:\n",
    "            return 2\n",
    "        table[0]=1\n",
    "        table[1]=2\n",
    "        for i in range(1,n):\n",
    "            table[i]=i*table[i-1]\n",
    "        return table[n-1]\n",
    "sol=Solution()    \n",
    "print(sol.factorialTabulated(30))"
   ]
  },
  {
   "cell_type": "markdown",
   "metadata": {},
   "source": [
    "https://practice.geeksforgeeks.org/problems/count-pairs-with-given-sum5022/1\n",
    "Count pairs with given sum\n",
    "\n",
    "Given an array of N integers, and an integer K, find the number of pairs of elements in the array whose sum is equal to K.\n",
    "\n",
    "\n",
    "Example 1:\n",
    "\n",
    "Input:\n",
    "N = 4, K = 6\n",
    "arr[] = {1, 5, 7, 1}\n",
    "Output: 2\n",
    "Explanation: \n",
    "arr[0] + arr[1] = 1 + 5 = 6 \n",
    "and arr[1] + arr[3] = 5 + 1 = 6.\n",
    "\n",
    "\n",
    "Example 2:\n",
    "\n",
    "Input:\n",
    "N = 4, X = 2\n",
    "arr[] = {1, 1, 1, 1}\n",
    "Output: 6\n",
    "Explanation: \n",
    "Each 1 will produce sum 2 with any 1."
   ]
  },
  {
   "cell_type": "code",
   "execution_count": 1,
   "metadata": {},
   "outputs": [
    {
     "name": "stdout",
     "output_type": "stream",
     "text": [
      "6\n",
      "2\n"
     ]
    }
   ],
   "source": [
    "class Solution:\n",
    "    def getPairsCount(self, arr, n, k):\n",
    "        i=0\n",
    "        j=1\n",
    "        count=0  # # [1, 1, 1, 1],4,2)\n",
    "        while True:    \n",
    "            if i==n-1:    #i=0 \n",
    "                break     # \n",
    "            if j<=n-1:   # j=1,2\n",
    "                if  arr[i]+arr[j]==k: # 1+1=2; 1+arr[2](1)=2;1+arr[3]==2\n",
    "                    count=count+1 #  count=1, count=2; count=3\n",
    "                    j=j+1  #    j=2, j=3\n",
    "                else:\n",
    "                    j=j+1\n",
    "            else:\n",
    "                if j>=n-1 and i+2 <=n-1:\n",
    "                    j=i+2\n",
    "                elif i+2 >n-1:\n",
    "                    j=j+1\n",
    "                else:\n",
    "                    j=i+2\n",
    "                i=i+1\n",
    "        return count\n",
    "#     def getPairsCountOptimised(self, arr, n, k):\n",
    "#         dic={}\n",
    "#         for i in range(n):\n",
    "#             dic[arr[i]]=dic.get(arr[i],0)+1\n",
    "#         count=0\n",
    "#         for i in range(n):\n",
    "#             count=count+dic[abs(k-arr[i])]\n",
    "#             if abs(k-arr[i])==arr[i]:\n",
    "#                 count=count-1\n",
    "#         return count//2\n",
    "sol= Solution()    \n",
    "print(sol.getPairsCount([1, 1, 1, 1],4,2)) #6\n",
    "print(sol.getPairsCount([1, 5, 7, 1],4,6))\n",
    "# print(sol.getPairsCount([1, 5, 7, -1, 5],5,6))"
   ]
  },
  {
   "cell_type": "markdown",
   "metadata": {},
   "source": [
    "https://practice.geeksforgeeks.org/problems/kth-smallest-element5635/1\n",
    "\n",
    "Given an array arr[] and a number K where K is smaller than size of array, the task is to find the Kth smallest element in the given array. It is given that all array elements are distinct.\n",
    "\n",
    "Example 1:\n",
    "\n",
    "Input:\n",
    "N = 6\n",
    "arr[] = 7 10 4 3 20 15\n",
    "K = 3\n",
    "Output : 7\n",
    "Explanation :\n",
    "3rd smallest element in the given \n",
    "array is 7.\n",
    "\n",
    "Example 2:\n",
    "\n",
    "Input:\n",
    "N = 5\n",
    "arr[] = 7 10 4 20 15\n",
    "K = 4\n",
    "Output : 15\n",
    "Explanation :\n",
    "4th smallest element in the given \n",
    "array is 15."
   ]
  },
  {
   "cell_type": "code",
   "execution_count": null,
   "metadata": {},
   "outputs": [],
   "source": [
    "class Solution:\n",
    "    def kthSmallest(self,arr, l, r, k):\n",
    "        \n",
    "    \n",
    "    "
   ]
  },
  {
   "cell_type": "markdown",
   "metadata": {},
   "source": [
    "# Count Inversions \n",
    "\n",
    "Given an array of integers. Find the Inversion Count in the array. \n",
    "\n",
    "Inversion Count: For an array, inversion count indicates how far (or close) the array is from being sorted. If array is already sorted then the inversion count is 0. If an array is sorted in the reverse order then the inversion count is the maximum. \n",
    "Formally, two elements a[i] and a[j] form an inversion if a[i] > a[j] and i < j.\n",
    " \n",
    "\n",
    "Example 1:\n",
    "\n",
    "Input: N = 5, arr[] = {2, 4, 1, 3, 5}\n",
    "Output: 3\n",
    "Explanation: The sequence 2, 4, 1, 3, 5 \n",
    "has three inversions (2, 1), (4, 1), (4, 3).\n",
    "\n",
    "Example 2:\n",
    "\n",
    "Input: N = 5\n",
    "arr[] = {2, 3, 4, 5, 6}\n",
    "Output: 0\n",
    "Explanation: As the sequence is already \n",
    "sorted so there is no inversion count.\n",
    "\n",
    "Example 3:\n",
    "\n",
    "Input: N = 3, arr[] = {10, 10, 10}\n",
    "Output: 0\n",
    "Explanation: As all the elements of array \n",
    "are same, so there is no inversion count."
   ]
  },
  {
   "cell_type": "code",
   "execution_count": null,
   "metadata": {},
   "outputs": [],
   "source": [
    "class Solution:\n",
    "    def inversionCount(self, arr, n):\n",
    "        pass\n",
    "sol=Solution()    \n",
    "print(sol.inversionCount([],0))"
   ]
  },
  {
   "cell_type": "markdown",
   "metadata": {},
   "source": [
    "# Common elements \n",
    "https://practice.geeksforgeeks.org/problems/common-elements1132/1\n",
    "    \n",
    "Given three arrays sorted in increasing order. Find the elements that are common in all three arrays.\n",
    "Note: can you take care of the duplicates without using any additional Data Structure?\n",
    "\n",
    "\n",
    "Expected Time Complexity: O(n1 + n2 + n3)\n",
    "Expected Auxiliary Space: O(n1 + n2 + n3)\n",
    "\n",
    "\n",
    "Example 1:\n",
    "\n",
    "Input:\n",
    "n1 = 6; A = {1, 5, 10, 20, 40, 80}\n",
    "n2 = 5; B = {6, 7, 20, 80, 100}\n",
    "n3 = 8; C = {3, 4, 15, 20, 30, 70, 80, 120}\n",
    "Output: 20 80\n",
    "Explanation: 20 and 80 are the only\n",
    "common elements in A, B and C.  \n",
    "\n"
   ]
  },
  {
   "cell_type": "code",
   "execution_count": null,
   "metadata": {},
   "outputs": [],
   "source": [
    "class Solution:\n",
    "    def commonElements (self,A, B, C, n1, n2, n3):\n",
    "        pass    \n",
    "sol = Solution()\n",
    "A=[1, 5, 10, 20, 40, 80]\n",
    "B=[6, 7, 20, 80, 100]\n",
    "C=[3, 4, 15, 20, 30, 70, 80, 120]\n",
    "print(sol.commonElements(A,B,C,len(A),len(B),len(c)))"
   ]
  }
 ],
 "metadata": {
  "kernelspec": {
   "display_name": "Python 3",
   "language": "python",
   "name": "python3"
  },
  "language_info": {
   "codemirror_mode": {
    "name": "ipython",
    "version": 3
   },
   "file_extension": ".py",
   "mimetype": "text/x-python",
   "name": "python",
   "nbconvert_exporter": "python",
   "pygments_lexer": "ipython3",
   "version": "3.7.3"
  }
 },
 "nbformat": 4,
 "nbformat_minor": 2
}
