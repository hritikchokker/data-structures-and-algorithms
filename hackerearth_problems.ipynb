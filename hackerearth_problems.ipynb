{
 "cells": [
  {
   "cell_type": "markdown",
   "metadata": {},
   "source": [
    "# Charged Up Array\n",
    "\n",
    "Problem\n",
    "\n",
    "You are given with an array\n",
    " of size .An element  is said to be charged if its value() is greater than or equal to .  is the total number of subsets of array , that consist of element . \n",
    "Total charge value of the array is defined as summation of all charged elements present in the array mod .\n",
    "Your task is to output the total charge value of the given array\n",
    "\n",
    ".\n",
    "\n",
    "INPUT FORMAT:\n",
    "\n",
    "The first line of input contains number of test cases\n",
    ".\n",
    "The first line of each test case consists of , the size of the array.\n",
    "Next line contains  space-separated integers corresponding to each element \n",
    "\n",
    ".\n",
    "\n",
    "OUTPUT FORMAT:\n",
    "\n",
    "For each test case, output a single number corresponding to total charge value of the given array."
   ]
  },
  {
   "cell_type": "code",
   "execution_count": null,
   "metadata": {},
   "outputs": [],
   "source": [
    "def solve (A,N):\n",
    "    # Write your code here\n",
    "\n",
    "T = int(input())\n",
    "for _ in range(T):\n",
    "    N = int(input())\n",
    "    A = map(int, input().split())\n",
    "\n",
    "    out_ = solve(A,N)\n",
    "    print (out_)"
   ]
  },
  {
   "cell_type": "markdown",
   "metadata": {},
   "source": [
    "# Maximize the modulo function\n",
    "\n",
    "Problem\n",
    "\n",
    "You are given an integer\n",
    " that is represented in the form of string  of length\n",
    "\n",
    ". You can remove at most 1 digit from the number after removing the rest of the digits that are arranged in the same order.\n",
    "\n",
    "Example\n",
    "\n",
    "For \n",
    ", if you delete the digit , the new number is \n",
    "\n",
    ".\n",
    "\n",
    "You are also given an integer\n",
    ". Find the maximum possible value of ( mod ) after deleting at most 1 digit from number\n",
    "\n",
    ".\n",
    "\n",
    "Input format\n",
    "\n",
    "    The first line contains an integer \n",
    "\n",
    " denoting the number of test cases.\n",
    "The first line of each test case contains two space-separated integers\n",
    " and \n",
    ".\n",
    "The second line of each test case contains string\n",
    "\n",
    "    .\n",
    "\n",
    "Output format\n",
    "\n",
    "For each test case, print the maximum possible value of the mod function in a new line."
   ]
  },
  {
   "cell_type": "code",
   "execution_count": 26,
   "metadata": {},
   "outputs": [
    {
     "name": "stdout",
     "output_type": "stream",
     "text": [
      "7\n",
      "11\n"
     ]
    }
   ],
   "source": [
    "def solve(arr,size,k):\n",
    "    arr=list(map(int,arr))\n",
    "    c = size-1\n",
    "    l=len(arr)-1\n",
    "    global_max=0\n",
    "    for i in range(l):\n",
    "        ls=arr[0:c]\n",
    "        num=''.join([str(x) for x in ls])\n",
    "        if (int(num)%k)>=global_max:\n",
    "            global_max = int(num)%k\n",
    "        c-=1\n",
    "    return global_max\n",
    "print(solve('75',2,88))\n",
    "print(solve('52436',5,12)) # 11"
   ]
  },
  {
   "cell_type": "code",
   "execution_count": 15,
   "metadata": {},
   "outputs": [
    {
     "data": {
      "text/plain": [
       "'123'"
      ]
     },
     "execution_count": 15,
     "metadata": {},
     "output_type": "execute_result"
    }
   ],
   "source": [
    "s =[1,2,3,4,5]\n",
    "''.join(['1','2','3'])"
   ]
  }
 ],
 "metadata": {
  "kernelspec": {
   "display_name": "Python 3",
   "language": "python",
   "name": "python3"
  },
  "language_info": {
   "codemirror_mode": {
    "name": "ipython",
    "version": 3
   },
   "file_extension": ".py",
   "mimetype": "text/x-python",
   "name": "python",
   "nbconvert_exporter": "python",
   "pygments_lexer": "ipython3",
   "version": "3.7.3"
  }
 },
 "nbformat": 4,
 "nbformat_minor": 2
}
