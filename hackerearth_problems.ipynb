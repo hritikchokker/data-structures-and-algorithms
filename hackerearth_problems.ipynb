{
 "cells": [
  {
   "cell_type": "markdown",
   "metadata": {},
   "source": [
    "# Charged Up Array\n",
    "\n",
    "Problem\n",
    "\n",
    "You are given with an array\n",
    " of size .An element  is said to be charged if its value() is greater than or equal to .  is the total number of subsets of array , that consist of element . \n",
    "Total charge value of the array is defined as summation of all charged elements present in the array mod .\n",
    "Your task is to output the total charge value of the given array\n",
    "\n",
    ".\n",
    "\n",
    "INPUT FORMAT:\n",
    "\n",
    "The first line of input contains number of test cases\n",
    ".\n",
    "The first line of each test case consists of , the size of the array.\n",
    "Next line contains  space-separated integers corresponding to each element \n",
    "\n",
    ".\n",
    "\n",
    "OUTPUT FORMAT:\n",
    "\n",
    "For each test case, output a single number corresponding to total charge value of the given array."
   ]
  },
  {
   "cell_type": "code",
   "execution_count": 4,
   "metadata": {},
   "outputs": [
    {
     "name": "stdout",
     "output_type": "stream",
     "text": [
      "9\n"
     ]
    }
   ],
   "source": [
    "def solve (A,N):\n",
    "    rept = 2 ** (N - 1)\n",
    "    total = 0\n",
    "    for i in A:        \n",
    "        if i >= rept:\n",
    "            total += i\n",
    "\n",
    "    return total % (10**9 + 7)\n",
    "\n",
    "out_ = solve([3,4,5],3)\n",
    "print (out_)"
   ]
  },
  {
   "cell_type": "markdown",
   "metadata": {},
   "source": [
    "# Maximize the modulo function\n",
    "\n",
    "Problem\n",
    "\n",
    "You are given an integer\n",
    " that is represented in the form of string  of length\n",
    "\n",
    ". You can remove at most 1 digit from the number after removing the rest of the digits that are arranged in the same order.\n",
    "\n",
    "Example\n",
    "\n",
    "For \n",
    ", if you delete the digit , the new number is \n",
    "\n",
    ".\n",
    "\n",
    "You are also given an integer\n",
    ". Find the maximum possible value of ( mod ) after deleting at most 1 digit from number\n",
    "\n",
    ".\n",
    "\n",
    "Input format\n",
    "\n",
    "    The first line contains an integer \n",
    "\n",
    " denoting the number of test cases.\n",
    "The first line of each test case contains two space-separated integers\n",
    " and \n",
    ".\n",
    "The second line of each test case contains string\n",
    "\n",
    "    .\n",
    "\n",
    "Output format\n",
    "\n",
    "For each test case, print the maximum possible value of the mod function in a new line."
   ]
  },
  {
   "cell_type": "code",
   "execution_count": 2,
   "metadata": {},
   "outputs": [
    {
     "name": "stdout",
     "output_type": "stream",
     "text": [
      "7\n",
      "11\n"
     ]
    }
   ],
   "source": [
    "def solve(arr,size,k):\n",
    "    arr=list(map(int,arr))\n",
    "    c = size-1\n",
    "    l=len(arr)-1\n",
    "    global_max=0\n",
    "    for i in range(l):\n",
    "        ls=arr[0:c]\n",
    "        num=''.join([str(x) for x in ls])\n",
    "        if (int(num)%k)>=global_max:\n",
    "            global_max = int(num)%k\n",
    "        c-=1\n",
    "    return global_max\n",
    "print(solve('75',2,88)) # 7\n",
    "print(solve('52436',5,12)) # 11"
   ]
  },
  {
   "cell_type": "markdown",
   "metadata": {},
   "source": [
    "# Minimum operations\n",
    "\n",
    "Problem\n",
    "You are given an array  of length  and can perform the following operation on the array:\n",
    "\n",
    "Select a subarray from array  having the same value of elements and decrease the value of all the elements in that subarray by any positive integer .\n",
    "Find the minimum number of operations required to make all the elements of array  equal to zero.\n",
    "\n",
    "Input format\n",
    "\n",
    "The first line contains an integer  denoting the number of elements in the array.\n",
    "The next line contains space-separated integers denoting the elements of array .\n",
    "Output format\n",
    "\n",
    "Print the minimum number of operations required to make all the elements of array  equal to zero."
   ]
  },
  {
   "cell_type": "code",
   "execution_count": 13,
   "metadata": {},
   "outputs": [
    {
     "name": "stdout",
     "output_type": "stream",
     "text": [
      "{1, 2, 3}\n",
      "4\n"
     ]
    }
   ],
   "source": [
    "def solve(arr,n):\n",
    "    s={t for t in arr}\n",
    "    x=0\n",
    "    if len(s)==n:\n",
    "        print(len(s))\n",
    "    else:\n",
    "        for i in range(n-1): #[2,2,1,3,1]\n",
    "            if arr[i]!=arr[i+1]:\n",
    "                x+=1\n",
    "    return x+1   \n",
    "print(solve([2,2,1,3,1],5))"
   ]
  },
  {
   "cell_type": "markdown",
   "metadata": {},
   "source": [
    "# In an array\n",
    "Problem\n",
    "You are given an array  of size , where the  integer of the array is  and its value ranges between  and  inclusive. You are required to complete the following task:\n",
    "\n",
    "Assume that you are provided with  additional numbers , , and . Your task is to report the number of unordered pairs of elements  from this array, such that , , and .\n",
    "\n",
    "Input format\n",
    "\n",
    "First line: Four space-separated integers , , , and \n",
    "Next line:  space-separated integers where the  integer denotes \n",
    "Output format\n",
    "\n",
    "Print the required number of ordered pairs of array elements in a single line. As the answer could be rather large, be careful of integer overflows.\n",
    "\n"
   ]
  },
  {
   "cell_type": "code",
   "execution_count": null,
   "metadata": {},
   "outputs": [],
   "source": [
    "def solve(arr,n,k,x,y):\n",
    "    pass\n",
    "\n",
    "print([1,2,3,2,1],5,2,1,0)"
   ]
  }
 ],
 "metadata": {
  "kernelspec": {
   "display_name": "Python 3",
   "language": "python",
   "name": "python3"
  },
  "language_info": {
   "codemirror_mode": {
    "name": "ipython",
    "version": 3
   },
   "file_extension": ".py",
   "mimetype": "text/x-python",
   "name": "python",
   "nbconvert_exporter": "python",
   "pygments_lexer": "ipython3",
   "version": "3.7.3"
  }
 },
 "nbformat": 4,
 "nbformat_minor": 2
}
