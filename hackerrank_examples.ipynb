{
 "cells": [
  {
   "cell_type": "code",
   "execution_count": 1,
   "metadata": {},
   "outputs": [
    {
     "name": "stdout",
     "output_type": "stream",
     "text": [
      "5 6 7\n",
      "3 6 10\n",
      "1   1\n"
     ]
    }
   ],
   "source": [
    "# Compare the Triplets\n",
    "\n",
    "\"\"\"    If a[i] > b[i], then Alice is awarded 1 point.\n",
    "    If a[i] < b[i], then Bob is awarded 1 point.\n",
    "    If a[i] = b[i], then neither person receives a point.\n",
    "\"\"\"\n",
    "def compareTriplets(a, b):\n",
    "    aPoint=0\n",
    "    bPoint=0\n",
    "#     it can be len(b) also\n",
    "    for i in range(len(a)):\n",
    "        if a[i]>b[i]:\n",
    "            aPoint+=1\n",
    "        elif a[i]<b[i]:\n",
    "            bPoint+=1\n",
    "    return aPoint,bPoint      \n",
    "a=[int(x) for x in input().split()]\n",
    "b=[int(x) for x in input().split()]\n",
    "pointa,pointb=compareTriplets(a,b)\n",
    "print(pointa,\"\",pointb)"
   ]
  },
  {
   "cell_type": "code",
   "execution_count": 23,
   "metadata": {},
   "outputs": [
    {
     "name": "stdout",
     "output_type": "stream",
     "text": [
      "3\n",
      "1 2 3\n",
      "4 5 6\n",
      "9 8 9\n",
      "2\n"
     ]
    }
   ],
   "source": [
    "# Diagonal Difference\n",
    "def diagonalDifference(arr):\n",
    "    lsum=0\n",
    "    rsum=0\n",
    "    for i in range(len(arr)):\n",
    "        for j in range(len(arr[i])):\n",
    "            if i+j==n-1:\n",
    "                rsum+=arr[i][j]\n",
    "    for i in range(len(arr)):\n",
    "        for j in range(len(arr[i])):\n",
    "            if i==j:\n",
    "                lsum+=arr[i][j]\n",
    "                \n",
    "    return abs(lsum-rsum)           \n",
    "                \n",
    "n=int(input())\n",
    "arr = [[int(j) for j in input().split()]for i in range(n)]\n",
    "print(diagonalDifference(arr))"
   ]
  },
  {
   "cell_type": "code",
   "execution_count": 31,
   "metadata": {},
   "outputs": [
    {
     "name": "stdout",
     "output_type": "stream",
     "text": [
      "0 0 -1 1 1\n",
      "0.4\n",
      "0.2\n",
      "0.4\n"
     ]
    }
   ],
   "source": [
    "# Plus Minus\n",
    "\n",
    "def plusMinus(arr):\n",
    "    pos=0\n",
    "    n=len(arr)\n",
    "    neg=0\n",
    "    zero=0\n",
    "    for i in range(n):\n",
    "        if arr[i]>0:\n",
    "            pos+=1\n",
    "        elif arr[i]<0:\n",
    "            neg+=1\n",
    "        else:\n",
    "            zero+=1\n",
    "    print(round(pos/n,6))\n",
    "    print(round(neg/n,6))\n",
    "    print(round(zero/n,6))\n",
    "arr = list(map(int, input().rstrip().split()))\n",
    "plusMinus(arr)"
   ]
  },
  {
   "cell_type": "code",
   "execution_count": 67,
   "metadata": {},
   "outputs": [
    {
     "name": "stdout",
     "output_type": "stream",
     "text": [
      "1 2 3 4 5\n",
      "10 14\n"
     ]
    }
   ],
   "source": [
    "# Mini-Max Sum\n",
    "def miniMaxSum(arr):\n",
    "    c=0\n",
    "    sm=[]\n",
    "    for i in range(len(arr)):\n",
    "#         1 2 3 4 5 \n",
    "        temp=0\n",
    "        for j in range(i,len(arr)-1):\n",
    "            temp+=arr[j]\n",
    "        sm.append(temp)\n",
    "        arr.append(arr[i])    \n",
    "            \n",
    "    print(min(sm),end=\" \")\n",
    "    print(max(sm))\n",
    "\n",
    "arr = [int(x) for x in input().split()]\n",
    "miniMaxSum(arr)"
   ]
  },
  {
   "cell_type": "code",
   "execution_count": 80,
   "metadata": {},
   "outputs": [
    {
     "name": "stdout",
     "output_type": "stream",
     "text": [
      "4\n",
      "3 2 1 3\n",
      "2\n"
     ]
    }
   ],
   "source": [
    "# Birthday Cake Candles\n",
    "\n",
    "def birthdayCakeCandles(candles):\n",
    "    occurence={}\n",
    "    for i in candles:\n",
    "        if i in occurence:\n",
    "            occurence[i]=occurence[i]+1\n",
    "        else:            \n",
    "            occurence[i]=1\n",
    "    mx=-111\n",
    "    for i in occurence:\n",
    "        if occurence[i]>mx:\n",
    "            mx=occurence[i]\n",
    "    return mx        \n",
    "n=int(input())\n",
    "candles=[int(x) for x in input().split()]\n",
    "print(birthdayCakeCandles(candles))"
   ]
  },
  {
   "cell_type": "code",
   "execution_count": 62,
   "metadata": {},
   "outputs": [
    {
     "name": "stdout",
     "output_type": "stream",
     "text": [
      "6\n",
      "     #\n",
      "    ##\n",
      "   ###\n",
      "  ####\n",
      " #####\n",
      "######\n"
     ]
    }
   ],
   "source": [
    "#### Staircase\n",
    "def staircase(n):\n",
    "    i=0\n",
    "    j=0\n",
    "    s=0\n",
    "    while i<n:\n",
    "        j=0\n",
    "        s=0\n",
    "        while s<n-i-1:\n",
    "            print(' ',end=\"\")\n",
    "            s+=1\n",
    "        while j<=i:\n",
    "            print('#',end=\"\")\n",
    "            j+=1\n",
    "        print()    \n",
    "        i+=1\n",
    "        \n",
    "            \n",
    "n=int(input())\n",
    "staircase(n)"
   ]
  },
  {
   "cell_type": "code",
   "execution_count": 113,
   "metadata": {},
   "outputs": [
    {
     "name": "stdout",
     "output_type": "stream",
     "text": [
      "07:05:45PM\n",
      "19:05:45\n"
     ]
    }
   ],
   "source": [
    "# Time Conversion\n",
    "def timeConversion(s):\n",
    "    hours=['13','14','15','16','17','18','19','20','21','22','23','24']\n",
    "    indexes={'01':1,'02':2,'03':3,'04':4,'05':5,'06':6,'07':7,'08':8,'09':9,'10':10,'11':11,'12':12}\n",
    "    if 'PM' in s or 'pm' in s:\n",
    "        sm=indexes[s[:2]]\n",
    "        change=hours[sm-1]\n",
    "        res=s[:len(s)-2]\n",
    "        res.replace(s[:2],change) \n",
    "        return res\n",
    "    else:\n",
    "        return s[:len(s)-2]\n",
    "s=input()\n",
    "print(timeConversion(s))\n",
    "\n"
   ]
  },
  {
   "cell_type": "code",
   "execution_count": 3,
   "metadata": {},
   "outputs": [
    {
     "name": "stdout",
     "output_type": "stream",
     "text": [
      "4\n",
      "73 67 38 33\n",
      "75 67 40 33\n"
     ]
    }
   ],
   "source": [
    "#### Grading Students\n",
    "\n",
    "def gradingStudents(grades):\n",
    "    check=3\n",
    "    start=1\n",
    "    result=[]\n",
    "    for i in grades:\n",
    "        start=1\n",
    "        flag=False\n",
    "        while start<check:\n",
    "            if (i+start)%5==0 and i+start >=40:\n",
    "                result.append(i+start)\n",
    "                flag=True\n",
    "            start+=1    \n",
    "        if flag is False:\n",
    "            result.append(i)\n",
    "    return result       \n",
    "n=int(input())\n",
    "grades=[int(x) for x in input().split()]\n",
    "result =gradingStudents(grades)\n",
    "print(*result)\n",
    "# 4\n",
    "# 73 67 38 33"
   ]
  },
  {
   "cell_type": "code",
   "execution_count": 2,
   "metadata": {},
   "outputs": [
    {
     "data": {
      "text/plain": [
       "0"
      ]
     },
     "execution_count": 2,
     "metadata": {},
     "output_type": "execute_result"
    }
   ],
   "source": [
    "def countApplesAndOranges(s, t, a, b, apples, oranges):\n",
    "    one=0\n",
    "    two=0\n",
    "    for i in range(len(apples)):\n",
    "        apples[i]=a+apples[i]\n",
    "    for i in range((len(oranges))):\n",
    "        oranges[i]=b+oranges[i]\n",
    "    for i in apples:\n",
    "        if i <=t and i>=s:\n",
    "            one+=1\n",
    "    for i in oranges:\n",
    "        if i <=t and i>=s:\n",
    "            two+=1        \n",
    "    print(one)        \n",
    "    print(two)\n",
    "#     return one,two        \n",
    "st=[int(x) for x in input().split()]\n",
    "s=st[0]\n",
    "t=st[1]\n",
    "ab=[int(x) for x in input().split()]\n",
    "a=ab[0]\n",
    "b=ab[0]\n",
    "mn=[int(x) for x in input().split()]\n",
    "m=mn[0]\n",
    "n=mn[1]\n",
    "apples = list(map(int, input().rstrip().split()))\n",
    "oranges = list(map(int, input().rstrip().split()))\n",
    "one,two=countApplesAndOranges(s, t, a, b, apples, oranges)\n",
    "print(one,''two)"
   ]
  },
  {
   "cell_type": "code",
   "execution_count": 8,
   "metadata": {},
   "outputs": [
    {
     "name": "stdout",
     "output_type": "stream",
     "text": [
      "0 3 4 2\n",
      "YES\n"
     ]
    }
   ],
   "source": [
    "# Number Line Jumps\n",
    "def kangaroo(x1, v1, x2, v2):\n",
    "    limit=10000\n",
    "    i=0\n",
    "    x=x1\n",
    "    y=x2\n",
    "    while i<limit:\n",
    "        x+=v1\n",
    "        y+=v2\n",
    "        if x==y:\n",
    "            return 'YES'\n",
    "        i+=1\n",
    "    return 'NO'\n",
    "x1,v1,x2,v2=[int(x) for x in input().split()]\n",
    "print(kangaroo(x1, v1, x2, v2))"
   ]
  },
  {
   "cell_type": "code",
   "execution_count": 27,
   "metadata": {},
   "outputs": [
    {
     "name": "stdout",
     "output_type": "stream",
     "text": [
      "5\n"
     ]
    }
   ],
   "source": [
    "\n",
    "def divisibleSumPairs(n, k, ar):\n",
    "    res=0\n",
    "    for i in range(len(ar)):\n",
    "        for j in range(i+1,len(ar)):\n",
    "            if (int(ar[i]+ar[j])%k==0):\n",
    "                res+=1\n",
    "    return res       \n",
    "ar=[1,3,2,6,1,2]        \n",
    "n=6\n",
    "k=3\n",
    "print(divisibleSumPairs(n, k, ar))\n",
    "#     print(i%3,'and',i)"
   ]
  },
  {
   "cell_type": "code",
   "execution_count": 9,
   "metadata": {},
   "outputs": [
    {
     "name": "stdout",
     "output_type": "stream",
     "text": [
      "07:05:45PM\n",
      "19:05:45\n"
     ]
    }
   ],
   "source": [
    "# https://www.hackerrank.com/challenges/time-conversion/problem\n",
    "tMap = {'01':'13','02':'14','03':'15','04':'16','05':'17','06':'18','07':'19' ,'08':'20','09':'21','10':'22','11':'23','12':'24'}\n",
    "\n",
    "def timeConversion(s):\n",
    "    if 'PM' in s:\n",
    "        s=s.replace('PM','')\n",
    "        string = s.split(':')\n",
    "        string[0]=tMap[string[0]]    \n",
    "        return ':'.join(string)        \n",
    "    else:\n",
    "        s.replace('AM',' ')\n",
    "        return s;\n",
    "    # Write your code here\n",
    "s = input()\n",
    "print(timeConversion(s))\n",
    "# 07:05:45PM"
   ]
  },
  {
   "cell_type": "code",
   "execution_count": 6,
   "metadata": {},
   "outputs": [
    {
     "data": {
      "text/plain": [
       "'07:05:45'"
      ]
     },
     "execution_count": 6,
     "metadata": {},
     "output_type": "execute_result"
    }
   ],
   "source": [
    "'07:05:45PM'.replace('PM','')"
   ]
  }
 ],
 "metadata": {
  "kernelspec": {
   "display_name": "Python 3",
   "language": "python",
   "name": "python3"
  },
  "language_info": {
   "codemirror_mode": {
    "name": "ipython",
    "version": 3
   },
   "file_extension": ".py",
   "mimetype": "text/x-python",
   "name": "python",
   "nbconvert_exporter": "python",
   "pygments_lexer": "ipython3",
   "version": "3.7.3"
  }
 },
 "nbformat": 4,
 "nbformat_minor": 2
}
