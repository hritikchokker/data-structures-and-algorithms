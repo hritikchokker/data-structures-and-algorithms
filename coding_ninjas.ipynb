{
 "cells": [
  {
   "cell_type": "code",
   "execution_count": null,
   "metadata": {},
   "outputs": [],
   "source": [
    "# https://www.codingninjas.com/codestudio/problems/swap-and-maximise_1164405"
   ]
  },
  {
   "cell_type": "code",
   "execution_count": 17,
   "metadata": {},
   "outputs": [
    {
     "name": "stdout",
     "output_type": "stream",
     "text": [
      "[[16, 19, 10, 12, 12, 19, 6, 10, 3, 8], [19, 10, 12, 12, 19, 6, 10, 3, 8, 16], [10, 12, 12, 19, 6, 10, 3, 8, 16, 19], [12, 12, 19, 6, 10, 3, 8, 16, 19, 10], [12, 19, 6, 10, 3, 8, 16, 19, 10, 12], [19, 6, 10, 3, 8, 16, 19, 10, 12, 12], [6, 10, 3, 8, 16, 19, 10, 12, 12, 19], [10, 3, 8, 16, 19, 10, 12, 12, 19, 6], [3, 8, 16, 19, 10, 12, 12, 19, 6, 10], [8, 16, 19, 10, 12, 12, 19, 6, 10, 3]] list\n",
      "59\n"
     ]
    }
   ],
   "source": [
    "def maxSum(arr, n):\n",
    "    arr = getList(arr)\n",
    "    print(arr,'list')\n",
    "    return calc(arr)\n",
    "\n",
    "def calc(arr):\n",
    "    out=[]\n",
    "    for ls in arr:\n",
    "        i=0\n",
    "        j=1\n",
    "        sm=1\n",
    "        while j< len(ls)-1:\n",
    "            sm=sm+abs(ls[i]-ls[j])\n",
    "            i=i+1\n",
    "            j=j+1\n",
    "        if j==len(ls)-1:\n",
    "            sm = sm + abs(ls[len(ls) - 1] - ls[0]) \n",
    "        out.append(sm)       \n",
    "    return max(out)\n",
    "def getList(arr):\n",
    "    out = []\n",
    "    for i in range(len(arr)):\n",
    "        temp = arr[0]\n",
    "        arr = arr[1:]\n",
    "        arr.append(temp)\n",
    "        out.append(arr)\n",
    "    return out\n",
    "arr=[8,16,19,10,12,12,19,6,10,3]\n",
    "print(maxSum(arr,4))\n",
    "# print(maxSum([8,2,7,6,1],4))\n",
    "# 8 2 7 6 1"
   ]
  }
 ],
 "metadata": {
  "kernelspec": {
   "display_name": "Python 3",
   "language": "python",
   "name": "python3"
  },
  "language_info": {
   "codemirror_mode": {
    "name": "ipython",
    "version": 3
   },
   "file_extension": ".py",
   "mimetype": "text/x-python",
   "name": "python",
   "nbconvert_exporter": "python",
   "pygments_lexer": "ipython3",
   "version": "3.7.3"
  }
 },
 "nbformat": 4,
 "nbformat_minor": 2
}
