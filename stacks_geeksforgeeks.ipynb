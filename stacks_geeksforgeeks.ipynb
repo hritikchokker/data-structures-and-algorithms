{
 "cells": [
  {
   "cell_type": "markdown",
   "metadata": {},
   "source": [
    "# Evaluation of Postfix Expression \n",
    "\n",
    "Given string S representing a postfix expression, the task is to evaluate the expression and find the final value. Operators will only include the basic arithmetic operators like *, /, + and -.\n",
    "\n",
    " \n",
    "\n",
    "Example 1:\n",
    "\n",
    "Input: S = \"231*+9-\"\n",
    "Output: -4\n",
    "Explanation:\n",
    "After solving the given expression, \n",
    "we have -4 as result.\n",
    "\n",
    "Example 2:\n",
    "\n",
    "Input: S = \"123+*8-\"\n",
    "Output: -3\n",
    "Explanation:\n",
    "After solving the given postfix \n",
    "expression, we have -3 as result.\n"
   ]
  },
  {
   "cell_type": "code",
   "execution_count": 14,
   "metadata": {},
   "outputs": [
    {
     "name": "stdout",
     "output_type": "stream",
     "text": [
      "['1', '2', '3', '+', '*', '8', '-']\n",
      "3 None\n"
     ]
    }
   ],
   "source": [
    " \n",
    "from queue import LifoQueue\n",
    " \n",
    "class Solution:   \n",
    "    #Function to evaluate a postfix expression.\n",
    "    \n",
    "    def isOperator(self,string):\n",
    "        return string == '+' or string == '-' or string == '*' or string =='/'\n",
    "    def calcOperation(self,operation,firstVal,secondVal):\n",
    "        if operation == '+':\n",
    "            return int(firstVal) + int(secondVal)\n",
    "        if operation == '-':\n",
    "            return abs(int(firstVal) - int(secondVal))\n",
    "        if operation == '*':\n",
    "            return abs(int(firstVal) * int(secondVal))\n",
    "        return abs(int(firstVal)//int(secondVal))\n",
    "    def printStack(self,stack):\n",
    "        while stack.empty() is False:\n",
    "            print(stack.get(),end=\" \")\n",
    "    def evaluatePostfix(self, S):\n",
    "        arr=list(S)\n",
    "        l=len(arr)\n",
    "        stack = LifoQueue(maxsize =l)\n",
    "        print(arr)\n",
    "\n",
    "        for i in range(l):\n",
    "            if self.isOperator(arr[i]) is False:\n",
    "                stack.put(arr[i])\n",
    "            else:\n",
    "                last = stack.get()\n",
    "                secondLast = stack.get()\n",
    "                stack.put(self.calcOperation(arr[i],last,secondLast))\n",
    "        self.printStack(stack)\n",
    "                \n",
    "sol = Solution()        \n",
    "# print(sol.evaluatePostfix('231*+9-'))\n",
    "print(sol.evaluatePostfix('123+*8-'))"
   ]
  }
 ],
 "metadata": {
  "kernelspec": {
   "display_name": "Python 3",
   "language": "python",
   "name": "python3"
  },
  "language_info": {
   "codemirror_mode": {
    "name": "ipython",
    "version": 3
   },
   "file_extension": ".py",
   "mimetype": "text/x-python",
   "name": "python",
   "nbconvert_exporter": "python",
   "pygments_lexer": "ipython3",
   "version": "3.7.3"
  }
 },
 "nbformat": 4,
 "nbformat_minor": 2
}
