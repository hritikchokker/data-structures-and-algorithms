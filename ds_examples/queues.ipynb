{
 "cells": [
  {
   "cell_type": "markdown",
   "metadata": {},
   "source": [
    "# Queue using array(with two pointers)"
   ]
  },
  {
   "cell_type": "code",
   "execution_count": 2,
   "metadata": {},
   "outputs": [
    {
     "name": "stdout",
     "output_type": "stream",
     "text": [
      "enter size for queue4\n",
      "10 => 20 => 30 => \n"
     ]
    }
   ],
   "source": [
    "class Queue:\n",
    "    def __init__(self,size):\n",
    "        self.size=size\n",
    "        self.front=-1\n",
    "        self.rear=-1\n",
    "        self.q=[0]*size\n",
    "    \n",
    "    def isFull(self):\n",
    "        return self.rear == self.size-1\n",
    "    def enqueue(self,data):\n",
    "        if self.isFull():\n",
    "            print('queue is full')\n",
    "            return\n",
    "        else:\n",
    "            self.rear+=1\n",
    "            self.q[self.rear]=data\n",
    "    def isEmpty(self):\n",
    "        return self.front == self.rear\n",
    "    def dequeue(self):\n",
    "        x=-1\n",
    "        if self.isEmpty():\n",
    "            print('queue is empty')\n",
    "            return\n",
    "        else:\n",
    "            self.front+=1\n",
    "            x=self.q[self.front]\n",
    "        return x\n",
    "    def display(self):\n",
    "        for i in range(self.front+1,self.rear+1):\n",
    "            print(self.q[i],'=>',end=\" \")\n",
    "        print()    \n",
    "size=int(input('enter size for queue'))        \n",
    "queue = Queue(size)\n",
    "queue.enqueue(10)\n",
    "queue.enqueue(20)\n",
    "queue.enqueue(30)\n",
    "queue.display()"
   ]
  },
  {
   "cell_type": "markdown",
   "metadata": {},
   "source": [
    "# Circular queue using arr"
   ]
  },
  {
   "cell_type": "code",
   "execution_count": 2,
   "metadata": {},
   "outputs": [
    {
     "name": "stdout",
     "output_type": "stream",
     "text": [
      "enter size for queue4\n",
      "display\n",
      "\n"
     ]
    }
   ],
   "source": [
    "class CircularQueue:\n",
    "    def __init__(self,size):\n",
    "        self.size=size\n",
    "        self.front=0\n",
    "        self.rear=0\n",
    "        self.q=[0]*size\n",
    "    \n",
    "    def isFull(self):\n",
    "        return self.rear == self.size-1\n",
    "    def enqueue(self,data):\n",
    "        if (self.rear+1)%self.size == self.front:\n",
    "            print('queue is full')\n",
    "            return\n",
    "        else:\n",
    "            self.rear=((self.rear)%self.size)\n",
    "            self.q[self.rear]=data\n",
    "    def isEmpty(self):\n",
    "        return self.front == self.rear\n",
    "    def dequeue(self):\n",
    "        x=-1\n",
    "        if self.front == self.rear:\n",
    "            print('queue is empty')\n",
    "            return\n",
    "        else:\n",
    "            self.front=(self.front+1)%self.size\n",
    "            x=self.q[self.front]\n",
    "        return x\n",
    "    def display(self):\n",
    "        for i in range(self.front+1,self.rear+1):\n",
    "            print(self.q[i],'=>',end=\" \")\n",
    "        print()    \n",
    "size=int(input('enter size for queue'))        \n",
    "queue = CircularQueue(size)\n",
    "queue.enqueue(10)\n",
    "queue.enqueue(20)\n",
    "queue.enqueue(30)\n",
    "queue.display()"
   ]
  },
  {
   "cell_type": "code",
   "execution_count": null,
   "metadata": {},
   "outputs": [],
   "source": []
  }
 ],
 "metadata": {
  "kernelspec": {
   "display_name": "Python 3",
   "language": "python",
   "name": "python3"
  },
  "language_info": {
   "codemirror_mode": {
    "name": "ipython",
    "version": 3
   },
   "file_extension": ".py",
   "mimetype": "text/x-python",
   "name": "python",
   "nbconvert_exporter": "python",
   "pygments_lexer": "ipython3",
   "version": "3.7.3"
  }
 },
 "nbformat": 4,
 "nbformat_minor": 2
}
