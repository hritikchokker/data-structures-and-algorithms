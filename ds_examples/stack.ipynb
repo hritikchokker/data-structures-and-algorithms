{
 "cells": [
  {
   "cell_type": "markdown",
   "metadata": {},
   "source": [
    "# Stack Implementation using Arrays(list)"
   ]
  },
  {
   "cell_type": "code",
   "execution_count": 2,
   "metadata": {},
   "outputs": [],
   "source": [
    "class Stack:\n",
    "    def __init__(self,size):\n",
    "        self.size=size\n",
    "        self.top=-1\n",
    "        self.st=[0]*size\n",
    "    \n",
    "    def isStackOverFlow(self):\n",
    "        return self.size -1 == self.top\n",
    "    def isEmpty(self):\n",
    "        return self.top ==-1\n",
    "    def push(self,stack,data):\n",
    "        if stack.size-1 ==stack.top:\n",
    "            print('stack overflow')\n",
    "        else:\n",
    "            stack.top+=1\n",
    "            stack.st[stack.top]=data\n",
    "            return\n",
    "    def peek(self,index):\n",
    "        x=-1\n",
    "        if self.top-index +1 <0:\n",
    "            print('invalid index')\n",
    "            return\n",
    "        x=self.st[self.top-index+1]\n",
    "        return x\n",
    "    def pop(self,stack):\n",
    "        x=-1\n",
    "        if stack.top == -1:\n",
    "            print('stack un derflow')\n",
    "        else:\n",
    "            x=stack.st[stack.top]            \n",
    "            stack.top-=1\n",
    "        return x\n",
    "    def getTop(self,stack):\n",
    "        if self.isEmpty() is False:\n",
    "            return stack[self.top]\n",
    "        else:\n",
    "            return -1\n",
    "    def displayStack(self,stack):\n",
    "        for i in range(stack.top,-1,-1):\n",
    "            print(stack.st[i],end=\"-\")\n",
    "        print()\n",
    "# size=int(input('enter the size for the stack'))        \n",
    "# stack=Stack(size)\n",
    "# element= [int(x) for x in input().split()]\n",
    "# for i in element:\n",
    "#     stack.push(stack,i)\n",
    "\n",
    "# stack.displayStack(stack)\n",
    "# # print(stack.getTop(stack.st))\n",
    "# print(stack.pop(stack),'removed')\n",
    "# stack.displayStack(stack)"
   ]
  },
  {
   "cell_type": "markdown",
   "metadata": {},
   "source": [
    "# Stack Implementation using Linked List"
   ]
  },
  {
   "cell_type": "code",
   "execution_count": 3,
   "metadata": {},
   "outputs": [
    {
     "ename": "SyntaxError",
     "evalue": "invalid syntax (<ipython-input-3-ede2db1b4d46>, line 30)",
     "output_type": "error",
     "traceback": [
      "\u001b[0;36m  File \u001b[0;32m\"<ipython-input-3-ede2db1b4d46>\"\u001b[0;36m, line \u001b[0;32m30\u001b[0m\n\u001b[0;31m    return self.top === None\u001b[0m\n\u001b[0m                      ^\u001b[0m\n\u001b[0;31mSyntaxError\u001b[0m\u001b[0;31m:\u001b[0m invalid syntax\n"
     ]
    }
   ],
   "source": [
    "class Node:\n",
    "    def __init__(self,data):\n",
    "        self.data=data\n",
    "        self.next=None\n",
    "class StackLL:\n",
    "    def __init__(self):\n",
    "        self.tail=None\n",
    "        self.top=None\n",
    "        pass\n",
    "    def push(self,data):\n",
    "        newNode = Node(data)\n",
    "        if self.top is None:\n",
    "            print('stack overflow')\n",
    "            return\n",
    "        else:\n",
    "            newNode.next=self.top\n",
    "            self.top=newNode\n",
    "            return\n",
    "    def pop(self):\n",
    "        x=-1\n",
    "        if self.top is None:\n",
    "            print('stack underflow')\n",
    "        else:\n",
    "            x=self.top.data\n",
    "            self.top=self.top.next\n",
    "        return x\n",
    "    def getTop(self):\n",
    "        return self.top\n",
    "    def isEmpty(self):\n",
    "        return self.top === None\n",
    "    def isFull(self):\n",
    "        newNode = Node(1) # 1 is dummy value\n",
    "        result=newNode\n",
    "        if result:\n",
    "            return True\n",
    "        else:\n",
    "            return False\n",
    "    def display(self):\n",
    "        top=self.top\n",
    "        while top is not None:\n",
    "            print(top.data,end=\" \")\n",
    "            top=top.next\n",
    "        print()\n",
    "        return\n",
    "    def peek(self,index):\n",
    "        x=-1\n",
    "        top=self.top\n",
    "        f=0\n",
    "        while top is not None and  f<index-1:\n",
    "            top=top.next\n",
    "            f+=1\n",
    "        if top is not None:\n",
    "            return top.data\n",
    "        else:\n",
    "            return -1"
   ]
  },
  {
   "cell_type": "markdown",
   "metadata": {},
   "source": [
    "# Paranthesis Matching"
   ]
  },
  {
   "cell_type": "code",
   "execution_count": 14,
   "metadata": {},
   "outputs": [
    {
     "name": "stdout",
     "output_type": "stream",
     "text": [
      "enter a equation that have paranthesis(a+b((\n",
      "False\n"
     ]
    }
   ],
   "source": [
    "def isParanthesisMatching(string,stack):\n",
    "    for i in range(len(string)):\n",
    "        if string[i] == '(':\n",
    "            stack.push(stack,string[i])\n",
    "        elif string[i] == ')':\n",
    "            if stack.top == -1:\n",
    "                return False\n",
    "            else:\n",
    "                stack.pop(stack) \n",
    "    return stack.top == -1\n",
    "string=input('enter a equation that have paranthesis')\n",
    "stack= Stack(len(string))\n",
    "print(isParanthesisMatching(string,stack))"
   ]
  }
 ],
 "metadata": {
  "kernelspec": {
   "display_name": "Python 3",
   "language": "python",
   "name": "python3"
  },
  "language_info": {
   "codemirror_mode": {
    "name": "ipython",
    "version": 3
   },
   "file_extension": ".py",
   "mimetype": "text/x-python",
   "name": "python",
   "nbconvert_exporter": "python",
   "pygments_lexer": "ipython3",
   "version": "3.7.3"
  }
 },
 "nbformat": 4,
 "nbformat_minor": 2
}
