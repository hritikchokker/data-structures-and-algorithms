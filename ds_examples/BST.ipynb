{
 "cells": [
  {
   "cell_type": "markdown",
   "metadata": {},
   "source": [
    "# Binary Search Tree"
   ]
  },
  {
   "cell_type": "code",
   "execution_count": 17,
   "metadata": {},
   "outputs": [],
   "source": [
    "from sys import stdin, setrecursionlimit\n",
    "import queue\n",
    "setrecursionlimit(10**6)\n",
    "class BinaryTreeNode:\n",
    "    def __init__(self,data):\n",
    "        self.data = data\n",
    "        self.left = None\n",
    "        self.right = None\n",
    "def createTree():\n",
    "    q=queue.Queue()\n",
    "    rootVal = int(input('enter root value'))\n",
    "    root = BinaryTreeNode(rootVal)\n",
    "    q.put(root)\n",
    "    while not q.empty():\n",
    "        p=q.get()\n",
    "        leftChildVal = int(input('enter left child of {parent}'.format(parent=p.data)))\n",
    "#         if leftChildVal <p.data:\n",
    "#             leftChild = BinaryTreeNode(leftChildVal)\n",
    "#             p.left = leftChild\n",
    "#             q.put(leftChild)\n",
    "#         rightChildVal = int(input('enter right child of {parent}'.format(parent=p.data)))\n",
    "#         if rightChildVal > p.data:\n",
    "#             rightChild = BinaryTreeNode(rightChildVal)\n",
    "#             p.right = rightChild\n",
    "#             q.put(rightChild)        \n",
    "        if leftChildVal !=-1:\n",
    "            leftChild = BinaryTreeNode(leftChildVal)\n",
    "            p.left = leftChild\n",
    "            q.put(leftChild)\n",
    "        rightChildVal = int(input('enter right child of {parent}'.format(parent=p.data)))\n",
    "        if rightChildVal !=-1:\n",
    "            rightChild = BinaryTreeNode(rightChildVal)\n",
    "            p.right = rightChild\n",
    "            q.put(rightChild)\n",
    "    return root            "
   ]
  },
  {
   "cell_type": "code",
   "execution_count": 10,
   "metadata": {},
   "outputs": [],
   "source": []
  },
  {
   "cell_type": "code",
   "execution_count": 13,
   "metadata": {},
   "outputs": [],
   "source": [
    "def printBST(root):\n",
    "    if root is not None:\n",
    "        print(root.data)\n",
    "        printBST(root.left)\n",
    "        printBST(root.right)"
   ]
  },
  {
   "cell_type": "code",
   "execution_count": 18,
   "metadata": {},
   "outputs": [
    {
     "name": "stdout",
     "output_type": "stream",
     "text": [
      "enter root value9\n",
      "enter left child of 915\n",
      "enter right child of 95\n",
      "enter left child of 1520\n",
      "enter right child of 1516\n",
      "enter left child of 58\n",
      "enter right child of 512\n",
      "enter left child of 203\n",
      "enter right child of 206\n",
      "enter left child of 16-1\n",
      "enter right child of 16-1\n",
      "enter left child of 8-1\n",
      "enter right child of 8-1\n",
      "enter left child of 12-1\n",
      "enter right child of 12-1\n",
      "enter left child of 3-1\n",
      "enter right child of 3-1\n",
      "enter left child of 6-1\n",
      "enter right child of 6-1\n"
     ]
    }
   ],
   "source": [
    "root =createTree()\n",
    "# 9 15 5 20 16 8 12 3 6"
   ]
  }
 ],
 "metadata": {
  "kernelspec": {
   "display_name": "Python 3",
   "language": "python",
   "name": "python3"
  },
  "language_info": {
   "codemirror_mode": {
    "name": "ipython",
    "version": 3
   },
   "file_extension": ".py",
   "mimetype": "text/x-python",
   "name": "python",
   "nbconvert_exporter": "python",
   "pygments_lexer": "ipython3",
   "version": "3.7.3"
  }
 },
 "nbformat": 4,
 "nbformat_minor": 2
}
