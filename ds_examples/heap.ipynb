{
 "cells": [
  {
   "cell_type": "markdown",
   "metadata": {},
   "source": [
    "# Binary heap"
   ]
  },
  {
   "cell_type": "code",
   "execution_count": 16,
   "metadata": {},
   "outputs": [],
   "source": [
    "\"\"\"\n",
    " this function will work for both min and max heap\n",
    " by changing the if condition in the while loop\n",
    "\"\"\"\n",
    "def insert(arr,n):\n",
    "    i=n\n",
    "    temp=arr[i]\n",
    "    while i>1 and temp > arr[i//2]:\n",
    "        arr[i]=arr[i//2]\n",
    "        i=i//2\n",
    "    arr[i]=temp"
   ]
  },
  {
   "cell_type": "markdown",
   "metadata": {},
   "source": [
    "# Creation, deletion in heap and heap sort"
   ]
  },
  {
   "cell_type": "code",
   "execution_count": 39,
   "metadata": {},
   "outputs": [
    {
     "name": "stdout",
     "output_type": "stream",
     "text": [
      "0 10 20 30 25 5 40 35\n",
      "5 10 20 25 30 35 40 "
     ]
    }
   ],
   "source": [
    "def createHeap():\n",
    "    arr=[int(x) for x in input().split()]\n",
    "    n=len(arr)\n",
    "    for i in range(2,n):\n",
    "        insert(arr,i)\n",
    "    return arr\n",
    "# 10 20 30 25 5 40 35   \n",
    "# 0 2 5 8 9 4 10 7\n",
    "def delete(arr,n):\n",
    "    x=arr[n]\n",
    "    val=arr[1]\n",
    "    arr[1]=arr[n]\n",
    "    arr[n]=val\n",
    "    i=1\n",
    "    j=2*i\n",
    "    while j<n-1:\n",
    "        if arr[j+1]>arr[j]:\n",
    "            j=j+1\n",
    "        if(arr[i]<arr[j]):\n",
    "            arr[i],arr[j]=arr[j],arr[i]\n",
    "            i=j\n",
    "            j=2*j\n",
    "        else:\n",
    "            break    \n",
    "    return val\n",
    "#     arr[n]=x #heap sort example\n",
    "arr=createHeap()        \n",
    "\n",
    "\"\"\"\n",
    "to perform heap sort remove element from heap \n",
    "the list will be automatically sorted\n",
    "\"\"\"\n",
    "for i in range(len(arr)-1,1,-1):\n",
    "    delete(arr,i)\n",
    "for i in range(1,len(arr)):\n",
    "    print(arr[i],end=\" \")\n",
    "    "
   ]
  },
  {
   "cell_type": "code",
   "execution_count": null,
   "metadata": {},
   "outputs": [],
   "source": []
  }
 ],
 "metadata": {
  "kernelspec": {
   "display_name": "Python 3",
   "language": "python",
   "name": "python3"
  },
  "language_info": {
   "codemirror_mode": {
    "name": "ipython",
    "version": 3
   },
   "file_extension": ".py",
   "mimetype": "text/x-python",
   "name": "python",
   "nbconvert_exporter": "python",
   "pygments_lexer": "ipython3",
   "version": "3.7.3"
  }
 },
 "nbformat": 4,
 "nbformat_minor": 2
}
