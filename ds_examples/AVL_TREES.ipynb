{
 "cells": [
  {
   "cell_type": "markdown",
   "metadata": {},
   "source": [
    "# AVL TREES"
   ]
  },
  {
   "cell_type": "code",
   "execution_count": 1,
   "metadata": {},
   "outputs": [],
   "source": [
    "class AVLNode:\n",
    "    def __init__(self,data):\n",
    "        self.data = data\n",
    "        self.left = None\n",
    "        self.h=0\n",
    "        self.right =None"
   ]
  },
  {
   "cell_type": "code",
   "execution_count": 4,
   "metadata": {},
   "outputs": [],
   "source": [
    "# printing is done using preorder traversal\n",
    "def printBST(root):\n",
    "    if root is not None:\n",
    "        print(root.data)\n",
    "        printBST(root.left)\n",
    "        printBST(root.right)"
   ]
  },
  {
   "cell_type": "code",
   "execution_count": 12,
   "metadata": {},
   "outputs": [],
   "source": [
    "def nodeHeight(p):\n",
    "    hl=None\n",
    "    hr=None\n",
    "    if p and p.left:\n",
    "        hl=p.left.height\n",
    "    else:\n",
    "        hl=0\n",
    "    if p and p.right:\n",
    "        hr=p.right.height\n",
    "    else:\n",
    "        hr=0\n",
    "    return max(hl,hr)+1\n",
    "def balanceFactor(p):\n",
    "    hl=None\n",
    "    hr=None\n",
    "    if p and p.left:\n",
    "        hl=p.left.height\n",
    "    else:\n",
    "        hl=0\n",
    "    if p and p.right:\n",
    "        hr=p.right.height\n",
    "    else:\n",
    "        hr=0\n",
    "    return hl-hr\n",
    "def LLRotation(p,root):\n",
    "    pl=p.left\n",
    "    plr=pl.right\n",
    "    pl.right=p\n",
    "    p.left=plr\n",
    "    p.height = nodeHeight(p)\n",
    "    pl.height = nodeHeight(pl)\n",
    "    if root==p:\n",
    "        root=pl\n",
    "    return pl\n",
    "def LRRotation(p,root):\n",
    "    pl=p.left\n",
    "    plr=pl.right\n",
    "    pl.right=plr.left\n",
    "    p.left=plr.right\n",
    "    plr.left=pl\n",
    "    plr.right=p\n",
    "    pl.height= nodeHeight(pl)\n",
    "    p.height = nodeHeight(p)\n",
    "    plr.height=nodeHeight(plr)\n",
    "    if p == root:\n",
    "        root=plr\n",
    "    return plr\n",
    "def insert(root,key):\n",
    "    if root is None:\n",
    "        t=AVLNode(key)\n",
    "        t.height =1\n",
    "        return t\n",
    "    if key <root.data:\n",
    "        root.left =insert(root.left,key)\n",
    "    elif key>root.data:\n",
    "        root.right = insert(root.right,key)\n",
    "    root.height=nodeHeight(root)\n",
    "    if balanceFactor(root) ==2 and balanceFactor(root.left) ==1:\n",
    "        return LLRotation(root,root)\n",
    "    elif balanceFactor(root) ==2 and balanceFactor(root.left) ==-1:\n",
    "        return LRRotation(root,root) \n",
    "    elif balanceFactor(root) == -2 and balanceFactor(root.right) ==-1:\n",
    "        return RRRotation(root)\n",
    "    elif balanceFactor(root) == -2 and balanceFactor(root.right) ==1:\n",
    "        return RLRotation(root)\n",
    "    return root\n"
   ]
  },
  {
   "cell_type": "code",
   "execution_count": 13,
   "metadata": {},
   "outputs": [
    {
     "name": "stdout",
     "output_type": "stream",
     "text": [
      "20\n",
      "10\n",
      "50\n"
     ]
    }
   ],
   "source": [
    "root = insert(None,50)\n",
    "root = insert(root,10) \n",
    "root = insert(root,20) \n",
    "printBST(root)"
   ]
  },
  {
   "cell_type": "code",
   "execution_count": null,
   "metadata": {},
   "outputs": [],
   "source": []
  },
  {
   "cell_type": "code",
   "execution_count": null,
   "metadata": {},
   "outputs": [],
   "source": [
    "def nodeHeight(p):\n",
    "    hl=None\n",
    "    hr=None\n",
    "    if p and p.left:\n",
    "        hl=p.left.height\n",
    "    else:\n",
    "        hl=0\n",
    "    if p and p.right:\n",
    "        hr=p.right.height\n",
    "    else:\n",
    "        hr=0\n",
    "    return max(hl,hr)+1\n",
    "def balanceFactor(p):\n",
    "    hl=None\n",
    "    hr=None\n",
    "    if p and p.left:\n",
    "        hl=p.left.height\n",
    "    else:\n",
    "        hl=0\n",
    "    if p and p.right:\n",
    "        hr=p.right.height\n",
    "    else:\n",
    "        hr=0\n",
    "    return hl-hr\n",
    "def LLRotation(p):\n",
    "    pl=p.left\n",
    "    plr=pl.right\n",
    "    pl.right=p\n",
    "    p.left=plr\n",
    "    p.height = nodeHeight(p)\n",
    "    pl.height = nodeHeight(pl) \n",
    "        t.height =1\n",
    "        return t\n",
    "    if key <root.data:\n",
    "        root.left =insertInBST(root.left,key)\n",
    "    elif key>root.data:\n",
    "        root.right = insertInBST(root.right,key)\n",
    "    p.height=nodeHeight(p)\n",
    "    if balanceFactor(p) ==2 and balanceFactor(p.left) ==1:\n",
    "        return LLRotation(p)\n",
    "    elif balanceFactor(p) ==2 and balanceFactor(p.left) ==-1:\n",
    "        return LRRotation(p) \n",
    "    elif balanceFactor(p) == -2 and balanceFactor(p.right) ==-1:\n",
    "        return RRRotation(p)\n",
    "    elif balanceFactor(p) == -2 and balanceFactor(p.right) ==1:\n",
    "        return RLRotation(p)\n",
    "    return root"
   ]
  }
 ],
 "metadata": {
  "kernelspec": {
   "display_name": "Python 3",
   "language": "python",
   "name": "python3"
  },
  "language_info": {
   "codemirror_mode": {
    "name": "ipython",
    "version": 3
   },
   "file_extension": ".py",
   "mimetype": "text/x-python",
   "name": "python",
   "nbconvert_exporter": "python",
   "pygments_lexer": "ipython3",
   "version": "3.7.3"
  }
 },
 "nbformat": 4,
 "nbformat_minor": 2
}
