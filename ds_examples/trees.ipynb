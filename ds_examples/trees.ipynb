{
 "cells": [
  {
   "cell_type": "code",
   "execution_count": null,
   "metadata": {},
   "outputs": [],
   "source": [
    "# generate a tree using queue"
   ]
  },
  {
   "cell_type": "code",
   "execution_count": 2,
   "metadata": {},
   "outputs": [],
   "source": [
    "class Queue:\n",
    "    def __init__(self,size):\n",
    "        self.size=size\n",
    "        self.front=-1\n",
    "        self.rear=-1\n",
    "        self.q=[0]*size\n",
    "    \n",
    "    def isFull(self):\n",
    "        return self.rear == self.size-1\n",
    "    def enqueue(self,data):\n",
    "        if self.isFull():\n",
    "            print('queue is full')\n",
    "            return\n",
    "        else:\n",
    "            self.rear+=1\n",
    "            self.q[self.rear]=data\n",
    "    def isEmpty(self):\n",
    "        return self.front == self.rear\n",
    "    def dequeue(self):\n",
    "        x=-1\n",
    "        if self.isEmpty():\n",
    "            print('queue is empty')\n",
    "            return\n",
    "        else:\n",
    "            self.front+=1\n",
    "            x=self.q[self.front]\n",
    "        return x\n",
    "    def display(self):\n",
    "        for i in range(self.front+1,self.rear+1):\n",
    "            print(self.q[i],'=>',end=\" \")\n",
    "        print() "
   ]
  },
  {
   "cell_type": "code",
   "execution_count": null,
   "metadata": {},
   "outputs": [],
   "source": [
    "class TreeNode:\n",
    "    def __init__(self,data):\n",
    "        self.data = data\n",
    "        self.left=None\n",
    "        self.right=None"
   ]
  },
  {
   "cell_type": "code",
   "execution_count": null,
   "metadata": {},
   "outputs": [],
   "source": [
    "def createTree():\n",
    "    x = int(input(''))"
   ]
  }
 ],
 "metadata": {
  "kernelspec": {
   "display_name": "Python 3",
   "language": "python",
   "name": "python3"
  },
  "language_info": {
   "codemirror_mode": {
    "name": "ipython",
    "version": 3
   },
   "file_extension": ".py",
   "mimetype": "text/x-python",
   "name": "python",
   "nbconvert_exporter": "python",
   "pygments_lexer": "ipython3",
   "version": "3.7.3"
  }
 },
 "nbformat": 4,
 "nbformat_minor": 2
}
