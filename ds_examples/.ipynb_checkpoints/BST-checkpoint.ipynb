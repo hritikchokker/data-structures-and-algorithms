{
 "cells": [
  {
   "cell_type": "markdown",
   "metadata": {},
   "source": [
    "# Binary Search Tree"
   ]
  },
  {
   "cell_type": "code",
   "execution_count": 23,
   "metadata": {},
   "outputs": [],
   "source": [
    "from sys import stdin, setrecursionlimit\n",
    "import queue\n",
    "setrecursionlimit(10**6)\n",
    "class BinaryTreeNode:\n",
    "    def __init__(self,data):\n",
    "        self.data = data\n",
    "        self.left = None\n",
    "        self.right = None\n",
    "def createTree():\n",
    "    q=queue.Queue()\n",
    "    rootVal = int(input('enter root value'))\n",
    "    root = BinaryTreeNode(rootVal)\n",
    "    q.put(root)\n",
    "    while not q.empty():\n",
    "        p=q.get()\n",
    "        leftChildVal = int(input('enter left child of {parent}'.format(parent=p.data)))\n",
    "        if leftChildVal !=-1:\n",
    "            leftChild = BinaryTreeNode(leftChildVal)\n",
    "            p.left = leftChild\n",
    "            q.put(leftChild)\n",
    "        rightChildVal = int(input('enter right child of {parent}'.format(parent=p.data)))\n",
    "        if rightChildVal !=-1:\n",
    "            rightChild = BinaryTreeNode(rightChildVal)\n",
    "            p.right = rightChild\n",
    "            q.put(rightChild)\n",
    "    return root            "
   ]
  },
  {
   "cell_type": "code",
   "execution_count": 37,
   "metadata": {},
   "outputs": [],
   "source": [
    "class Stack:\n",
    "    def __init__(self,size):\n",
    "        self.size=size\n",
    "        self.top=-1\n",
    "        self.st=[0]*size\n",
    "    \n",
    "    def isStackOverFlow(self):\n",
    "        return self.size -1 == self.top\n",
    "    def isEmpty(self):\n",
    "        return self.top ==-1\n",
    "    def push(self,stack,data):\n",
    "        if stack.size-1 ==stack.top:\n",
    "            print('stack overflow')\n",
    "        else:\n",
    "            stack.top+=1\n",
    "            stack.st[stack.top]=data\n",
    "            return\n",
    "    def peek(self,index):\n",
    "        x=-1\n",
    "        if self.top-index +1 <0:\n",
    "            print('invalid index')\n",
    "            return\n",
    "        x=self.st[self.top-index+1]\n",
    "        return x\n",
    "    def pop(self,stack):\n",
    "        x=-1\n",
    "        if stack.top == -1:\n",
    "            print('stack un derflow')\n",
    "        else:\n",
    "            x=stack.st[stack.top]            \n",
    "            stack.top-=1\n",
    "        return x\n",
    "    def getTop(self,stack):\n",
    "        if self.isEmpty() is False:\n",
    "            return stack.st[self.top]\n",
    "        else:\n",
    "            return -1\n",
    "    def displayStack(self,stack):\n",
    "        for i in range(stack.top,-1,-1):\n",
    "            print(stack.st[i],end=\"-\")\n",
    "        print()"
   ]
  },
  {
   "cell_type": "markdown",
   "metadata": {},
   "source": [
    "# Inserts In BST recursively"
   ]
  },
  {
   "cell_type": "code",
   "execution_count": null,
   "metadata": {},
   "outputs": [],
   "source": [
    "def insertInBST(root,key):\n",
    "    if root is None:\n",
    "        t=BinaryTreeNode(key)\n",
    "        return t\n",
    "    if key <root.data:\n",
    "        root.left =insertInBST(root.left,key)\n",
    "    elif key>root.data:\n",
    "        root.right = insertInBST(root.right,key)\n",
    "    return root\n",
    "root =insertInBST(None,10)    \n",
    "root=insertInBST(root,5)\n",
    "root = insertInBST(root,8)\n",
    "root = insertInBST(root,20)\n",
    "root = insertInBST(root,30)\n",
    "printBST(root)"
   ]
  },
  {
   "cell_type": "markdown",
   "metadata": {},
   "source": [
    "# Deletion in BST"
   ]
  },
  {
   "cell_type": "code",
   "execution_count": null,
   "metadata": {},
   "outputs": [],
   "source": [
    "def height(p):\n",
    "    if p is None:\n",
    "        return 0\n",
    "    x= height(p.left)\n",
    "    y=height(p.right)\n",
    "    if x>y:\n",
    "        return x+1\n",
    "    else:\n",
    "        return y+1\n",
    "def inSucc(p):\n",
    "    while p and p.left is not None:\n",
    "        p=p.left\n",
    "    return p\n",
    "def inPre(p):\n",
    "    while p and p.right is not None:\n",
    "        p=p.right\n",
    "    return p\n",
    "def deleteInBST(p,key):\n",
    "    if p is None:\n",
    "        return None\n",
    "    if p.left is None and p.right is None:\n",
    "        if p == root:\n",
    "            root=None\n",
    "        del(p)\n",
    "    if key < p.data:\n",
    "        p.left = deleteInBST(p.left,key)\n",
    "    elif key > p.data:\n",
    "        p.right = deleteInBST(p.right,key)\n",
    "    else:\n",
    "        if(height(p.left) >height(p.right)):\n",
    "#             finding inorder predecessor \n",
    "            temp=inPre(p.left)\n",
    "            p.data = temp.data\n",
    "            p.left = deleteInBST(p.left,temp.data)\n",
    "            #             finding inorder successor\n",
    "        else:\n",
    "            temp=inSucc(p.right)\n",
    "            p.data = temp.data\n",
    "            p.right = deleteInBST(p.right,temp.data)\n",
    "            \n",
    "    return p\n",
    "deleteInBST(root,20)\n",
    "printBST(root)"
   ]
  },
  {
   "cell_type": "code",
   "execution_count": 12,
   "metadata": {},
   "outputs": [],
   "source": [
    "# printing is done using preorder traversal\n",
    "def printBST(root):\n",
    "    if root is not None:\n",
    "        print(root.data)\n",
    "        printBST(root.left)\n",
    "        printBST(root.right)"
   ]
  },
  {
   "cell_type": "code",
   "execution_count": 46,
   "metadata": {},
   "outputs": [
    {
     "name": "stdout",
     "output_type": "stream",
     "text": [
      "30 20 10 15 25 40 50 45\n",
      "stack un derflow\n"
     ]
    },
    {
     "ename": "AttributeError",
     "evalue": "'int' object has no attribute 'data'",
     "output_type": "error",
     "traceback": [
      "\u001b[0;31m---------------------------------------------------------------------------\u001b[0m",
      "\u001b[0;31mAttributeError\u001b[0m                            Traceback (most recent call last)",
      "\u001b[0;32m<ipython-input-46-75bf0adfa939>\u001b[0m in \u001b[0;36m<module>\u001b[0;34m\u001b[0m\n\u001b[1;32m     29\u001b[0m \u001b[0marr\u001b[0m\u001b[0;34m=\u001b[0m\u001b[0;34m[\u001b[0m\u001b[0mint\u001b[0m\u001b[0;34m(\u001b[0m\u001b[0mx\u001b[0m\u001b[0;34m)\u001b[0m \u001b[0;32mfor\u001b[0m \u001b[0mx\u001b[0m \u001b[0;32min\u001b[0m \u001b[0minput\u001b[0m\u001b[0;34m(\u001b[0m\u001b[0;34m)\u001b[0m\u001b[0;34m.\u001b[0m\u001b[0msplit\u001b[0m\u001b[0;34m(\u001b[0m\u001b[0;34m)\u001b[0m\u001b[0;34m]\u001b[0m\u001b[0;34m\u001b[0m\u001b[0;34m\u001b[0m\u001b[0m\n\u001b[1;32m     30\u001b[0m \u001b[0msize\u001b[0m\u001b[0;34m=\u001b[0m\u001b[0mlen\u001b[0m\u001b[0;34m(\u001b[0m\u001b[0marr\u001b[0m\u001b[0;34m)\u001b[0m\u001b[0;34m\u001b[0m\u001b[0;34m\u001b[0m\u001b[0m\n\u001b[0;32m---> 31\u001b[0;31m \u001b[0mgenBSTPre\u001b[0m\u001b[0;34m(\u001b[0m\u001b[0marr\u001b[0m\u001b[0;34m,\u001b[0m\u001b[0msize\u001b[0m\u001b[0;34m)\u001b[0m\u001b[0;34m\u001b[0m\u001b[0;34m\u001b[0m\u001b[0m\n\u001b[0m\u001b[1;32m     32\u001b[0m \u001b[0;31m# 30 20 10 15 25 40 50 45\u001b[0m\u001b[0;34m\u001b[0m\u001b[0;34m\u001b[0m\u001b[0;34m\u001b[0m\u001b[0m\n",
      "\u001b[0;32m<ipython-input-46-75bf0adfa939>\u001b[0m in \u001b[0;36mgenBSTPre\u001b[0;34m(arr, size)\u001b[0m\n\u001b[1;32m      7\u001b[0m     \u001b[0mp\u001b[0m\u001b[0;34m=\u001b[0m\u001b[0mroot\u001b[0m\u001b[0;34m\u001b[0m\u001b[0;34m\u001b[0m\u001b[0m\n\u001b[1;32m      8\u001b[0m     \u001b[0;32mwhile\u001b[0m \u001b[0mi\u001b[0m\u001b[0;34m<\u001b[0m\u001b[0msize\u001b[0m\u001b[0;34m:\u001b[0m\u001b[0;34m\u001b[0m\u001b[0;34m\u001b[0m\u001b[0m\n\u001b[0;32m----> 9\u001b[0;31m         \u001b[0;32mif\u001b[0m \u001b[0marr\u001b[0m\u001b[0;34m[\u001b[0m\u001b[0mi\u001b[0m\u001b[0;34m]\u001b[0m\u001b[0;34m<\u001b[0m\u001b[0mp\u001b[0m\u001b[0;34m.\u001b[0m\u001b[0mdata\u001b[0m\u001b[0;34m:\u001b[0m\u001b[0;34m\u001b[0m\u001b[0;34m\u001b[0m\u001b[0m\n\u001b[0m\u001b[1;32m     10\u001b[0m             \u001b[0mtemp\u001b[0m \u001b[0;34m=\u001b[0m \u001b[0mBinaryTreeNode\u001b[0m\u001b[0;34m(\u001b[0m\u001b[0marr\u001b[0m\u001b[0;34m[\u001b[0m\u001b[0mi\u001b[0m\u001b[0;34m]\u001b[0m\u001b[0;34m)\u001b[0m\u001b[0;34m\u001b[0m\u001b[0;34m\u001b[0m\u001b[0m\n\u001b[1;32m     11\u001b[0m             \u001b[0mi\u001b[0m\u001b[0;34m=\u001b[0m\u001b[0mi\u001b[0m\u001b[0;34m+\u001b[0m\u001b[0;36m1\u001b[0m\u001b[0;34m\u001b[0m\u001b[0;34m\u001b[0m\u001b[0m\n",
      "\u001b[0;31mAttributeError\u001b[0m: 'int' object has no attribute 'data'"
     ]
    }
   ],
   "source": [
    "\n",
    "def genBSTPre(arr,size):\n",
    "    stack = Stack(size)\n",
    "    i=0\n",
    "    root = BinaryTreeNode(arr[i])\n",
    "    i+=1 \n",
    "    p=root\n",
    "    while i<size:\n",
    "        if arr[i]<p.data:\n",
    "            temp = BinaryTreeNode(arr[i])\n",
    "            i=i+1\n",
    "            p.left = temp\n",
    "            stack.push(stack,p)\n",
    "            p=temp\n",
    "        else:\n",
    "            top=stack.getTop(stack)\n",
    "            if(top != -1):\n",
    "                val=top.data\n",
    "            else:\n",
    "                val=-1\n",
    "#                 top.data and (top.data\n",
    "            if (arr[i] >p.data) and val>arr[i]:\n",
    "                temp=BinaryTreeNode(arr[i])\n",
    "                i=i+1\n",
    "                p.right=temp\n",
    "                p=temp\n",
    "            else:\n",
    "                p=stack.pop(stack)\n",
    "arr=[int(x) for x in input().split()]            \n",
    "size=len(arr)\n",
    "genBSTPre(arr,size)\n",
    "# 30 20 10 15 25 40 50 45"
   ]
  }
 ],
 "metadata": {
  "kernelspec": {
   "display_name": "Python 3",
   "language": "python",
   "name": "python3"
  },
  "language_info": {
   "codemirror_mode": {
    "name": "ipython",
    "version": 3
   },
   "file_extension": ".py",
   "mimetype": "text/x-python",
   "name": "python",
   "nbconvert_exporter": "python",
   "pygments_lexer": "ipython3",
   "version": "3.7.3"
  }
 },
 "nbformat": 4,
 "nbformat_minor": 2
}
