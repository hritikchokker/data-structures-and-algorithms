{
 "cells": [
  {
   "cell_type": "markdown",
   "metadata": {},
   "source": [
    "# Binary Search Tree"
   ]
  },
  {
   "cell_type": "code",
   "execution_count": 2,
   "metadata": {},
   "outputs": [],
   "source": [
    "from sys import stdin, setrecursionlimit\n",
    "import queue\n",
    "setrecursionlimit(10**6)\n",
    "class BinaryTreeNode:\n",
    "    def __init__(self,data):\n",
    "        self.data = data\n",
    "        self.left = None\n",
    "        self.right = None\n",
    "def createTree():\n",
    "    q=queue.Queue()\n",
    "    rootVal = int(input('enter root value'))\n",
    "    root = BinaryTreeNode(rootVal)\n",
    "    q.put(root)\n",
    "    while not q.empty():\n",
    "        p=q.get()\n",
    "        leftChildVal = int(input('enter left child of {parent}'.format(parent=p.data)))\n",
    "        if leftChildVal !=-1:\n",
    "            leftChild = BinaryTreeNode(leftChildVal)\n",
    "            p.left = leftChild\n",
    "            q.put(leftChild)\n",
    "        rightChildVal = int(input('enter right child of {parent}'.format(parent=p.data)))\n",
    "        if rightChildVal !=-1:\n",
    "            rightChild = BinaryTreeNode(rightChildVal)\n",
    "            p.right = rightChild\n",
    "            q.put(rightChild)\n",
    "    return root            "
   ]
  },
  {
   "cell_type": "code",
   "execution_count": 37,
   "metadata": {},
   "outputs": [],
   "source": [
    "class Stack:\n",
    "    def __init__(self,size):\n",
    "        self.size=size\n",
    "        self.top=-1\n",
    "        self.st=[0]*size\n",
    "    \n",
    "    def isStackOverFlow(self):\n",
    "        return self.size -1 == self.top\n",
    "    def isEmpty(self):\n",
    "        return self.top ==-1\n",
    "    def push(self,stack,data):\n",
    "        if stack.size-1 ==stack.top:\n",
    "            print('stack overflow')\n",
    "        else:\n",
    "            stack.top+=1\n",
    "            stack.st[stack.top]=data\n",
    "            return\n",
    "    def peek(self,index):\n",
    "        x=-1\n",
    "        if self.top-index +1 <0:\n",
    "            print('invalid index')\n",
    "            return\n",
    "        x=self.st[self.top-index+1]\n",
    "        return x\n",
    "    def pop(self,stack):\n",
    "        x=-1\n",
    "        if stack.top == -1:\n",
    "            print('stack un derflow')\n",
    "        else:\n",
    "            x=stack.st[stack.top]            \n",
    "            stack.top-=1\n",
    "        return x\n",
    "    def getTop(self,stack):\n",
    "        if self.isEmpty() is False:\n",
    "            return stack.st[self.top]\n",
    "        else:\n",
    "            return -1\n",
    "    def displayStack(self,stack):\n",
    "        for i in range(stack.top,-1,-1):\n",
    "            print(stack.st[i],end=\"-\")\n",
    "        print()"
   ]
  },
  {
   "cell_type": "markdown",
   "metadata": {},
   "source": [
    "# Inserts In BST recursively"
   ]
  },
  {
   "cell_type": "code",
   "execution_count": 27,
   "metadata": {},
   "outputs": [
    {
     "name": "stdout",
     "output_type": "stream",
     "text": [
      "10\n",
      "5\n",
      "8\n",
      "20\n",
      "30\n"
     ]
    }
   ],
   "source": [
    "def insertInBST(root,key):\n",
    "    if root is None:\n",
    "        t=BinaryTreeNode(key)\n",
    "        return t\n",
    "    if key <root.data:\n",
    "        root.left =insertInBST(root.left,key)\n",
    "    elif key>root.data:\n",
    "        root.right = insertInBST(root.right,key)\n",
    "    return root\n",
    "root =insertInBST(None,10)    \n",
    "root=insertInBST(root,5)\n",
    "root = insertInBST(root,8)\n",
    "root = insertInBST(root,20)\n",
    "root = insertInBST(root,30)\n",
    "printBST(root)"
   ]
  },
  {
   "cell_type": "markdown",
   "metadata": {},
   "source": [
    "# searching in BST"
   ]
  },
  {
   "cell_type": "code",
   "execution_count": 26,
   "metadata": {},
   "outputs": [
    {
     "name": "stdout",
     "output_type": "stream",
     "text": [
      "True\n"
     ]
    }
   ],
   "source": [
    "def searchBST(root,key):\n",
    "    if root is None:\n",
    "        return None\n",
    "    if key == root.data:\n",
    "        return True\n",
    "    if key <root.data:\n",
    "        return searchBST(root.left,key)\n",
    "    else:\n",
    "        return searchBST(root.right,key)\n",
    "print(searchBST(root,10))  "
   ]
  },
  {
   "cell_type": "markdown",
   "metadata": {},
   "source": [
    "# Deletion in BST"
   ]
  },
  {
   "cell_type": "code",
   "execution_count": 16,
   "metadata": {},
   "outputs": [
    {
     "name": "stdout",
     "output_type": "stream",
     "text": [
      "10\n",
      "8\n",
      "20\n",
      "30\n"
     ]
    }
   ],
   "source": [
    "def height(p):\n",
    "    if p is None:\n",
    "        return 0\n",
    "    x= height(p.left)\n",
    "    y=height(p.right)\n",
    "    if x>y:\n",
    "        return x+1\n",
    "    else:\n",
    "        return y+1\n",
    "def inSucc(p):\n",
    "    while p and p.left is not None:\n",
    "        p=p.left\n",
    "    return p\n",
    "def inPre(p):\n",
    "    while p and p.right is not None:\n",
    "        p=p.right\n",
    "    return p\n",
    "def deleteInBST(p,key):\n",
    "    if p is None:\n",
    "        return None\n",
    "#         if p == root:\n",
    "#             root=None\n",
    "#         del(p)\n",
    "    if key < p.data:\n",
    "        p.left = deleteInBST(p.left,key)\n",
    "        return p        \n",
    "    elif key > p.data:\n",
    "        p.right = deleteInBST(p.right,key)\n",
    "        return p\n",
    "    elif p.left is None and p.right is None:\n",
    "        return None        \n",
    "    elif p.left == None:\n",
    "        return p.right\n",
    "    elif p.right == None:\n",
    "        return p.left\n",
    "    else:\n",
    "        if(height(p.left) >height(p.right)):\n",
    "#             finding inorder predecessor \n",
    "            temp=inPre(p.left)\n",
    "            p.data = temp.data\n",
    "            p.left = deleteInBST(p.left,temp.data)\n",
    "            #             finding inorder successor\n",
    "        else:\n",
    "            temp=inSucc(p.right)\n",
    "            p.data = temp.data\n",
    "            p.right = deleteInBST(p.right,temp.data)\n",
    "    return p\n",
    "deleteInBST(root,5)\n",
    "printBST(root)"
   ]
  },
  {
   "cell_type": "code",
   "execution_count": 9,
   "metadata": {},
   "outputs": [],
   "source": [
    "# printing is done using preorder traversal\n",
    "def printBST(root):\n",
    "    if root is not None:\n",
    "        print(root.data)\n",
    "        printBST(root.left)\n",
    "        printBST(root.right)"
   ]
  },
  {
   "cell_type": "code",
   "execution_count": null,
   "metadata": {},
   "outputs": [],
   "source": [
    "\n",
    "def genBSTPre(arr,size):\n",
    "    stack = Stack(size)\n",
    "    i=0\n",
    "    root = BinaryTreeNode(arr[i])\n",
    "    i+=1 \n",
    "    p=root\n",
    "    while i<size:\n",
    "        if arr[i]<p.data:\n",
    "            temp = BinaryTreeNode(arr[i])\n",
    "            i=i+1\n",
    "            p.left = temp\n",
    "            stack.push(stack,p)\n",
    "            p=temp\n",
    "        else:\n",
    "            top=stack.getTop(stack)\n",
    "            if(top != -1):\n",
    "                val=top.data\n",
    "            else:\n",
    "                val=-1\n",
    "#                 top.data and (top.data\n",
    "            if (arr[i] >p.data) and val>arr[i]:\n",
    "                temp=BinaryTreeNode(arr[i])\n",
    "                i=i+1\n",
    "                p.right=temp\n",
    "                p=temp\n",
    "            else:\n",
    "                p=stack.pop(stack)\n",
    "arr=[int(x) for x in input().split()]            \n",
    "size=len(arr)\n",
    "genBSTPre(arr,size)\n",
    "# 30 20 10 15 25 40 50 45"
   ]
  }
 ],
 "metadata": {
  "kernelspec": {
   "display_name": "Python 3",
   "language": "python",
   "name": "python3"
  },
  "language_info": {
   "codemirror_mode": {
    "name": "ipython",
    "version": 3
   },
   "file_extension": ".py",
   "mimetype": "text/x-python",
   "name": "python",
   "nbconvert_exporter": "python",
   "pygments_lexer": "ipython3",
   "version": "3.7.3"
  }
 },
 "nbformat": 4,
 "nbformat_minor": 2
}
