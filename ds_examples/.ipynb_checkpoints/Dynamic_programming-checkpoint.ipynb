{
 "cells": [
  {
   "cell_type": "code",
   "execution_count": null,
   "metadata": {},
   "outputs": [],
   "source": [
    "# Overlapping Subproblems Property in Dynamic Programming"
   ]
  },
  {
   "cell_type": "code",
   "execution_count": 16,
   "metadata": {},
   "outputs": [
    {
     "name": "stdout",
     "output_type": "stream",
     "text": [
      "5\n",
      "5\n"
     ]
    }
   ],
   "source": [
    "# Memoization (Top Down)\n",
    "\n",
    "def fibonacci(n):\n",
    "    if n<=1:\n",
    "        memArr[n]=n\n",
    "        return n\n",
    "    else:\n",
    "        if memArr[n-2]==-1:\n",
    "            memArr[n-2]=fibonacci(n-2)\n",
    "        if memArr[n-1]==-1:\n",
    "            memArr[n-1]=fibonacci(n-1)\n",
    "        return memArr[n-2]+memArr[n-1]  \n",
    "#  Bottom Up\n",
    "def fibBU(n):\n",
    "    f=[0]*(n+1)\n",
    "    i=0\n",
    "    f[0] = 0  \n",
    "    f[1] = 1\n",
    "    for i in range(2,n+1):        \n",
    "        f[i] = f[i-1] + f[i-2]\n",
    "    return f[n]\n",
    "memArr=[-1]*110\n",
    "print(fibonacci(5))\n",
    "print(fibBU(5))"
   ]
  },
  {
   "cell_type": "code",
   "execution_count": 48,
   "metadata": {},
   "outputs": [
    {
     "name": "stdout",
     "output_type": "stream",
     "text": [
      "6\n",
      "2333606220 18X18\n"
     ]
    }
   ],
   "source": [
    "def gridTraveler(m,n):\n",
    "    table=[[0 for i in range(n+1)] for j in range(m+1)]\n",
    "    table[1][1]=1\n",
    "    for i in range(m+1):\n",
    "        for j in range(n+1):\n",
    "            curr = table[i][j]\n",
    "            if j+1 <=n:\n",
    "                table[i][j+1]=table[i][j+1]+curr\n",
    "            if i+1 <=m:\n",
    "                table[i+1][j]=table[i+1][j]+curr\n",
    "    return table[m][n]\n",
    "print(gridTraveler(3,3))\n",
    "print(gridTraveler(18,18),'18X18')"
   ]
  },
  {
   "cell_type": "code",
   "execution_count": 68,
   "metadata": {},
   "outputs": [
    {
     "name": "stdout",
     "output_type": "stream",
     "text": [
      "True\n",
      "True\n",
      "False\n",
      "[7]\n"
     ]
    }
   ],
   "source": [
    "def canSum(targetSum,arr):\n",
    "    n=len(arr)-1\n",
    "    table=[False for i in range(targetSum+1)]\n",
    "    table[0]=True\n",
    "    for i in range(targetSum):\n",
    "        if table[i] is True:\n",
    "            for j in arr:\n",
    "                if(i+j < len(table)):\n",
    "                    table[i+j]=True\n",
    "    return table[targetSum]\n",
    "print(canSum(7,[2,3]))\n",
    "print(canSum(7,[5,3,4,7]))\n",
    "print(canSum(300,[7,14]))"
   ]
  },
  {
   "cell_type": "code",
   "execution_count": 6,
   "metadata": {},
   "outputs": [
    {
     "name": "stdout",
     "output_type": "stream",
     "text": [
      "[2, 2, 3]\n",
      "[3, 4]\n",
      "[2, 2, 2, 2]\n",
      "None\n"
     ]
    }
   ],
   "source": [
    "def howSum(targetSum,arr):\n",
    "    table = [None for i in range(targetSum+1)]\n",
    "    table[0]=[]\n",
    "    n=len(arr)-1\n",
    "    for i in range(targetSum):\n",
    "        if table[i] is not None:\n",
    "            for j in arr:\n",
    "                if i+j<len(table):\n",
    "                    table[i+j]=[j]+table[i]\n",
    "    return table[targetSum]\n",
    "print(howSum(7,[2,3]))\n",
    "print(howSum(7,[5,3,4]))\n",
    "print(howSum(8,[2,3,5]))\n",
    "print(howSum(300,[7,14]))\n",
    "# print(howSum(70,[7,7,5,7,7,7]))"
   ]
  },
  {
   "cell_type": "code",
   "execution_count": 27,
   "metadata": {},
   "outputs": [
    {
     "name": "stdout",
     "output_type": "stream",
     "text": [
      "[7]\n",
      "[25, 25, 25, 25]\n",
      "[4, 4]\n"
     ]
    }
   ],
   "source": [
    "def bestSum(targetSum,arr):\n",
    "    table =[ None for i in range(targetSum+1)]\n",
    "    table[0]=[]\n",
    "    for i in range(targetSum):\n",
    "        if table[i] is not None:\n",
    "            for j in arr:\n",
    "                if i+j <= len(table)-1:\n",
    "                    combination = [j]+table[i]\n",
    "                    if table[i+j] is None or len(table[i+j]) > len(combination):\n",
    "                        table[i+j]=combination\n",
    "    return table[targetSum]\n",
    "print(bestSum(7,[5,3,4,7]))\n",
    "print(bestSum(100,[2,3,25]))\n",
    "print(bestSum(8,[1,4,5]))"
   ]
  },
  {
   "cell_type": "code",
   "execution_count": 78,
   "metadata": {},
   "outputs": [
    {
     "name": "stdout",
     "output_type": "stream",
     "text": [
      "True\n",
      "False\n",
      "True\n",
      "False\n"
     ]
    }
   ],
   "source": [
    "def canConstruct(target,arr):\n",
    "    table = [False for i in range(len(target)+1)]\n",
    "    table[0]=True\n",
    "    for i in range(len(target)):\n",
    "        if table[i] is True:\n",
    "            for j in arr:\n",
    "                if (target[i:i+len(j)] == j):\n",
    "                    table[i+len(j)]=True\n",
    "    return table[len(target)]\n",
    "print(canConstruct('abcdef',['ab','abc','cd','def','abcd']))\n",
    "print(canConstruct('skateboard',['bo','rd','ate','t','ska','sk','boar']))\n",
    "print(canConstruct('enterapotentpot',['a','p','ent','enter','ot','o','t']))\n",
    "print(canConstruct('eeeeeeeeeeeeeeeeeeeeeeeeeeeeeeeeeeeeeeeeeef',['e','ee','eee','eeee','eeeee','eeeeee']))"
   ]
  },
  {
   "cell_type": "code",
   "execution_count": 87,
   "metadata": {},
   "outputs": [
    {
     "name": "stdout",
     "output_type": "stream",
     "text": [
      "2\n",
      "1\n",
      "0\n",
      "4\n",
      "0\n"
     ]
    }
   ],
   "source": [
    "def countConstruct(target,arr):\n",
    "    targetLen = len(target)\n",
    "    table=[0 for i in range(targetLen+1)]\n",
    "    table[0]=1\n",
    "    for i in range(targetLen):\n",
    "        if table[i]>0:\n",
    "            for j in arr:\n",
    "                if(target[i:i+len(j)] == j):\n",
    "                    table[i+len(j)] = table[i+len(j)] + table[i]\n",
    "    return table[len(target)]\n",
    "\n",
    "print(countConstruct('purple',['purp','p','ur','le','purpl']))\n",
    "print(countConstruct('abcdef',['ab','abc','cd','def','abcd']))\n",
    "print(countConstruct('skateboard',['bo','rd','ate','t','ska','sk','boar']))\n",
    "print(countConstruct('enterapotentpot',['a','p','ent','enter','ot','o','t']))\n",
    "print(countConstruct('eeeeeeeeeeeeeeeeeeeeeeeeeeeeeeeeeeeeeeeeeef',['e','ee','eee','eeee','eeeee','eeeeee']))"
   ]
  },
  {
   "cell_type": "code",
   "execution_count": 117,
   "metadata": {},
   "outputs": [
    {
     "name": "stdout",
     "output_type": "stream",
     "text": [
      "[['purp', 'le'], ['p', 'ur', 'p', 'le']]\n",
      "\n",
      "[['abc', 'def'], ['ab', 'c', 'def'], ['abcd', 'ef'], ['ab', 'cd', 'ef']]\n",
      "\n",
      "[]\n",
      "\n",
      "[]\n",
      "\n",
      "[['enter', 'a', 'p', 'ot', 'ent', 'p', 'ot'], ['enter', 'a', 'p', 'o', 't', 'ent', 'p', 'ot'], ['enter', 'a', 'p', 'ot', 'ent', 'p', 'o', 't'], ['enter', 'a', 'p', 'o', 't', 'ent', 'p', 'o', 't']]\n"
     ]
    }
   ],
   "source": [
    "def allConstruct(target,arr):\n",
    "    targetLen =len(target)\n",
    "    table=[[] for i in range(targetLen+1)]\n",
    "    table[0]=[[]]\n",
    "    for i in range(targetLen):\n",
    "        for j in arr:\n",
    "            if (target[i:i+len(j)] ==j):\n",
    "                combination= list(map(lambda x:x+[j],table[i]))\n",
    "                table[i+len(j)]= table[i+len(j)]+combination\n",
    "#                 table[i+len(j)]= table[i]+table[i+len(j)]+[j]\n",
    "    return table[targetLen]\n",
    "print(allConstruct('purple',['purp','p','ur','le','purpl']))\n",
    "print()\n",
    "print(allConstruct('abcdef',['ab','abc','cd','def','abcd','ef','c']))\n",
    "print()\n",
    "# print(allConstruct('abcdef',['ab','abc','cd','def','abcd']))\n",
    "print(allConstruct('skateboard',['bo','rd','ate','t','ska','sk','boar']))\n",
    "print()\n",
    "print(allConstruct('aaaaaaaaaaaaaaaz',['a','aa','aaa','aaaa','aaaaa']))\n",
    "print()\n",
    "print(allConstruct('enterapotentpot',['a','p','ent','enter','ot','o','t']))"
   ]
  }
 ],
 "metadata": {
  "kernelspec": {
   "display_name": "Python 3",
   "language": "python",
   "name": "python3"
  },
  "language_info": {
   "codemirror_mode": {
    "name": "ipython",
    "version": 3
   },
   "file_extension": ".py",
   "mimetype": "text/x-python",
   "name": "python",
   "nbconvert_exporter": "python",
   "pygments_lexer": "ipython3",
   "version": "3.7.3"
  }
 },
 "nbformat": 4,
 "nbformat_minor": 2
}
