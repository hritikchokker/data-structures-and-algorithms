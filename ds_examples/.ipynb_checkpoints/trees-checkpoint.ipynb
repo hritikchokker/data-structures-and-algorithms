{
 "cells": [
  {
   "cell_type": "markdown",
   "metadata": {},
   "source": [
    "# generate a tree using queue"
   ]
  },
  {
   "cell_type": "code",
   "execution_count": null,
   "metadata": {},
   "outputs": [],
   "source": [
    "from sys import stdin, setrecursionlimit\n",
    "import queue\n",
    "setrecursionlimit(10**6)\n",
    "class BinaryTreeNode:\n",
    "    def __init__(self,data):\n",
    "        self.data = data\n",
    "        self.left = None\n",
    "        self.right = None\n",
    "def createTree():\n",
    "    q=queue.Queue()\n",
    "    rootVal = int(input('enter root value'))\n",
    "    root = BinaryTreeNode(rootVal)\n",
    "    q.put(root)\n",
    "    while not q.empty():\n",
    "        p=q.get()\n",
    "        leftChildVal = int(input('enter left child of {parent}'.format(parent=p.data)))\n",
    "        if leftChildVal !=-1:\n",
    "            leftChild = BinaryTreeNode(leftChildVal)\n",
    "            p.left = leftChild\n",
    "            q.put(leftChild)\n",
    "        rightChildVal = int(input('enter right child of {parent}'.format(parent=p.data)))\n",
    "        if rightChildVal !=-1:\n",
    "            rightChild = BinaryTreeNode(rightChildVal)\n",
    "            p.right = rightChild\n",
    "            q.put(rightChild)\n",
    "    return root            "
   ]
  },
  {
   "cell_type": "code",
   "execution_count": 18,
   "metadata": {},
   "outputs": [],
   "source": [
    "class Stack:\n",
    "    def __init__(self,size):\n",
    "        self.size=size\n",
    "        self.top=-1\n",
    "        self.st=[0]*size\n",
    "    \n",
    "    def isStackOverFlow(self):\n",
    "        return self.size -1 == self.top\n",
    "    def isEmpty(self):\n",
    "        return self.top ==-1\n",
    "    def push(self,stack,data):\n",
    "        if stack.size-1 ==stack.top:\n",
    "            print('stack overflow')\n",
    "        else:\n",
    "            stack.top+=1\n",
    "            stack.st[stack.top]=data\n",
    "            return\n",
    "    def peek(self,index):\n",
    "        x=-1\n",
    "        if self.top-index +1 <0:\n",
    "            print('invalid index')\n",
    "            return\n",
    "        x=self.st[self.top-index+1]\n",
    "        return x\n",
    "    def pop(self,stack):\n",
    "        x=-1\n",
    "        if stack.top == -1:\n",
    "            print('stack un derflow')\n",
    "        else:\n",
    "            x=stack.st[stack.top]            \n",
    "            stack.top-=1\n",
    "        return x\n",
    "    def getTop(self,stack):\n",
    "        if self.isEmpty() is False:\n",
    "            return stack.st[self.top]\n",
    "        else:\n",
    "            return -1\n",
    "    def displayStack(self,stack):\n",
    "        for i in range(stack.top,-1,-1):\n",
    "            print(stack.st[i],end=\"-\")\n",
    "        print()"
   ]
  },
  {
   "cell_type": "markdown",
   "metadata": {},
   "source": [
    "# preorder traversal recursive"
   ]
  },
  {
   "cell_type": "code",
   "execution_count": null,
   "metadata": {},
   "outputs": [],
   "source": [
    "def preorderTraversal(root):\n",
    "    if root:\n",
    "        print(root.data)\n",
    "        preorderTraversal(root.left)\n",
    "        preorderTraversal(root.right)\n",
    "root = createTree()\n",
    "preorderTraversal(root)"
   ]
  },
  {
   "cell_type": "markdown",
   "metadata": {},
   "source": [
    "# postorder traversal recursive"
   ]
  },
  {
   "cell_type": "code",
   "execution_count": null,
   "metadata": {},
   "outputs": [],
   "source": [
    "# postorder traversal\n",
    "def postorderTraversal(root):\n",
    "    if root:\n",
    "        postorderTraversal(root.left)\n",
    "        postorderTraversal(root.right)\n",
    "        print(root.data)\n",
    "root = createTree()\n",
    "postorderTraversal(root)"
   ]
  },
  {
   "cell_type": "markdown",
   "metadata": {},
   "source": [
    "# inorder traversal recursive"
   ]
  },
  {
   "cell_type": "code",
   "execution_count": null,
   "metadata": {},
   "outputs": [],
   "source": [
    "def inorderTraversal(root):\n",
    "    if root:\n",
    "        inorderTraversal(root.left)\n",
    "        print(root.data)\n",
    "        inorderTraversal(root.right)\n",
    "root = createTree()    \n",
    "inorderTraversal(root)"
   ]
  },
  {
   "cell_type": "markdown",
   "metadata": {},
   "source": [
    "# preorder traversal iterative using stack"
   ]
  },
  {
   "cell_type": "code",
   "execution_count": 23,
   "metadata": {},
   "outputs": [
    {
     "name": "stdout",
     "output_type": "stream",
     "text": [
      "enter root value10\n",
      "enter left child of 1020\n",
      "enter right child of 1030\n",
      "enter left child of 20-1\n",
      "enter right child of 20-1\n",
      "enter left child of 30-1\n",
      "enter right child of 30-1\n",
      "10\n",
      "20\n",
      "30\n"
     ]
    }
   ],
   "source": [
    "def preorderItr(root):\n",
    "    stack = Stack(20)\n",
    "    while root  or not(stack.isEmpty()) :\n",
    "        if root is not None:\n",
    "            print(root.data)\n",
    "            stack.push(stack,root)\n",
    "            root=root.left\n",
    "        else:\n",
    "            root=stack.pop(stack)\n",
    "            root = root.right\n",
    "root = createTree()\n",
    "preorderItr(root)"
   ]
  },
  {
   "cell_type": "markdown",
   "metadata": {},
   "source": [
    "# postorder traversal iterative using stack"
   ]
  },
  {
   "cell_type": "code",
   "execution_count": 30,
   "metadata": {},
   "outputs": [
    {
     "name": "stdout",
     "output_type": "stream",
     "text": [
      "enter root value10\n",
      "enter left child of 1020\n",
      "enter right child of 1030\n",
      "enter left child of 20-1\n",
      "enter right child of 20-1\n",
      "enter left child of 30-1\n",
      "enter right child of 30-1\n",
      "10\n",
      "20\n",
      "30\n"
     ]
    }
   ],
   "source": [
    "def postorderItr(root):\n",
    "    stack = Stack(20)\n",
    "    while root  or not(stack.isEmpty()) :\n",
    "        if root is not None:\n",
    "            stack.push(stack,root)\n",
    "            print(root.data)\n",
    "            root=root.left\n",
    "        else:\n",
    "            root=stack.pop(stack)\n",
    "            root = root.right\n",
    "root = createTree()\n",
    "postorderItr(root)"
   ]
  },
  {
   "cell_type": "markdown",
   "metadata": {},
   "source": [
    "# inorder traversal iterative using stack"
   ]
  },
  {
   "cell_type": "code",
   "execution_count": 24,
   "metadata": {},
   "outputs": [
    {
     "name": "stdout",
     "output_type": "stream",
     "text": [
      "enter root value10\n",
      "enter left child of 1020\n",
      "enter right child of 1030\n",
      "enter left child of 20-1\n",
      "enter right child of 20-1\n",
      "enter left child of 30-1\n",
      "enter right child of 30-1\n",
      "20\n",
      "10\n",
      "30\n"
     ]
    }
   ],
   "source": [
    "def inorderItr(root):\n",
    "    stack = Stack(20)\n",
    "    while root  or not(stack.isEmpty()) :\n",
    "        if root is not None:\n",
    "            stack.push(stack,root)\n",
    "            root=root.left\n",
    "        else:\n",
    "            root=stack.pop(stack)\n",
    "            print(root.data)\n",
    "            root = root.right\n",
    "root = createTree()\n",
    "inorderItr(root)"
   ]
  },
  {
   "cell_type": "markdown",
   "metadata": {},
   "source": [
    "# level order traversal"
   ]
  },
  {
   "cell_type": "code",
   "execution_count": 33,
   "metadata": {},
   "outputs": [
    {
     "name": "stdout",
     "output_type": "stream",
     "text": [
      "enter root value10\n",
      "enter left child of 1020\n",
      "enter right child of 1030\n",
      "enter left child of 2040\n",
      "enter right child of 2050\n",
      "enter left child of 3060\n",
      "enter right child of 3070\n",
      "enter left child of 40-1\n",
      "enter right child of 40-1\n",
      "enter left child of 50-1\n",
      "enter right child of 50-1\n",
      "enter left child of 60-1\n",
      "enter right child of 60-1\n",
      "enter left child of 70-1\n",
      "enter right child of 70-1\n",
      "10\n",
      "20\n",
      "30\n",
      "40\n",
      "50\n",
      "60\n",
      "70\n"
     ]
    }
   ],
   "source": [
    "import queue\n",
    "def levelordertraversal(root):\n",
    "    if root:\n",
    "        q=queue.Queue()\n",
    "        print(root.data)\n",
    "        q.put(root)\n",
    "        while not(q.empty()):\n",
    "            root = q.get()\n",
    "            if root.left:\n",
    "                print(root.left.data)\n",
    "                q.put(root.left)\n",
    "            if root.right:\n",
    "                print(root.right.data)\n",
    "                q.put(root.right)\n",
    "root = createTree()            \n",
    "levelordertraversal(root)"
   ]
  },
  {
   "cell_type": "markdown",
   "metadata": {},
   "source": [
    "# generating trees from traversal"
   ]
  },
  {
   "cell_type": "code",
   "execution_count": null,
   "metadata": {},
   "outputs": [],
   "source": [
    "def createTree():\n",
    "    pass"
   ]
  },
  {
   "cell_type": "markdown",
   "metadata": {},
   "source": [
    "# Determine height of tree"
   ]
  },
  {
   "cell_type": "code",
   "execution_count": 37,
   "metadata": {},
   "outputs": [
    {
     "name": "stdout",
     "output_type": "stream",
     "text": [
      "enter root value10\n",
      "enter left child of 1020\n",
      "enter right child of 1030\n",
      "enter left child of 20-1\n",
      "enter right child of 20-1\n",
      "enter left child of 30-1\n",
      "enter right child of 30-1\n",
      "2\n"
     ]
    }
   ],
   "source": [
    "def height(root,c):\n",
    "    if root is None:\n",
    "        return 0\n",
    "#     if root.left is not(None) or root.right is  not(None):\n",
    "#         c.append(1)\n",
    "    left=height(root.left,c)\n",
    "    right=height(root.right,c)\n",
    "    if left>right:\n",
    "        return left+1\n",
    "    else:\n",
    "        return right+1\n",
    "#     return len(c)+1\n",
    "root=createTree()\n",
    "hei=height(root,[])\n",
    "print(hei)\n",
    "# 10 20 30 40 50 -1 -1 -1 -1 -1 -1\n",
    "# 3"
   ]
  },
  {
   "cell_type": "markdown",
   "metadata": {},
   "source": [
    "# counting nodes in a tree"
   ]
  },
  {
   "cell_type": "code",
   "execution_count": 35,
   "metadata": {},
   "outputs": [
    {
     "name": "stdout",
     "output_type": "stream",
     "text": [
      "enter root value10\n",
      "enter left child of 1020\n",
      "enter right child of 1030\n",
      "enter left child of 20-1\n",
      "enter right child of 20-1\n",
      "enter left child of 30-1\n",
      "enter right child of 30-1\n",
      "3\n"
     ]
    }
   ],
   "source": [
    "def countNodes(root):\n",
    "    if root:\n",
    "        return countNodes(root.left)+countNodes(root.right)+1\n",
    "    return 0\n",
    "root = createTree()\n",
    "print(countNodes(root))"
   ]
  },
  {
   "cell_type": "code",
   "execution_count": null,
   "metadata": {},
   "outputs": [],
   "source": [
    "# diffent approach for creating a tree\n",
    "def takeInput():\n",
    "    levelOrder =[int(x) for x in input().split()]\n",
    "    start=0\n",
    "    length = len(levelOrder)\n",
    "    root = BinaryTreeNode(levelOrder[start])\n",
    "    start +=1\n",
    "    q = queue.Queue()\n",
    "    q.put(root)\n",
    "    while not q.empty():\n",
    "        currentNode = q.get()\n",
    "        leftChild = levelOrder[start]\n",
    "        start +=1\n",
    "        if leftChild !=-1:\n",
    "            leftNode = BinaryTreeNode(leftChild)\n",
    "            currentNode.left = leftNode\n",
    "            q.put(leftNode)\n",
    "        rightChild = levelOrder[start]\n",
    "        start +=1\n",
    "        if rightChild != -1:\n",
    "            rightNode = BinaryTreeNode(rightChild)\n",
    "            currentNode.right = rightNode\n",
    "            q.put(rightNode)\n",
    "    return root"
   ]
  }
 ],
 "metadata": {
  "kernelspec": {
   "display_name": "Python 3",
   "language": "python",
   "name": "python3"
  },
  "language_info": {
   "codemirror_mode": {
    "name": "ipython",
    "version": 3
   },
   "file_extension": ".py",
   "mimetype": "text/x-python",
   "name": "python",
   "nbconvert_exporter": "python",
   "pygments_lexer": "ipython3",
   "version": "3.7.3"
  }
 },
 "nbformat": 4,
 "nbformat_minor": 2
}
