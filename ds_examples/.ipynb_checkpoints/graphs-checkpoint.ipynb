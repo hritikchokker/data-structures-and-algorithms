{
 "cells": [
  {
   "cell_type": "markdown",
   "metadata": {},
   "source": [
    "# breadth first search and Depth First search algorithms"
   ]
  },
  {
   "cell_type": "code",
   "execution_count": null,
   "metadata": {},
   "outputs": [],
   "source": [
    "# 1 2 3 4 5 6 elements in graph"
   ]
  },
  {
   "cell_type": "code",
   "execution_count": 46,
   "metadata": {},
   "outputs": [],
   "source": [
    "g=[[0,0,0,0,0,0,0],[0,0,1,1,0,0,0],[0,1,0,0,1,0,0],[0,1,0,0,1,0,0],[0,0,1,1,0,1,1],[0,0,0,0,1,0,0],[0,0,0,0,1,0,0]]"
   ]
  },
  {
   "cell_type": "markdown",
   "metadata": {},
   "source": [
    "# BFS"
   ]
  },
  {
   "cell_type": "code",
   "execution_count": 47,
   "metadata": {},
   "outputs": [],
   "source": [
    "import queue\n",
    "\n",
    "def BFS(g,start,n):\n",
    "    i=start\n",
    "    q = queue.Queue()\n",
    "    visited=[0]*7\n",
    "    print(i,end=\" \")\n",
    "    visited[i]=1\n",
    "    q.put(i)\n",
    "    while q.empty() is  False:\n",
    "        i=q.get()\n",
    "        for j in range(1,n):\n",
    "            if g[i][j]==1 and visited[j]==0:\n",
    "                print(j,end=\" \")\n",
    "                visited[j]=1\n",
    "                q.put(j)"
   ]
  },
  {
   "cell_type": "markdown",
   "metadata": {},
   "source": [
    "# DFS"
   ]
  },
  {
   "cell_type": "code",
   "execution_count": 48,
   "metadata": {},
   "outputs": [],
   "source": [
    "visited=[0]*7\n",
    "def DFS(g,start,n):\n",
    "    if visited[start]==0:\n",
    "        print(start,end=\" \")\n",
    "        visited[start]=1\n",
    "        for j in range(1,n):\n",
    "            if g[start][j]==1 and visited[j]==0:\n",
    "                DFS(g,j,n)"
   ]
  },
  {
   "cell_type": "code",
   "execution_count": 49,
   "metadata": {},
   "outputs": [
    {
     "name": "stdout",
     "output_type": "stream",
     "text": [
      "( 1 6 ),( 5 6 ),( 4 5 ),( 3 4 ),( 2 3 ),( 2 0 ),"
     ]
    }
   ],
   "source": [
    "import sys\n",
    "I=sys.maxsize\n",
    "cost=[[I,I,I,I,I,I,I,I],[I,I,25,I,I,I,5,I],[I,25,I,12,I,I,I,10],[I,I,12,I,8,I,I,I],[I,I,I,8,I,16,I,14],[I,I,I,I,16,I,20,18],[I,5,I,I,I,20,I,I],[I,I,10,I,14,18,I,I]]\n",
    "near=[I]*8\n",
    "t= [[ 1 for i in range(6) ] for j in range(2)]\n",
    "# res = [ [ i*j for i in range(N) ] for j in range(M) ]\n",
    "def prismAlgo():\n",
    "    n=7\n",
    "    mini=I\n",
    "    \n",
    "    for i in range(1,n):\n",
    "        for j in range(i,n):\n",
    "            if cost[i][j]<mini:\n",
    "                mini=cost[i][j]\n",
    "                u=i\n",
    "                v=j\n",
    "    t[0][0]=u\n",
    "    t[1][0]=v\n",
    "    near[u]=0\n",
    "    near[v]=0\n",
    "    for i in range(1,n):\n",
    "        if near[i] !=0:\n",
    "            if cost[i][u]<cost[i][v]:\n",
    "                near[i]=u\n",
    "            else:\n",
    "                near[i]=v            \n",
    "    for i in range(1,n-1):\n",
    "        mini=I\n",
    "        for j in range(1,n):\n",
    "            if near[j]!=0 and cost[j][near[j]]<mini:\n",
    "                k=j\n",
    "                mini=cost[j][near[j]]\n",
    "        t[0][i]=k\n",
    "        t[1][i]=near[k]\n",
    "        near[k]=0\n",
    "        for j in range(1,n):\n",
    "            if near[j]!=0 and cost[j][k]<cost[j][near[j]]:\n",
    "                near[j]=k\n",
    "    for i in range(n-1):\n",
    "        print('(', t[0][i], t[1][i],')',end=\",\")\n",
    "                \n",
    "prismAlgo()                "
   ]
  },
  {
   "cell_type": "code",
   "execution_count": null,
   "metadata": {},
   "outputs": [],
   "source": []
  },
  {
   "cell_type": "code",
   "execution_count": 5,
   "metadata": {},
   "outputs": [
    {
     "name": "stdout",
     "output_type": "stream",
     "text": [
      "1 2 3 4 5 6 "
     ]
    }
   ],
   "source": [
    "# print(g)\n",
    "BFS(g,1,7)\n",
    "# BFS(g,4,7)\n",
    "# DFS(g,1,7)\n",
    "# DFS(g,4,7)"
   ]
  }
 ],
 "metadata": {
  "kernelspec": {
   "display_name": "Python 3",
   "language": "python",
   "name": "python3"
  },
  "language_info": {
   "codemirror_mode": {
    "name": "ipython",
    "version": 3
   },
   "file_extension": ".py",
   "mimetype": "text/x-python",
   "name": "python",
   "nbconvert_exporter": "python",
   "pygments_lexer": "ipython3",
   "version": "3.7.3"
  }
 },
 "nbformat": 4,
 "nbformat_minor": 2
}
