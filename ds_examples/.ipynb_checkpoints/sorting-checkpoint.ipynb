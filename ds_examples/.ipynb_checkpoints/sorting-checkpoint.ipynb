{
 "cells": [
  {
   "cell_type": "markdown",
   "metadata": {},
   "source": [
    "Bubble Sort.\n",
    "\n",
    "Time complexity o(n^2) worst case.\n",
    "space complexity o(n)  worst case.\n",
    "\n",
    "in case list is sorted bubble sort take o(n) time.\n",
    "bubble sort can be made adaptive using a flag\n",
    "\n",
    "also bubble sort algorithm is stable, as it will preserve the state of duplicates elements"
   ]
  },
  {
   "cell_type": "code",
   "execution_count": 15,
   "metadata": {},
   "outputs": [
    {
     "name": "stdout",
     "output_type": "stream",
     "text": [
      "[1, 2, 3, 4, 5, 6, 7, 8, 10]\n"
     ]
    }
   ],
   "source": [
    "def bubbleSort(arr,n):\n",
    "    for i in range(n):\n",
    "        flag=0\n",
    "        for j in range(n-1-i):\n",
    "            if arr[j] > arr[j+1]:\n",
    "                arr[j],arr[j+1]=arr[j+1],arr[j]\n",
    "                flag=1\n",
    "        if flag == 0:\n",
    "            break\n",
    "    print(arr)\n",
    "bubbleSort([2,4,1,5,3,8,10,6,7],9)"
   ]
  },
  {
   "cell_type": "code",
   "execution_count": null,
   "metadata": {},
   "outputs": [],
   "source": []
  }
 ],
 "metadata": {
  "kernelspec": {
   "display_name": "Python 3",
   "language": "python",
   "name": "python3"
  },
  "language_info": {
   "codemirror_mode": {
    "name": "ipython",
    "version": 3
   },
   "file_extension": ".py",
   "mimetype": "text/x-python",
   "name": "python",
   "nbconvert_exporter": "python",
   "pygments_lexer": "ipython3",
   "version": "3.7.3"
  }
 },
 "nbformat": 4,
 "nbformat_minor": 2
}
