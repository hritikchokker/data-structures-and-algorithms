{
 "cells": [
  {
   "cell_type": "markdown",
   "metadata": {},
   "source": [
    "# Bubble Sort.\n",
    "\n",
    "Time complexity o(n^2) worst case.\n",
    "space complexity o(n)  worst case.\n",
    "\n",
    "in case list is sorted bubble sort take o(n) time.\n",
    "bubble sort can be made adaptive using a flag\n",
    "\n",
    "also bubble sort algorithm is stable, as it will preserve the state of duplicates elements"
   ]
  },
  {
   "cell_type": "code",
   "execution_count": 15,
   "metadata": {},
   "outputs": [
    {
     "name": "stdout",
     "output_type": "stream",
     "text": [
      "[1, 2, 3, 4, 5, 6, 7, 8, 10]\n"
     ]
    }
   ],
   "source": [
    "def bubbleSort(arr,n):\n",
    "    for i in range(n):\n",
    "        flag=0 \n",
    "        for j in range(n-1-i):\n",
    "            if arr[j] > arr[j+1]:\n",
    "                arr[j],arr[j+1]=arr[j+1],arr[j]\n",
    "                flag=1\n",
    "        if flag == 0:\n",
    "            break\n",
    "    print(arr)\n",
    "bubbleSort([2,4,1,5,3,8,10,6,7],9)"
   ]
  },
  {
   "cell_type": "markdown",
   "metadata": {},
   "source": [
    "# Insertion Sort\n",
    "\n",
    "it is designed for linked list\n",
    "\n",
    "time complexity = o(n^2)\n",
    "space complexity = o(n)\n",
    "\n",
    "insertion sort is adaptive i.e if a list is already sorted it will take o(n) time and o(1) space\n",
    "\n",
    "insertion sort is stable i.e preserve order of repeated elements"
   ]
  },
  {
   "cell_type": "code",
   "execution_count": 8,
   "metadata": {},
   "outputs": [
    {
     "name": "stdout",
     "output_type": "stream",
     "text": [
      "[1, 2, 3, 5, 7, 8]\n"
     ]
    }
   ],
   "source": [
    "def insertionSort(arr,n):\n",
    "    for i in range(1,n):\n",
    "        x=arr[i]\n",
    "        j=i-1\n",
    "        while j>-1 and arr[j]>x:\n",
    "            arr[j+1]=arr[j]\n",
    "            j=j-1\n",
    "        arr[j+1]=x\n",
    "    return arr\n",
    "print(insertionSort([8,5,7,1,3,2],6))"
   ]
  },
  {
   "cell_type": "markdown",
   "metadata": {},
   "source": [
    "# Selection Sort\n",
    "\n",
    "time complexity = o(n^2)\n",
    "space complexity = o(n)\n",
    "\n",
    "selection sort is neither adaptive nore stable\n",
    "\n",
    "#1) when an array is already sorted  = time complexity o(n^2), and space=o(n).\n",
    "#2) when array contains duplicate items, selection sort will not preserve their orders"
   ]
  },
  {
   "cell_type": "code",
   "execution_count": 14,
   "metadata": {},
   "outputs": [
    {
     "name": "stdout",
     "output_type": "stream",
     "text": [
      "[1, 2, 3, 4, 5, 6, 8]\n"
     ]
    }
   ],
   "source": [
    "def selectionSort(arr,n):\n",
    "    for i in range(n):\n",
    "        j=k=i\n",
    "        while j<n:\n",
    "            if arr[j]<arr[k]:\n",
    "                k=j\n",
    "            j=j+1\n",
    "        arr[i],arr[k]=arr[k],arr[i]\n",
    "    return arr\n",
    "print(selectionSort([8,6,1,3,2,5,4],7))"
   ]
  },
  {
   "cell_type": "markdown",
   "metadata": {},
   "source": [
    "# Quick Sort"
   ]
  },
  {
   "cell_type": "code",
   "execution_count": null,
   "metadata": {},
   "outputs": [],
   "source": [
    "def quickSort(arr,n):\n",
    "    \n",
    "    return arr\n",
    "print(quickSort([50,70,90,40,80,10,20,30],8))"
   ]
  },
  {
   "cell_type": "code",
   "execution_count": null,
   "metadata": {},
   "outputs": [],
   "source": []
  }
 ],
 "metadata": {
  "kernelspec": {
   "display_name": "Python 3",
   "language": "python",
   "name": "python3"
  },
  "language_info": {
   "codemirror_mode": {
    "name": "ipython",
    "version": 3
   },
   "file_extension": ".py",
   "mimetype": "text/x-python",
   "name": "python",
   "nbconvert_exporter": "python",
   "pygments_lexer": "ipython3",
   "version": "3.7.3"
  }
 },
 "nbformat": 4,
 "nbformat_minor": 2
}
