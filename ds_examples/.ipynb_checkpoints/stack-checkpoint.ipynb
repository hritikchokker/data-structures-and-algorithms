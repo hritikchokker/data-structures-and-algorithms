{
 "cells": [
  {
   "cell_type": "markdown",
   "metadata": {},
   "source": [
    "# Stack Implementation"
   ]
  },
  {
   "cell_type": "code",
   "execution_count": 27,
   "metadata": {},
   "outputs": [
    {
     "name": "stdout",
     "output_type": "stream",
     "text": [
      "enter the size for the stack5\n",
      "1 2 3 4 5\n",
      "5-4-3-2-1-\n",
      "5 removed\n",
      "4-3-2-1-\n"
     ]
    }
   ],
   "source": [
    "class Stack:\n",
    "    def __init__(self,size):\n",
    "        self.size=size\n",
    "        self.top=-1\n",
    "        self.st=[0]*size\n",
    "    \n",
    "    def isStackOverFlow(self):\n",
    "        return self.size -1 == self.top\n",
    "    def isEmpty(self):\n",
    "        return self.top ==-1\n",
    "    def push(self,stack,data):\n",
    "        if stack.size-1 ==stack.top:\n",
    "            print('stack overflow')\n",
    "        else:\n",
    "            stack.top+=1\n",
    "            stack.st[stack.top]=data\n",
    "            return\n",
    "    def peek(self,index):\n",
    "        x=-1\n",
    "        if self.top-index +1 <0:\n",
    "            print('invalid index')\n",
    "            return\n",
    "        x=self.st[self.top-index+1]\n",
    "        return x\n",
    "    def pop(self,stack):\n",
    "        x=-1\n",
    "        if stack.top == -1:\n",
    "            print('stack un derflow')\n",
    "        else:\n",
    "            x=stack.st[stack.top]            \n",
    "            stack.top-=1\n",
    "        return x\n",
    "    def getTop(self,stack):\n",
    "        if self.isEmpty() is False:\n",
    "            return stack[self.top]\n",
    "        else:\n",
    "            return -1\n",
    "    def displayStack(self,stack):\n",
    "        for i in range(stack.top,-1,-1):\n",
    "            print(stack.st[i],end=\"-\")\n",
    "        print()\n",
    "size=int(input('enter the size for the stack'))        \n",
    "stack=Stack(size)\n",
    "element= [int(x) for x in input().split()]\n",
    "for i in element:\n",
    "    stack.push(stack,i)\n",
    "\n",
    "stack.displayStack(stack)\n",
    "# print(stack.getTop(stack.st))\n",
    "print(stack.pop(stack),'removed')\n",
    "stack.displayStack(stack)"
   ]
  },
  {
   "cell_type": "code",
   "execution_count": 5,
   "metadata": {},
   "outputs": [
    {
     "name": "stdout",
     "output_type": "stream",
     "text": [
      "10 9 8 7 6 5 4 3 2 1 "
     ]
    }
   ],
   "source": []
  }
 ],
 "metadata": {
  "kernelspec": {
   "display_name": "Python 3",
   "language": "python",
   "name": "python3"
  },
  "language_info": {
   "codemirror_mode": {
    "name": "ipython",
    "version": 3
   },
   "file_extension": ".py",
   "mimetype": "text/x-python",
   "name": "python",
   "nbconvert_exporter": "python",
   "pygments_lexer": "ipython3",
   "version": "3.7.3"
  }
 },
 "nbformat": 4,
 "nbformat_minor": 2
}
