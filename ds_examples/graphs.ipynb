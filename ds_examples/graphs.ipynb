{
 "cells": [
  {
   "cell_type": "markdown",
   "metadata": {},
   "source": [
    "# breadth first search and Depth First search algorithms"
   ]
  },
  {
   "cell_type": "code",
   "execution_count": null,
   "metadata": {},
   "outputs": [],
   "source": [
    "# 1 2 3 4 5 6 elements in graph"
   ]
  },
  {
   "cell_type": "code",
   "execution_count": null,
   "metadata": {},
   "outputs": [],
   "source": [
    "g=[[0,0,0,0,0,0,0],[0,0,1,1,0,0,0],[0,1,0,0,1,0,0],[0,1,0,0,1,0,0],[0,0,1,1,0,1,1],[0,0,0,0,1,0,0],[0,0,0,0,1,0,0]]\n",
    "g"
   ]
  },
  {
   "cell_type": "markdown",
   "metadata": {},
   "source": [
    "# BFS"
   ]
  },
  {
   "cell_type": "code",
   "execution_count": null,
   "metadata": {},
   "outputs": [],
   "source": [
    "import queue\n",
    "\n",
    "def BFS(g,start,n):\n",
    "    i=start\n",
    "    q = queue.Queue()\n",
    "    visited=[0]*7\n",
    "    print(i,end=\" \")\n",
    "    visited[i]=1\n",
    "    q.put(i)\n",
    "    while q.empty() is  False:\n",
    "        i=q.get()\n",
    "        for j in range(1,n):\n",
    "            if g[i][j]==1 and visited[j]==0:\n",
    "                print(j,end=\" \")\n",
    "                visited[j]=1\n",
    "                q.put(j)"
   ]
  },
  {
   "cell_type": "markdown",
   "metadata": {},
   "source": [
    "# DFS"
   ]
  },
  {
   "cell_type": "code",
   "execution_count": 47,
   "metadata": {},
   "outputs": [],
   "source": [
    "visited=[0]*7\n",
    "def DFS(g,start,n):\n",
    "    if visited[start]==0:\n",
    "        print(start,end=\" \")\n",
    "        visited[start]=1\n",
    "        for j in range(1,n):\n",
    "            if g[start][j]==1 and visited[j]==0:\n",
    "                DFS(g,j,n)"
   ]
  },
  {
   "cell_type": "code",
   "execution_count": 48,
   "metadata": {},
   "outputs": [
    {
     "name": "stdout",
     "output_type": "stream",
     "text": [
      "4 2 1 3 5 6 "
     ]
    }
   ],
   "source": [
    "# print(g)\n",
    "# BFS(g,1,7)\n",
    "# BFS(g,4,7)\n",
    "# DFS(g,1,7)\n",
    "DFS(g,4,7)"
   ]
  }
 ],
 "metadata": {
  "kernelspec": {
   "display_name": "Python 3",
   "language": "python",
   "name": "python3"
  },
  "language_info": {
   "codemirror_mode": {
    "name": "ipython",
    "version": 3
   },
   "file_extension": ".py",
   "mimetype": "text/x-python",
   "name": "python",
   "nbconvert_exporter": "python",
   "pygments_lexer": "ipython3",
   "version": "3.7.3"
  }
 },
 "nbformat": 4,
 "nbformat_minor": 2
}
