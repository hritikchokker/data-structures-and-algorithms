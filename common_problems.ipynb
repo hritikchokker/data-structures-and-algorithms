{
 "cells": [
  {
   "cell_type": "raw",
   "metadata": {},
   "source": [
    "# https://www.geeksforgeeks.org/write-a-program-to-reverse-an-array-or-string/\n",
    "\n",
    "\n",
    "# reverse a array"
   ]
  },
  {
   "cell_type": "code",
   "execution_count": 24,
   "metadata": {},
   "outputs": [
    {
     "name": "stdout",
     "output_type": "stream",
     "text": [
      "1 2 3 4 5 6\n",
      "[6, 5, 4, 3, 2, 1]\n"
     ]
    }
   ],
   "source": [
    "def reverseArr(arr):\n",
    "    for i in range(0,len(arr)//2):\n",
    "        other = len(arr)-i-1\n",
    "        temp = arr[i]\n",
    "        arr[i],arr[other]=arr[other],arr[i]\n",
    "    return arr\n",
    "arr = [int(x) for x in input().split()]\n",
    "print(reverseArr(arr))"
   ]
  },
  {
   "cell_type": "raw",
   "metadata": {},
   "source": [
    "# https://www.geeksforgeeks.org/maximum-and-minimum-in-an-array/\n",
    "\n",
    "# Find Maximum and minimum in the array"
   ]
  },
  {
   "cell_type": "code",
   "execution_count": 35,
   "metadata": {},
   "outputs": [
    {
     "name": "stdout",
     "output_type": "stream",
     "text": [
      "1 2 3 4 5 6\n",
      "6 max && 1 min\n"
     ]
    }
   ],
   "source": [
    "import sys\n",
    "def findMinMax(arr:[]):\n",
    "    maximum=-sys.maxsize\n",
    "    for i in arr:\n",
    "        if i>maximum:\n",
    "            maximum = i\n",
    "    minimum = sys.maxsize\n",
    "    for i in arr:\n",
    "        if i<minimum:\n",
    "            minimum=i\n",
    "    return maximum,minimum       \n",
    "arr = [int(x) for x in input().split()]\n",
    "max,min =findMinMax(arr)\n",
    "print(max,'max','&&',min,'min')"
   ]
  },
  {
   "cell_type": "raw",
   "metadata": {},
   "source": [
    "# https://practice.geeksforgeeks.org/problems/kth-smallest-element5635/1\n",
    "\n",
    "# Kth smallest element"
   ]
  },
  {
   "cell_type": "code",
   "execution_count": null,
   "metadata": {},
   "outputs": [],
   "source": [
    "import sys\n",
    "# N = 5\n",
    "# arr[] = 7 10 4 20 15\n",
    "# K = 4\n",
    "# Output : 15\n",
    "def kthSmallest(arr:[],k):\n",
    "arr = [int(x) for x in input().split()]\n",
    "k=int(input())\n",
    "print(kthSmallest(arr,k))\n",
    "\n",
    "# def mergeSort(arr):\n",
    "    \n",
    "# def merge(arr1,arr2):\n",
    "    "
   ]
  },
  {
   "cell_type": "raw",
   "metadata": {},
   "source": [
    "# Sort an array of 0s, 1s and 2s\n",
    "\n",
    "#(https://practice.geeksforgeeks.org/problems/sort-an-array-of-0s-1s-and-2s4231/1)"
   ]
  },
  {
   "cell_type": "code",
   "execution_count": 71,
   "metadata": {},
   "outputs": [
    {
     "name": "stdout",
     "output_type": "stream",
     "text": [
      "0 2 1 2 0\n",
      "[0, 0, 1, 2, 2]\n"
     ]
    }
   ],
   "source": [
    "def sort012(arr:[]):\n",
    "    res={}\n",
    "    for i in arr:\n",
    "        res[i] = res.get(i, 0) + 1\n",
    "    zero=res[0]\n",
    "    for i in range(zero):\n",
    "        arr[i]=0\n",
    "    if 1 in res:\n",
    "        one=res[1]\n",
    "        for i in range(zero,zero+one):\n",
    "            arr[i]=1\n",
    "    if 2 in res:        \n",
    "        two=res[2]\n",
    "        for i in range(one+zero,len(arr)):\n",
    "            arr[i]=2\n",
    "    return arr\n",
    "arr=[int(x) for x in input().split()]\n",
    "print(sort012(arr))\n",
    "# 2 1 2 1 0 1 2 0\n",
    "# 0 2 1 2 1 0 1 2 2"
   ]
  },
  {
   "cell_type": "raw",
   "metadata": {},
   "source": [
    "# Move all negative numbers to beginning and positive to end with constant extra space\n",
    "# https://www.geeksforgeeks.org/move-negative-numbers-beginning-positive-end-constant-extra-space/"
   ]
  },
  {
   "cell_type": "code",
   "execution_count": 2,
   "metadata": {},
   "outputs": [
    {
     "name": "stdout",
     "output_type": "stream",
     "text": [
      "-12 11 -13 -5 6 -7 5 -3 -6\n",
      "[-12, -6, -13, -5, -3, -7, 5, 6, 11]\n"
     ]
    }
   ],
   "source": [
    "# Input: -12, 11, -13, -5, 6, -7, 5, -3, -6,9\n",
    "# Output: -12 -13 -5 -7 -3 -6 11 6 5\n",
    "def rearrange(arr):\n",
    "    i=0\n",
    "    length=len(arr)-1\n",
    "    j=length\n",
    "    while i<j:\n",
    "        if arr[i]<0 and arr[j]<0:\n",
    "            i=i+1\n",
    "        if arr[i]>0 and arr[j]<0:\n",
    "            arr[i],arr[j]=arr[j],arr[i]\n",
    "            i=i+1\n",
    "            j=j-1\n",
    "        if arr[i]<0 and arr[j]>0:\n",
    "            i=i+1\n",
    "        if arr[i]>0 and arr[j]>0:\n",
    "            i=i+1\n",
    "    return arr\n",
    "arr=[int(x) for x in input().split()]\n",
    "print(rearrange(arr))\n",
    "# -12 11 -13 -5 6 -7 5 -3 -6\n",
    "# -12 -3 -13 -5 6 -7 5 11 -6"
   ]
  },
  {
   "cell_type": "raw",
   "metadata": {},
   "source": [
    "# Union of two arrays\n",
    "# https://practice.geeksforgeeks.org/problems/union-of-two-arrays3538/1\n",
    "Input:\n",
    "5 3\n",
    "1 2 3 4 5\n",
    "1 2 3\n",
    "\n",
    "Output: \n",
    "5\n",
    "\n",
    "Input:\n",
    "6 2 \n",
    "85 25 1 32 54 6\n",
    "85 2 \n",
    "\n",
    "Output: \n",
    "7\n"
   ]
  },
  {
   "cell_type": "code",
   "execution_count": 5,
   "metadata": {},
   "outputs": [
    {
     "name": "stdout",
     "output_type": "stream",
     "text": [
      "85 25 1 32 54 6\n",
      "85 2 \n",
      "7\n"
     ]
    }
   ],
   "source": [
    "def doUnion(a,n,b,m):\n",
    "    res={}\n",
    "    for i in a:\n",
    "        res[i] = res.get(i, 0) + 1\n",
    "    for i in b:\n",
    "        res[i]=res.get(i, 0) + 1\n",
    "    count=0\n",
    "    for i in res:\n",
    "        count=count+1\n",
    "    return count\n",
    "a=[int(x)for x in input().split()]\n",
    "b=[int(x)for x in input().split()]\n",
    "print(doUnion(a,len(a),b,len(b)))\n",
    "# 1 2 3 4 5\n",
    "# 1 2 3"
   ]
  },
  {
   "cell_type": "code",
   "execution_count": null,
   "metadata": {},
   "outputs": [],
   "source": [
    "# https://practice.geeksforgeeks.org/problems/cyclically-rotate-an-array-by-one2614/1\n",
    "\n",
    "# Cyclically rotate an array by one\n",
    "# 1 2 3 4 5\n",
    "# 5 1 2 3 4"
   ]
  },
  {
   "cell_type": "code",
   "execution_count": 11,
   "metadata": {},
   "outputs": [
    {
     "name": "stdout",
     "output_type": "stream",
     "text": [
      "1 2 3 4 5\n",
      "[5, 1, 2, 3, 4]\n"
     ]
    }
   ],
   "source": [
    "def rotate( arr, n):\n",
    "    for i in range(n-1,0,-1):\n",
    "        arr[i],arr[i-1]=arr[i-1],arr[i]\n",
    "    return arr\n",
    "arr=[int(x) for x in input().split()]\n",
    "print(rotate(arr,len(arr)))\n",
    "# 1 2 3 4 5\n",
    "# 9 8 7 6 4 2 1 3\n",
    "# output : 3 9 8 7 6 4 2 1"
   ]
  },
  {
   "cell_type": "code",
   "execution_count": 45,
   "metadata": {},
   "outputs": [
    {
     "name": "stdout",
     "output_type": "stream",
     "text": [
      "9 -51 -20 -13 -51 40 -21 75 -24 29 -86 5 -38 15 48 -87 -9 42 39 64 47 -63 22 -81 -20 -100 28\n",
      "-201 sss -129 ssjdsjds\n",
      "None\n"
     ]
    }
   ],
   "source": [
    "# {1,2,3,-2,5} arr1\n",
    "# sum(1-5), 2,3,-2,5  arr2\n",
    "#  sum(1-5),sum(2-5),sum(3,5),sum(-2,5),sum(5)\n",
    "# max(sum(1-5),sum(2-5),sum(3,5),sum(-2,5),sum(5))\n",
    "#  sm.append(max(sum(i:n)))\n",
    "# max(sm)\n",
    "# if arr[len] === 1:\n",
    "#     return arr[0]\n",
    "# val = maxSubArray()\n",
    "#  if max < sum(val):\n",
    "#     max=\n",
    "#  return max\n",
    "def maxSubArraySum(arr,max=1):\n",
    "    i=1\n",
    "    prevSum=arr[0]\n",
    "    secondPrev=0\n",
    "    flag=True\n",
    "#     1 2 3 -2 5\n",
    "# prev = 1\n",
    "    while i<len(arr):\n",
    "        # 3  6 \n",
    "        if prevSum+arr[i]>prevSum and flag: # 1+ 2>1 flag= True    3+3>3 and flag=true  6+-2 >6 and false\n",
    "            prevSum= prevSum+arr[i]    #prev = 3 flag= true       pre =6 flag =true\n",
    "            flag=True\n",
    "            i=i+1\n",
    "        elif flag and prevSum+arr[i] <prevSum:\n",
    "            secondPrev = prevSum\n",
    "            prevSum=prevSum+arr[i]\n",
    "            flag=True\n",
    "            i=i+1\n",
    "        elif not(flag) and prevSum>arr[i]:\n",
    "            i=i+1\n",
    "            flag=False\n",
    "        elif not(flag) and prevSum<arr[i]:\n",
    "            prevSum=arr[i]\n",
    "        else:\n",
    "            i=i+1\n",
    "            flag=False\n",
    "    print(prevSum,'sss',secondPrev,'ssjdsjds')\n",
    "arr=[int(x) for x in input().split()]\n",
    "print(maxSubArraySum(arr))\n",
    "# 1 2 3 -2 5\n",
    "# [1,2,-100,101,101,20]\n",
    "# [1,2,-101,100,101,20]\n",
    "# 9 -51 -20 -13 -51 40 -21 75 -24 29 -86 5 -38 15 48 -87 -9 42 39 64 47 -63 22 -81 -20 -100 28"
   ]
  },
  {
   "cell_type": "code",
   "execution_count": 53,
   "metadata": {},
   "outputs": [
    {
     "name": "stdout",
     "output_type": "stream",
     "text": [
      "1 2 3 -2 5\n",
      "[1, 2, 4, 7] prev [1, 2, 3, -2, 5] arr 7\n",
      "None\n"
     ]
    }
   ],
   "source": [
    "def maxSubArraySum(arr,count=0,maximum=0):\n",
    "    prev=[arr[0]]\n",
    "    for i in range(len(arr)):\n",
    "        prevEl = prev[len(prev)-1]\n",
    "        if prevEl < (prevEl+arr[i]):\n",
    "            prev.append(prevEl+arr[i])\n",
    "        else:\n",
    "            print(prev,'prev',arr,'arr',prevEl)\n",
    "arr=[int(x) for x in input().split()]\n",
    "print(maxSubArraySum(arr))"
   ]
  },
  {
   "cell_type": "code",
   "execution_count": 20,
   "metadata": {},
   "outputs": [
    {
     "data": {
      "text/plain": [
       "5"
      ]
     },
     "execution_count": 20,
     "metadata": {},
     "output_type": "execute_result"
    }
   ],
   "source": [
    "# def arrSum(arr,sm=0,count=0):\n",
    "#     if count == len(arr):\n",
    "#         return arr[0]\n",
    "#     count=count+1\n",
    "#     print(arr,'a')\n",
    "#     arr=arr[count:len(arr)-1]\n",
    "#     sm=sm+arrSum(arr,sm,count)\n",
    "# arr=[int(x) for x in input().split()]\n",
    "# print(arrSum(arr))\n",
    "def fib(n):\n",
    "    if n<=2:\n",
    "        return 1\n",
    "    else:\n",
    "        return fib(n-1)+fib(n-2)\n",
    "def fibItr(n):\n",
    "    fib={}\n",
    "    for k in range(1,n+1):\n",
    "        if k<=2:\n",
    "            f=1\n",
    "        else:\n",
    "            f=fib[k-1]+fib[k-2]\n",
    "        fib[k]=f\n",
    "    return fib[n]\n",
    "fibItr(5)"
   ]
  }
 ],
 "metadata": {
  "kernelspec": {
   "display_name": "Python 3",
   "language": "python",
   "name": "python3"
  },
  "language_info": {
   "codemirror_mode": {
    "name": "ipython",
    "version": 3
   },
   "file_extension": ".py",
   "mimetype": "text/x-python",
   "name": "python",
   "nbconvert_exporter": "python",
   "pygments_lexer": "ipython3",
   "version": "3.7.3"
  }
 },
 "nbformat": 4,
 "nbformat_minor": 2
}
