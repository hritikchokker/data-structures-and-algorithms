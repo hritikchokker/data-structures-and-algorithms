{
 "cells": [
  {
   "cell_type": "markdown",
   "metadata": {},
   "source": [
    "# Level order traversal \n",
    "\n",
    "Example 1:\n",
    "\n",
    "Input:\n",
    "    1\n",
    "  /   \\ \n",
    " 3     2\n",
    "Output:1 3 2\n",
    "\n",
    "Example 2:\n",
    "\n",
    "Input:\n",
    "        10\n",
    "     /      \\\n",
    "    20       30\n",
    "  /   \\\n",
    " 40   60\n",
    "Output:10 20 30 40 60 N N\n"
   ]
  },
  {
   "cell_type": "code",
   "execution_count": 2,
   "metadata": {},
   "outputs": [],
   "source": [
    "class Solution:\n",
    "    #Function to return the level order traversal of a tree.\n",
    "    def levelOrder(self,root ):\n",
    "        pass\n",
    "sol = Solution()\n"
   ]
  }
 ],
 "metadata": {
  "kernelspec": {
   "display_name": "Python 3",
   "language": "python",
   "name": "python3"
  },
  "language_info": {
   "codemirror_mode": {
    "name": "ipython",
    "version": 3
   },
   "file_extension": ".py",
   "mimetype": "text/x-python",
   "name": "python",
   "nbconvert_exporter": "python",
   "pygments_lexer": "ipython3",
   "version": "3.7.3"
  }
 },
 "nbformat": 4,
 "nbformat_minor": 2
}
