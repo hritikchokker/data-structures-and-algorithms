{
 "cells": [
  {
   "cell_type": "markdown",
   "metadata": {},
   "source": [
    "# Spirally traversing a matrix \n",
    "Given a matrix of size r*c. Traverse the matrix in spiral form.\n",
    "\n",
    "Example 1:\n",
    "\n",
    "Input:\n",
    "r = 4, c = 4\n",
    "matrix[][] = {{1, 2, 3, 4},\n",
    "           {5, 6, 7, 8},\n",
    "           {9, 10, 11, 12},\n",
    "           {13, 14, 15,16}}\n",
    "Output: \n",
    "1 2 3 4 8 12 16 15 14 13 9 5 6 7 11 10\n",
    "Explanation:\n",
    "\n",
    "Example 2:\n",
    "\n",
    "Input:\n",
    "r = 3, c = 4  \n",
    "matrix[][] = {{1, 2, 3, 4},\n",
    "           {5, 6, 7, 8},\n",
    "           {9, 10, 11, 12}}\n",
    "Output: \n",
    "1 2 3 4 8 12 11 10 9 5 6 7\n",
    "Explanation:\n",
    "Applying same technique as shown above, \n",
    "output for the 2nd testcase will be \n",
    "1 2 3 4 8 12 11 10 9 5 6 7.\n"
   ]
  },
  {
   "cell_type": "code",
   "execution_count": 3,
   "metadata": {},
   "outputs": [
    {
     "name": "stdout",
     "output_type": "stream",
     "text": [
      "None\n"
     ]
    }
   ],
   "source": [
    "class Solution:\n",
    "    def spirallyTraverse(self,matrix, r, c): \n",
    "        pass\n",
    "    \n",
    "sol=Solution()    \n",
    "print(sol.spirallyTraverse([[1, 2, 3, 4],[5, 6, 7, 8],[9, 10, 11, 12],[13, 14, 15,16]],4,4))"
   ]
  }
 ],
 "metadata": {
  "kernelspec": {
   "display_name": "Python 3",
   "language": "python",
   "name": "python3"
  },
  "language_info": {
   "codemirror_mode": {
    "name": "ipython",
    "version": 3
   },
   "file_extension": ".py",
   "mimetype": "text/x-python",
   "name": "python",
   "nbconvert_exporter": "python",
   "pygments_lexer": "ipython3",
   "version": "3.7.3"
  }
 },
 "nbformat": 4,
 "nbformat_minor": 2
}
