{
 "cells": [
  {
   "cell_type": "markdown",
   "metadata": {},
   "source": [
    "# Spirally traversing a matrix \n",
    "Given a matrix of size r*c. Traverse the matrix in spiral form.\n",
    "\n",
    "Example 1:\n",
    "\n",
    "Input:\n",
    "r = 4, c = 4\n",
    "matrix[][] = {{1, 2, 3, 4},\n",
    "           {5, 6, 7, 8},\n",
    "           {9, 10, 11, 12},\n",
    "           {13, 14, 15,16}}\n",
    "Output: \n",
    "1 2 3 4 8 12 16 15 14 13 9 5 6 7 11 10\n",
    "Explanation:\n",
    "\n",
    "Example 2:\n",
    "\n",
    "Input:\n",
    "r = 3, c = 4  \n",
    "matrix[][] = {{1, 2, 3, 4},\n",
    "           {5, 6, 7, 8},\n",
    "           {9, 10, 11, 12}}\n",
    "Output: \n",
    "1 2 3 4 8 12 11 10 9 5 6 7\n",
    "Explanation:\n",
    "Applying same technique as shown above, \n",
    "output for the 2nd testcase will be \n",
    "1 2 3 4 8 12 11 10 9 5 6 7.\n"
   ]
  },
  {
   "cell_type": "code",
   "execution_count": 15,
   "metadata": {},
   "outputs": [
    {
     "name": "stdout",
     "output_type": "stream",
     "text": [
      "1 2 3 4 8 12 16 15 14 13 9 5 6 7 11 10 \n"
     ]
    }
   ],
   "source": [
    "class Solution:\n",
    "    def spirallyTraverse(self,matrix, m, n): \n",
    "        l=0\n",
    "        k=0\n",
    "        \"\"\"\n",
    "        k - starting row index\n",
    "        m - ending row index\n",
    "        l - starting column index\n",
    "        n - ending column index\n",
    "        i - iterator\n",
    "        \"\"\"\n",
    "        while k<m and l<n:\n",
    "            for i in range(l,n):\n",
    "                print(matrix[k][i],end=\" \")\n",
    "            k+=1\n",
    "            for i in range(k,m):\n",
    "                print(matrix[i][n-1],end=\" \")\n",
    "            n-=1\n",
    "            if k<m:\n",
    "                for i in range(n-1,l-1,-1):\n",
    "                    print(matrix[m-1][i],end=\" \")\n",
    "                m-=1\n",
    "            if (l < n):\n",
    "                for i in range(m - 1, k - 1, -1):\n",
    "                    print(matrix[i][l], end=\" \")\n",
    "                l += 1\n",
    "        return ''\n",
    "        \n",
    "sol=Solution()    \n",
    "print(sol.spirallyTraverse([[1, 2, 3, 4],[5, 6, 7, 8],[9, 10, 11, 12],[13, 14, 15,16]],4,4))\n",
    "# [[1, 2, 3, 4]\n",
    "# [5, 6, 7, 8],\n",
    "# [9, 10, 11, 12],\n",
    "# [13, 14, 15,16]"
   ]
  },
  {
   "cell_type": "markdown",
   "metadata": {},
   "source": [
    "# Row with max 1s\n",
    "Given a boolean 2D array of n x m dimensions where each row is sorted. Find the 0-based index of the first row that has the maximum number of 1's.\n",
    "\n",
    "Example 1:\n",
    "\n",
    "Input: \n",
    "N = 4 , M = 4\n",
    "Arr[][] = {{0, 1, 1, 1},\n",
    "           {0, 0, 1, 1},\n",
    "           {1, 1, 1, 1},\n",
    "           {0, 0, 0, 0}}\n",
    "Output: 2\n",
    "Explanation: Row 2 contains 4 1's (0-based\n",
    "indexing).\n",
    "\n",
    "\n",
    "Example 2:\n",
    "\n",
    "Input: \n",
    "N = 2, M = 2\n",
    "Arr[][] = {{0, 0}, {1, 1}}\n",
    "Output: 1\n",
    "Explanation: Row 1 contains 2 1's (0-based\n",
    "indexing).\n"
   ]
  },
  {
   "cell_type": "code",
   "execution_count": 6,
   "metadata": {},
   "outputs": [
    {
     "name": "stdout",
     "output_type": "stream",
     "text": [
      "2\n",
      "1\n",
      "1\n"
     ]
    }
   ],
   "source": [
    "class Solution:\n",
    "    def rowWithMax1s(self,arr, n, m):\n",
    "        max_count=0\n",
    "        index=-1\n",
    "        for i in range(len(arr)):\n",
    "            curr_max=0\n",
    "            for j in arr[i]:\n",
    "                curr_max = max(curr_max,curr_max+j)\n",
    "            if curr_max > max_count:\n",
    "                max_count =curr_max\n",
    "                index=i\n",
    "        return index\n",
    "    def rowWithMax1sOptimised(self,arr, n, m):\n",
    "        max_count=0\n",
    "        index=-1\n",
    "        max_sum=0\n",
    "        for i in range(len(arr)):\n",
    "            if max_sum < sum(arr[i]):\n",
    "                index=i\n",
    "            max_sum = max(max_sum,sum(arr[i]))\n",
    "        return index    \n",
    "sol=Solution()    \n",
    "print(sol.rowWithMax1sOptimised([[0, 1, 1, 1],[0, 0, 1, 1],[1, 1, 1, 1],[0, 0, 0, 0]],4,4)) # 2\n",
    "print(sol.rowWithMax1sOptimised([[0,0],[1,1]],2,2)) # 1\n",
    "print(sol.rowWithMax1sOptimised([[0,0,0],[1,1,1],[1,1,1],[0,0,0],[0,1,1],[1,1,1],[0,0,0],[0,1,1],[1,1,1]],3,9))# 1"
   ]
  },
  {
   "cell_type": "markdown",
   "metadata": {},
   "source": [
    "# Median in a row-wise sorted Matrix \n",
    "Given a row wise sorted matrix of size RxC where R and C are always odd, find the median of the matrix\n",
    "Example 1:\n",
    "\n",
    "Input:\n",
    "R = 3, C = 3\n",
    "M = [[1, 3, 5], \n",
    "     [2, 6, 9], \n",
    "     [3, 6, 9]]\n",
    "\n",
    "Output: 5\n",
    "\n",
    "Explanation:\n",
    "Sorting matrix elements gives us \n",
    "{1,2,3,3,5,6,6,9,9}. Hence, 5 is median. \n",
    "\n",
    " \n",
    "\n",
    "Example 2:\n",
    "\n",
    "Input:\n",
    "R = 3, C = 1\n",
    "M = [[1], [2], [3]]\n",
    "Output: 2\n"
   ]
  },
  {
   "cell_type": "code",
   "execution_count": 71,
   "metadata": {},
   "outputs": [
    {
     "name": "stdout",
     "output_type": "stream",
     "text": [
      "5\n"
     ]
    }
   ],
   "source": [
    "class Solution:\n",
    "    def median(self, matrix, r, c):\n",
    "        arr=[]\n",
    "        for i in range(r):\n",
    "            for j in matrix[i]:\n",
    "                arr.append(j)\n",
    "        \n",
    "        arr.sort()\n",
    "        return arr[len(arr)//2]\n",
    "\n",
    "sol= Solution()    \n",
    "print(sol.median([[1, 3, 5],[2, 6, 9],[3, 6, 9]],3,3))"
   ]
  },
  {
   "cell_type": "markdown",
   "metadata": {},
   "source": [
    "# Sorted matrix \n",
    "Given an NxN matrix Mat. Sort all elements of the matrix.\n",
    "\n",
    "Example 1:\n",
    "\n",
    "Input:\n",
    "N=4\n",
    "Mat=[[10,20,30,40],\n",
    "[15,25,35,45] \n",
    "[27,29,37,48] \n",
    "[32,33,39,50]]\n",
    "Output:\n",
    "10 15 20 25 \n",
    "27 29 30 32\n",
    "33 35 37 39\n",
    "40 45 48 50\n",
    "Explanation:\n",
    "Sorting the matrix gives this result.\n",
    "\n",
    "Example 2:\n",
    "\n",
    "Input:\n",
    "N=3\n",
    "Mat=[[1,5,3],[2,8,7],[4,6,9]]\n",
    "Output:\n",
    "1 2 3 \n",
    "4 5 6\n",
    "7 8 9\n",
    "Explanation:\n",
    "Sorting the matrix gives this result."
   ]
  },
  {
   "cell_type": "code",
   "execution_count": 102,
   "metadata": {},
   "outputs": [
    {
     "name": "stdout",
     "output_type": "stream",
     "text": [
      "[[1, 2, 3], [4, 5, 6], [7, 8, 9]]\n",
      "[[10, 15, 20, 25], [27, 29, 30, 32], [33, 35, 37, 39], [40, 45, 48, 50]]\n"
     ]
    }
   ],
   "source": [
    "class Solution:\n",
    "    def sortedMatrix(self,r,matrix):\n",
    "        arr=[]\n",
    "        for i in range(r):\n",
    "            for j in matrix[i]:\n",
    "                arr.append(j)\n",
    "        arr.sort()\n",
    "        matrix=[[] for i in range (r)]\n",
    "        count=0\n",
    "        for i in range(len(matrix)):\n",
    "            matrix[i]=arr[count:r+count]\n",
    "            count +=r\n",
    "        return matrix\n",
    "        \n",
    "sol = Solution()\n",
    "print(sol.sortedMatrix(3,[[1,5,3],[2,8,7],[4,6,9]]))\n",
    "print(sol.sortedMatrix(4,[[10,15,20,25],[27,29,30,32],[33,35,37,39],[40,45,48,50]]))"
   ]
  },
  {
   "cell_type": "markdown",
   "metadata": {},
   "source": [
    "# Max rectangle\n",
    "Given a binary matrix. Find the maximum area of a rectangle formed only of 1s in the given matrix.\n",
    "\n",
    "Example 1:\n",
    "\n",
    "Input:\n",
    "n = 4, m = 4\n",
    "M[][] = {{0 1 1 0},\n",
    "         {1 1 1 1},\n",
    "         {1 1 1 1},\n",
    "         {1 1 0 0}}\n",
    "Output: 8\n",
    "Explanation: For the above test case the\n",
    "matrix will look like\n",
    "0 1 1 0\n",
    "1 1 1 1\n",
    "1 1 1 1\n",
    "1 1 0 0\n",
    "the max size rectangle is \n",
    "1 1 1 1\n",
    "1 1 1 1\n",
    "and area is 4 *2 = 8."
   ]
  },
  {
   "cell_type": "code",
   "execution_count": null,
   "metadata": {},
   "outputs": [],
   "source": [
    "class Solution:\n",
    "    def maxArea(self,matrix, n, m):\n",
    "        pass\n",
    "    \n",
    "sol = Solution()    \n",
    "print(sol.maxArea([[0 1 1 0],[1 1 1 1],[1 1 1 1],[1 1 0 0]],4,4))\n"
   ]
  }
 ],
 "metadata": {
  "kernelspec": {
   "display_name": "Python 3",
   "language": "python",
   "name": "python3"
  },
  "language_info": {
   "codemirror_mode": {
    "name": "ipython",
    "version": 3
   },
   "file_extension": ".py",
   "mimetype": "text/x-python",
   "name": "python",
   "nbconvert_exporter": "python",
   "pygments_lexer": "ipython3",
   "version": "3.7.3"
  }
 },
 "nbformat": 4,
 "nbformat_minor": 2
}
