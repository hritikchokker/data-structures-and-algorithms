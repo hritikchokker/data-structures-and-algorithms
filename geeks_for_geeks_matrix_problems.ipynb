{
 "cells": [
  {
   "cell_type": "markdown",
   "metadata": {},
   "source": [
    "# Spirally traversing a matrix \n",
    "Given a matrix of size r*c. Traverse the matrix in spiral form.\n",
    "\n",
    "Example 1:\n",
    "\n",
    "Input:\n",
    "r = 4, c = 4\n",
    "matrix[][] = {{1, 2, 3, 4},\n",
    "           {5, 6, 7, 8},\n",
    "           {9, 10, 11, 12},\n",
    "           {13, 14, 15,16}}\n",
    "Output: \n",
    "1 2 3 4 8 12 16 15 14 13 9 5 6 7 11 10\n",
    "Explanation:\n",
    "\n",
    "Example 2:\n",
    "\n",
    "Input:\n",
    "r = 3, c = 4  \n",
    "matrix[][] = {{1, 2, 3, 4},\n",
    "           {5, 6, 7, 8},\n",
    "           {9, 10, 11, 12}}\n",
    "Output: \n",
    "1 2 3 4 8 12 11 10 9 5 6 7\n",
    "Explanation:\n",
    "Applying same technique as shown above, \n",
    "output for the 2nd testcase will be \n",
    "1 2 3 4 8 12 11 10 9 5 6 7.\n"
   ]
  },
  {
   "cell_type": "code",
   "execution_count": 15,
   "metadata": {},
   "outputs": [
    {
     "name": "stdout",
     "output_type": "stream",
     "text": [
      "1 2 3 4 8 12 16 15 14 13 9 5 6 7 11 10 \n"
     ]
    }
   ],
   "source": [
    "class Solution:\n",
    "    def spirallyTraverse(self,matrix, m, n): \n",
    "        l=0\n",
    "        k=0\n",
    "        \"\"\"\n",
    "        k - starting row index\n",
    "        m - ending row index\n",
    "        l - starting column index\n",
    "        n - ending column index\n",
    "        i - iterator\n",
    "        \"\"\"\n",
    "        while k<m and l<n:\n",
    "            for i in range(l,n):\n",
    "                print(matrix[k][i],end=\" \")\n",
    "            k+=1\n",
    "            for i in range(k,m):\n",
    "                print(matrix[i][n-1],end=\" \")\n",
    "            n-=1\n",
    "            if k<m:\n",
    "                for i in range(n-1,l-1,-1):\n",
    "                    print(matrix[m-1][i],end=\" \")\n",
    "                m-=1\n",
    "            if (l < n):\n",
    "                for i in range(m - 1, k - 1, -1):\n",
    "                    print(matrix[i][l], end=\" \")\n",
    "                l += 1\n",
    "        return ''\n",
    "        \n",
    "sol=Solution()    \n",
    "print(sol.spirallyTraverse([[1, 2, 3, 4],[5, 6, 7, 8],[9, 10, 11, 12],[13, 14, 15,16]],4,4))\n",
    "# [[1, 2, 3, 4]\n",
    "# [5, 6, 7, 8],\n",
    "# [9, 10, 11, 12],\n",
    "# [13, 14, 15,16]"
   ]
  },
  {
   "cell_type": "markdown",
   "metadata": {},
   "source": [
    "# Row with max 1s\n",
    "Given a boolean 2D array of n x m dimensions where each row is sorted. Find the 0-based index of the first row that has the maximum number of 1's.\n",
    "\n",
    "Example 1:\n",
    "\n",
    "Input: \n",
    "N = 4 , M = 4\n",
    "Arr[][] = {{0, 1, 1, 1},\n",
    "           {0, 0, 1, 1},\n",
    "           {1, 1, 1, 1},\n",
    "           {0, 0, 0, 0}}\n",
    "Output: 2\n",
    "Explanation: Row 2 contains 4 1's (0-based\n",
    "indexing).\n",
    "\n",
    "\n",
    "Example 2:\n",
    "\n",
    "Input: \n",
    "N = 2, M = 2\n",
    "Arr[][] = {{0, 0}, {1, 1}}\n",
    "Output: 1\n",
    "Explanation: Row 1 contains 2 1's (0-based\n",
    "indexing).\n"
   ]
  },
  {
   "cell_type": "code",
   "execution_count": 6,
   "metadata": {},
   "outputs": [
    {
     "name": "stdout",
     "output_type": "stream",
     "text": [
      "2\n",
      "1\n",
      "1\n"
     ]
    }
   ],
   "source": [
    "class Solution:\n",
    "    def rowWithMax1s(self,arr, n, m):\n",
    "        max_count=0\n",
    "        index=-1\n",
    "        for i in range(len(arr)):\n",
    "            curr_max=0\n",
    "            for j in arr[i]:\n",
    "                curr_max = max(curr_max,curr_max+j)\n",
    "            if curr_max > max_count:\n",
    "                max_count =curr_max\n",
    "                index=i\n",
    "        return index\n",
    "    def rowWithMax1sOptimised(self,arr, n, m):\n",
    "        max_count=0\n",
    "        index=-1\n",
    "        max_sum=0\n",
    "        for i in range(len(arr)):\n",
    "            if max_sum < sum(arr[i]):\n",
    "                index=i\n",
    "            max_sum = max(max_sum,sum(arr[i]))\n",
    "        return index    \n",
    "sol=Solution()    \n",
    "print(sol.rowWithMax1sOptimised([[0, 1, 1, 1],[0, 0, 1, 1],[1, 1, 1, 1],[0, 0, 0, 0]],4,4)) # 2\n",
    "print(sol.rowWithMax1sOptimised([[0,0],[1,1]],2,2)) # 1\n",
    "print(sol.rowWithMax1sOptimised([[0,0,0],[1,1,1],[1,1,1],[0,0,0],[0,1,1],[1,1,1],[0,0,0],[0,1,1],[1,1,1]],3,9))# 1"
   ]
  },
  {
   "cell_type": "markdown",
   "metadata": {},
   "source": [
    "# Median in a row-wise sorted Matrix \n",
    "Given a row wise sorted matrix of size RxC where R and C are always odd, find the median of the matrix\n",
    "Example 1:\n",
    "\n",
    "Input:\n",
    "R = 3, C = 3\n",
    "M = [[1, 3, 5], \n",
    "     [2, 6, 9], \n",
    "     [3, 6, 9]]\n",
    "\n",
    "Output: 5\n",
    "\n",
    "Explanation:\n",
    "Sorting matrix elements gives us \n",
    "{1,2,3,3,5,6,6,9,9}. Hence, 5 is median. \n",
    "\n",
    " \n",
    "\n",
    "Example 2:\n",
    "\n",
    "Input:\n",
    "R = 3, C = 1\n",
    "M = [[1], [2], [3]]\n",
    "Output: 2\n"
   ]
  },
  {
   "cell_type": "code",
   "execution_count": 14,
   "metadata": {},
   "outputs": [
    {
     "name": "stdout",
     "output_type": "stream",
     "text": [
      "1 iii jjj 3 iii jjj 5 iii jjj 2 iii jjj 6 iii jjj 9 iii jjj 3 iii jjj 6 iii jjj 9 iii jjj None\n"
     ]
    }
   ],
   "source": [
    "class Solution:\n",
    "    def median(self, matrix, r, c):\n",
    "        for i in range(r):\n",
    "            for j in range(c):\n",
    "                matrix[i].sort()\n",
    "                matrix[j].sort()\n",
    "                k=0\n",
    "                p=0\n",
    "                q=0\n",
    "                while k < len(matrix[i]) and k< len(matrix[j]):\n",
    "                    if matrix[i][j]<matrix[p][q]:\n",
    "                    p=p+1\n",
    "                    q=q+1\n",
    "                print(matrix[i][j],'iii','jjj',end=\" \")\n",
    "sol= Solution()    \n",
    "print(sol.median([[1, 3, 5],[2, 6, 9],[3, 6, 9]],3,3))\n"
   ]
  }
 ],
 "metadata": {
  "kernelspec": {
   "display_name": "Python 3",
   "language": "python",
   "name": "python3"
  },
  "language_info": {
   "codemirror_mode": {
    "name": "ipython",
    "version": 3
   },
   "file_extension": ".py",
   "mimetype": "text/x-python",
   "name": "python",
   "nbconvert_exporter": "python",
   "pygments_lexer": "ipython3",
   "version": "3.7.3"
  }
 },
 "nbformat": 4,
 "nbformat_minor": 2
}
