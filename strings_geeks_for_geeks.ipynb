{
 "cells": [
  {
   "cell_type": "markdown",
   "metadata": {},
   "source": [
    "# Palindrome String \n",
    "\n",
    "Given a string S, check if it is palindrome or not.\n",
    "\n",
    "Example 1:\n",
    "\n",
    "Input: S = \"abba\"\n",
    "Output: 1\n",
    "Explanation: S is a palindrome\n",
    "\n",
    "Example 2:\n",
    "\n",
    "Input: S = \"abc\" \n",
    "Output: 0\n",
    "Explanation: S is not a palindrome\n"
   ]
  },
  {
   "cell_type": "code",
   "execution_count": 2,
   "metadata": {},
   "outputs": [
    {
     "name": "stdout",
     "output_type": "stream",
     "text": [
      "1\n"
     ]
    }
   ],
   "source": [
    "class Solution:\n",
    "    def isPlaindrome(self, s):\n",
    "        isPalindrome=False\n",
    "        n=len(s)\n",
    "        i=0\n",
    "        j=n-1\n",
    "        s=list(s)\n",
    "        while i<j:\n",
    "            if s[i] != s[j]:\n",
    "                return 0\n",
    "            i +=1\n",
    "            j -=1\n",
    "        return 1\n",
    "sol=Solution()    \n",
    "print(sol.isPlaindrome('abba'))"
   ]
  },
  {
   "cell_type": "markdown",
   "metadata": {},
   "source": [
    "# Print all the duplicates in the input string\n",
    "Write an efficient program to print all the duplicates and their counts in the input string\n",
    "\n",
    "string=geeksforgeeks"
   ]
  },
  {
   "cell_type": "code",
   "execution_count": 8,
   "metadata": {},
   "outputs": [
    {
     "name": "stdout",
     "output_type": "stream",
     "text": [
      "g repeated 2\n",
      "e repeated 4\n",
      "k repeated 2\n",
      "s repeated 2\n",
      "total repeated count 4\n"
     ]
    }
   ],
   "source": [
    "def printDuplicate(s):\n",
    "    obj={}\n",
    "    for i in s:\n",
    "        obj[i] =obj.get(i,0)+1\n",
    "    count=0\n",
    "    for i in obj:\n",
    "        if obj[i]>1:\n",
    "            print(i,'repeated',obj[i])\n",
    "            count+=1\n",
    "    print('total repeated count',count)\n",
    "\n",
    "printDuplicate('geeksforgeeks')"
   ]
  },
  {
   "cell_type": "markdown",
   "metadata": {},
   "source": [
    "# A Program to check if strings are rotations of each other or not\n",
    "\n",
    "Given a string s1 and a string s2, write a snippet to say whether s2 is a rotation of s1?\n",
    "(eg given s1 = ABCD and s2 = CDAB, return true, given s1 = ABCD, and s2 = ACBD , return false)\n",
    "\n",
    "\n"
   ]
  },
  {
   "cell_type": "code",
   "execution_count": 3,
   "metadata": {},
   "outputs": [
    {
     "name": "stdout",
     "output_type": "stream",
     "text": [
      "True\n",
      "True\n"
     ]
    }
   ],
   "source": [
    "def areRotations(str1, str2):\n",
    "    if len(strt1) != len(str2):\n",
    "        return False\n",
    "    temp=str1+str2\n",
    "    return True if str2 in temp else False\n",
    "print(areRotations('ABCD','CDAB'))\n",
    "print(areRotations('AACD','ACDA'))"
   ]
  },
  {
   "cell_type": "markdown",
   "metadata": {},
   "source": [
    "# Longest Palindrome in a String \n",
    "\n",
    "Given a string S, find the longest palindromic substring in S. Substring of string S: S[ i . . . . j ] where 0 ≤ i ≤ j < len(S). Palindrome string: A string which reads the same backwards. More formally, S is palindrome if reverse(S) = S. Incase of conflict, return the substring which occurs first ( with the least starting index).\n",
    "\n",
    "\n",
    "Example 1:\n",
    "\n",
    "Input:\n",
    "S = \"aaaabbaa\"\n",
    "Output: aabbaa\n",
    "Explanation: The longest Palindromic\n",
    "substring is \"aabbaa\".\n",
    "\n",
    "Example 2:\n",
    "\n",
    "Input: \n",
    "S = \"abc\"\n",
    "Output: a\n",
    "Explanation: \"a\", \"b\" and \"c\" are the \n",
    "longest palindromes with same length.\n",
    "The result is the one with the least\n",
    "starting index.\n"
   ]
  },
  {
   "cell_type": "code",
   "execution_count": 5,
   "metadata": {},
   "outputs": [
    {
     "name": "stdout",
     "output_type": "stream",
     "text": [
      "aabbaa\n",
      "a\n"
     ]
    }
   ],
   "source": [
    "class Solution:\n",
    "    def expand(self,s,low,high):\n",
    "        length = len(s)\n",
    "        while low >=0 and high < length and s[low] == s[high]:\n",
    "            low -=1\n",
    "            high +=1\n",
    "        return s[low+1:high]\n",
    "    def longestPalin(self,s):\n",
    "        max_len=0\n",
    "        max_str=''\n",
    "        for i in range(len(s)):\n",
    "            curr_str = self.expand(s,i,i)\n",
    "            curr_len = len(curr_str)\n",
    "            if max_len < curr_len:\n",
    "                max_len = curr_len\n",
    "                max_str = curr_str\n",
    "            curr_str = self.expand(s,i,i+1)\n",
    "            curr_len = len(curr_str)\n",
    "            if max_len < curr_len:\n",
    "                max_len = curr_len\n",
    "                max_str = curr_str\n",
    "        return max_str\n",
    "    \n",
    "sol=Solution()\n",
    "print(sol.longestPalin('aaaabbaa')) # aabbaa\n",
    "print(sol.longestPalin('abc'))"
   ]
  },
  {
   "cell_type": "markdown",
   "metadata": {},
   "source": [
    "# Longest Repeating Subsequence\n",
    "\n",
    "Given a string, find the length of the longest repeating subsequence such that the two subsequences don't have same string character at the same position, i.e., any i'th character in the two subsequences shouldn't have the same index in the original string.\n",
    "\n",
    " \n",
    "\n",
    "Example 1:\n",
    "\n",
    "Input: str = \"axxxy\"\n",
    "Output: 2\n",
    "Explanation: The longest repeating subsequenece\n",
    "is \"xx\".\n",
    "\n",
    "Example 2:\n",
    "\n",
    "Input: str = \"aab\"\n",
    "output: 1\n",
    "Explanation: The longest reapting subsequenece\n",
    "is \"a\".\n"
   ]
  },
  {
   "cell_type": "code",
   "execution_count": 8,
   "metadata": {},
   "outputs": [
    {
     "data": {
      "text/plain": [
       "3"
      ]
     },
     "execution_count": 8,
     "metadata": {},
     "output_type": "execute_result"
    }
   ],
   "source": [
    "class Solution:\n",
    "    def LongestRepeatingSubsequence(self, s):\n",
    "        m=len(s)\n",
    "        table=[[0]*(m+1) for i in range(m+1)]\n",
    "        for i in range(1,m+1):\n",
    "            for j in range(1,m+1):\n",
    "                if i == 0 or j ==0:\n",
    "                    table[i][j]=0\n",
    "                elif s[i-1] == s[j-1] and i!=j:\n",
    "                    table[i][j]= table[i-1][j-1]+1\n",
    "                else:\n",
    "                    table[i][j]= max(table[i][j-1],table[i-1][j])\n",
    "        return table[m][m]    \n",
    "sol = Solution()    \n",
    "# sol.LongestRepeatingSubsequence('axxxy') # 2\n",
    "sol.LongestRepeatingSubsequence('AABEBCDD') # 3\n",
    "# sol.LongestRepeatingSubsequence('yihfrhtriv') # 2\n",
    "# sol.LongestRepeatingSubsequence('agcsorvauz') # 1;"
   ]
  }
 ],
 "metadata": {
  "kernelspec": {
   "display_name": "Python 3",
   "language": "python",
   "name": "python3"
  },
  "language_info": {
   "codemirror_mode": {
    "name": "ipython",
    "version": 3
   },
   "file_extension": ".py",
   "mimetype": "text/x-python",
   "name": "python",
   "nbconvert_exporter": "python",
   "pygments_lexer": "ipython3",
   "version": "3.7.3"
  }
 },
 "nbformat": 4,
 "nbformat_minor": 2
}
