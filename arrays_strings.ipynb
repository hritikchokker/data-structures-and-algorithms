{
 "cells": [
  {
   "cell_type": "code",
   "execution_count": null,
   "metadata": {},
   "outputs": [],
   "source": [
    "# Is Unique:\t\" Implement an algorithm to determine if a string has all unique characters. What if you\n",
    "# cannot use additional data structures?\"\n",
    "# https://www.geeksforgeeks.org/determine-string-unique-characters/\n",
    "# example: \n",
    "# Input : abcd10jk\n",
    "# Output : true\n",
    "\n",
    "# Input : hutg9mnd!nk9\n",
    "# Output : false"
   ]
  },
  {
   "cell_type": "code",
   "execution_count": 25,
   "metadata": {},
   "outputs": [
    {
     "name": "stdout",
     "output_type": "stream",
     "text": [
      "abcd10jk\n"
     ]
    },
    {
     "data": {
      "text/plain": [
       "False"
      ]
     },
     "execution_count": 25,
     "metadata": {},
     "output_type": "execute_result"
    }
   ],
   "source": [
    "\"\"\"\n",
    "    isUnique map uses hashmap to find is string unique or not\n",
    "    \n",
    "    time complexity = o(n)\n",
    "    space complexity =o(n)\n",
    "\"\"\"\n",
    "def isUniqueMap(string):\n",
    "    dic={}\n",
    "    for i in range(len(string)):\n",
    "        dic[i]=dic.get(string[i],0)+1\n",
    "    for i in dic:\n",
    "        if dic[i] >1:\n",
    "            return True\n",
    "    return False\n",
    "\n",
    "def isUniqueOptimized(string):\n",
    "    return string\n",
    "\n",
    "\n",
    "string=input()\n",
    "# isUniqueMap(string)"
   ]
  },
  {
   "cell_type": "code",
   "execution_count": 23,
   "metadata": {},
   "outputs": [
    {
     "data": {
      "text/plain": [
       "4"
      ]
     },
     "execution_count": 23,
     "metadata": {},
     "output_type": "execute_result"
    }
   ],
   "source": [
    "# Check if two strings are permutation of each other\n",
    "# https://www.geeksforgeeks.org/check-if-two-strings-are-permutation-of-each-other/\n",
    "\n",
    "# example\n",
    "#     str1 = \"test\"\n",
    "#     str2 = \"ttew\"\n",
    "#  output  No"
   ]
  },
  {
   "cell_type": "code",
   "execution_count": 54,
   "metadata": {},
   "outputs": [
    {
     "name": "stdout",
     "output_type": "stream",
     "text": [
      "enter string 1nitin\n",
      "enter string 2nitis\n"
     ]
    },
    {
     "data": {
      "text/plain": [
       "False"
      ]
     },
     "execution_count": 54,
     "metadata": {},
     "output_type": "execute_result"
    }
   ],
   "source": [
    "\n",
    "\"\"\"\n",
    "uses hashmap \n",
    "time complexity =o(n)\n",
    "space compelixity =o(n)\n",
    "\"\"\"\n",
    "\n",
    "def checkPermutation(string1,string2):\n",
    "    if len(string1) != len(string2):\n",
    "        return 'No'\n",
    "    dic1={}\n",
    "    dic2={}\n",
    "    for i in range(len(string1)):\n",
    "#         dic1[i]=string1[i]\n",
    "        dic1[string1[i]]=dic1.get(string1[i],0)+1\n",
    "    for i in range(len(string2)):\n",
    "#         dic2[i]=string2[i]\n",
    "        dic2[string2[i]]=dic2.get(string2[i],0)+1    \n",
    "    flag=False\n",
    "#     a  b  c  d \n",
    "#     d  a  b  c\n",
    "    for i in range(len(string1)):\n",
    "        if string1[i] in dic1 and string2[i] in dic1:\n",
    "            flag=True\n",
    "        else:\n",
    "            flag=False\n",
    "    return flag\n",
    "string1=input('enter string 1')\n",
    "string2=input('enter string 2')\n",
    "checkPermutation(string1,string2)"
   ]
  }
 ],
 "metadata": {
  "kernelspec": {
   "display_name": "Python 3",
   "language": "python",
   "name": "python3"
  },
  "language_info": {
   "codemirror_mode": {
    "name": "ipython",
    "version": 3
   },
   "file_extension": ".py",
   "mimetype": "text/x-python",
   "name": "python",
   "nbconvert_exporter": "python",
   "pygments_lexer": "ipython3",
   "version": "3.7.3"
  }
 },
 "nbformat": 4,
 "nbformat_minor": 2
}
